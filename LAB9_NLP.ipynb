{
  "cells": [
    {
      "cell_type": "code",
      "execution_count": null,
      "metadata": {
        "id": "gkIfxMd6DPxf"
      },
      "outputs": [],
      "source": [
        "import pandas as pd\n",
        "import csv"
      ]
    },
    {
      "cell_type": "markdown",
      "metadata": {
        "id": "IEMDTGcrIlaH"
      },
      "source": []
    },
    {
      "cell_type": "code",
      "execution_count": null,
      "metadata": {
        "id": "RqajXWzvEFo0"
      },
      "outputs": [],
      "source": [
        "npr = pd.read_csv('/content/npr.csv')"
      ]
    },
    {
      "cell_type": "code",
      "execution_count": null,
      "metadata": {
        "colab": {
          "base_uri": "https://localhost:8080/",
          "height": 206
        },
        "id": "cCP4ff1cEl54",
        "outputId": "1d0ccaf7-ecf6-409a-9c31-4fbcabd71e93"
      },
      "outputs": [
        {
          "data": {
            "application/vnd.google.colaboratory.intrinsic+json": {
              "summary": "{\n  \"name\": \"npr\",\n  \"rows\": 11992,\n  \"fields\": [\n    {\n      \"column\": \"Article\",\n      \"properties\": {\n        \"dtype\": \"string\",\n        \"num_unique_values\": 11991,\n        \"samples\": [\n          \"Last week, physicists at the National Institute for Standards and Technology reported they\\u2019d cooled an object to a million times colder than room temperature. It was a record for the   science of  . In this field, researchers inch ever closer to  \\u2014   but never reach  \\u2014   the state of absolute zero temperature. It\\u2019s a science that has some very cool (pun very much intended) applications including   gravity wave detectors for \\u201dhearing\\u201d distant black hole mergers. But moving beyond these applications, why is   so hard to begin with? Why can\\u2019t we just get to absolute zero degrees and be done with it? The answer to this question drops us straight into one of the quantum universe\\u2019s most startling features: The world never rests. To see what this means, let\\u2019s remind ourselves about the meaning of \\u201dtemperature.\\u201d Without getting too technical (we should really be talking about entropy here) temperature for physicists is a measure of random motion. Imagine the gas molecules in the air around you are little cue balls of matter. The higher the air temperature, the faster those little orbs of matter will be ricocheting around the room, bouncing off the walls and each other. So cooling the air means finding some means to slow the molecules down. From this perspective, there there\\u2019s no conceptual reason why you shouldn\\u2019t be able bring them entirely to a halt. Do that, and the air would have a temperature of \\u201dabsolute zero\\u201d degrees (as measured in units called Kelvins. In Fahrenheit, this would be  . 67 degrees). But, it turns out, nature doesn\\u2019t work that way. The universe doesn\\u2019t \\u201ddo\\u201d zero temperatures because it doesn\\u2019t do zero motion. Thinking about matter and motion in the way we described above is what we physicists call \\u201da classical picture.\\u201d In classical physics, matter is made of tiny particles of \\u201dstuff\\u201d and motion is just the change in the particles position with time. It all makes intuitive sense based on our experience of the world at the scale of baseballs and boulders. But a hundred years or so ago, physicists began probing the world on the scale of atoms. What they found was the classical, intuitive picture didn\\u2019t work well for explaining their experiments. In response, they developed a new kind of physics. In an astonishing burst of creativity, they kept key principles from the classical world  \\u2014   like the conservation of energy  \\u2014   but added new rules. One of these was the Uncertainty Principle, which essentially told us that reality is fuzzy at its root level. To be exact, certain pairs of properties  \\u2014   like motion and position  \\u2014   can never be known exactly. The Uncertainty Principle isn\\u2019t saying there\\u2019s something wrong with our instruments. Instead, it tells us there\\u2019s something wrong with our classical intuitions. In particular, when it comes to motion, it tells us it\\u2019s impossible to know the position and the motion of a particle exactly. The more you lock in the position of a particle, the wider the range of velocities the particle can have. So what does this have to do with temperature? Absolute zero should mean bringing particles to a halt. But that would imply you knew exactly where they were. You had them perfectly \\u201dlocalized.\\u201d If that\\u2019s the case, then the Uncertainty Principle demands there must be some uncertainty in their motion. They can\\u2019t be perfectly known to be perfectly at rest. The deeper meaning of this this quantum logic is that the universe can never be at rest. There is a \\u201dfloor\\u201d to how much things can be slowed down (or cooled). It\\u2019s impossible to go below that floor (though scientists do get ever more clever in skirting its edges). The implications of this can get pretty strange. Imagine we put a particle, like an electron, in a box. Now we ask: What\\u2019s the lowest energy state of the electron + box system? In classical physics, it would just be the electron sitting there unmoving  \\u2014   i. e. zero motion, hence zero energy. But quantum physics won\\u2019t allow such a thing as zero energy (because of the Uncertainty Principle). Instead, the system has   \\u201dground state\\u201d energy with the electron bouncing back and forth between the box walls. That\\u2019s as low as you can go. The electron can\\u2019t be stopped. Take this idea further, and you get to the delicious idea of vacuum energy. There the Uncertainty Principle demands that there can be no pure and perfect vacuum with a state of zero energy. Thus, in quantum physics, the vacuum is not empty but is a seething froth of \\u201dvirtual particles\\u201d that are never manifested and yet have a verifiable effect on the particles we do see. No vacuum. No zero energy. No zero temperature. No common sense expectation about the world\\u2019s behavior. The discovery that the quantum world was the foundation for our   classical experience was a triumph of science. It was a validation of science\\u2019s ability to take us beyond our limited senses and limited concepts. There is no way to \\u201dpicture\\u201d this quantum world with our classical imaginations. Instead, what we found was a new frontier. At its root, quantum physics showed us that this world we inhabit is dynamic to its very core: buzzing, roaring, shuddering and trembling like an infinite Jackson Pollack painting. It is not just richer than we imagined, but stranger and more wonderful than we can imagine. That view, hidden in the impossibility of absolute zero temperature, is a gift that science has given us all. Now what are we to make of it? Adam Frank is a   of the 13. 7 blog, an astrophysics professor at the University of Rochester, a book author and a   \\u201devangelist of science.\\u201d You can keep up with more of what Adam is thinking on Facebook and Twitter: @adamfrank4\",\n          \"President Trump hosted Russian Foreign Minister Sergey Lavrov at the White House on Wednesday, one day after firing the man whose agency is investigating Russia\\u2019s meddling in the 2016 election that brought Trump to power. Trump fired   FBI Director James Comey, who told Congress earlier this year that his agency has been investigating Russia\\u2019s actions  \\u2014   and possible ties to anyone associated with the Trump campaign  \\u2014   since July. As NPR\\u2019s Domenico Montanaro reports, the firing of Comey with more than six years left on his term in office has prompted a flurry of questions about the president\\u2019s motives  \\u2014   and about what\\u2019s next. Lavrov\\u2019s meeting with the president was scheduled for 10:30 a. m. ET, and it was declared closed to the press. Russian agencies tweeted photos from the Oval Office showing that in addition to Lavrov, Trump shook hands with Russia\\u2019s ambassador to America, Sergey Kislyak  \\u2014   a key figure in the investigation into Trump\\u2019s ousted national security adviser, Michael Flynn. After the Lavrov session had concluded, members of the U. S. media were allowed into the Oval Office, where they found the president sitting with Henry Kissinger, who served as President Richard Nixon\\u2019s secretary of state. The meeting hadn\\u2019t been listed on the president\\u2019s official schedule. Trump said he and Kissinger had met to talk \\u201dabout Russia and various other matters,\\u201d according to the pool report. To a question about Comey, Trump reportedly replied, \\u201dHe wasn\\u2019t doing a good job. Very simply. He was not doing a good job.\\u201d The president also said the issue had not affected his meeting with Lavrov. Lavrov arrived in Washington on Tuesday. He met with Secretary of State Rex Tillerson at the White House early Wednesday, ahead of his visit to the Oval Office. Tillerson and Lavrov made a brief appearance Wednesday morning for a   and as Tillerson began to lead his guest back behind closed doors, Lavrov responded to a question about Comey\\u2019s firing. When a reporter asked whether the dismissal has \\u201dcast a shadow\\u201d over their talks, Lavrov stopped and seemed to look genuinely quizzical when he responded, \\u201dWas he fired?\\u201d  \\u2014   but then adopted a deadpan tone as he told the reporter, \\u201dYou are kidding, you are kidding.\\u201d With a theatrical twitch of his head, the Russian diplomat then followed his American counterpart away from the media. The exchange was not included in the State Department\\u2019s brief video snippet from the   that it posted to Twitter. Tillerson\\u2019s office said his talks with Lavrov would focus on \\u201dUkraine, Syria, and bilateral issues.\\u201d But the Russians\\u2019 visit to the White House also came as the Kremlin made its first public comments on Comey\\u2019s removal. When Russian presidential spokesman Dmitry Peskov was asked how the firing might affect U. S.  relations, Peskov replied, \\u201dWe hope that it will not affect them at all. That\\u2019s the United States\\u2019 internal affair. That\\u2019s the U. S. president\\u2019s independent decision, which has nothing to do and should have nothing to do with Russia.\\u201d Comey\\u2019s dismissal has sparked new calls for an independent probe into Russia\\u2019s attempts to influence last year\\u2019s U. S. presidential election  \\u2014   despite the Trump administration\\u2019s assertion that Comey was removed over his handling of the investigation into Clinton\\u2019s private email server. \\u201dThis is nothing less than Nixonian,\\u201d said Patrick Leahy,  . a longtime member of the Senate Judiciary Committee. Announcing Comey\\u2019s abrupt firing Tuesday afternoon, White House press secretary Sean Spicer said the president \\u201dacted based on the clear recommendations of both Deputy Attorney General Rod Rosenstein and Attorney General Jeff Sessions.\\u201d\",\n          \"Republican presidential nominee Donald Trump has been calling for a criminal investigation of his political opponent Hillary Clinton on the campaign trail this year. Trump is angry the FBI probe of Clinton\\u2019s email server ended with no charges. Now, he says, an independent outsider needs to look at the Clinton Foundation. \\u201dThe Justice Department is required to appoint an independent special prosecutor because it has proven itself to be really, sadly, a political arm of the White House,\\u201d Trump said in Akron, Ohio, last week. Trump has offered no evidence to back up his claims that the Justice Department has been corrupted. But his call for a special prosecutor sounds familiar to people who study the intersection of law and politics. \\u201dIf you look at the chronology, pretty much the political party that does not control the White House tends to want special prosecutors and independent counsel laws,\\u201d said Ken Gormley, president of Duquesne University in Pittsburgh and the author of two books on special prosecutors. \\u201dAs soon as the party is in the White House, they don\\u2019t want it anymore.\\u201d In modern times, the idea first cropped up during the 1970s. President Richard Nixon notoriously fired a special prosecutor who was getting close to the tapes that would bring down his administration. Five months after what became known as the Saturday Night Massacre, Congress started work on an independent counsel law. The idea was to insulate sensitive criminal investigations from meddling by the White House. The law would stand for about 20 years. It didn\\u2019t produce many criminal convictions, but it did stir up a lot of trouble for presidents  \\u2014   and the people close to them. In 1996, Hillary Clinton became the first sitting first lady to testify before a grand jury. This one was investigating the Whitewater affair, an investigation that began with a real estate investment and morphed into scrutiny of President Bill Clinton\\u2019s sexual improprieties. Hillary Clinton was never charged with wrongdoing, but the investigation left a mark. Years later, Gormley interviewed Bill Clinton about it. \\u201dHe made clear that his decision to allow and endorse the appointment of an independent counsel in the Whitewater matter was one of the biggest mistakes of his presidency,\\u201d Gormley said. \\u201dIn fact, the words he used at one point is that it was like Wile E. Coyote and the Road Runner. And almost from the moment he was in the White House, there were political opponents using special prosecutors to bring him down, and they were off to the races.\\u201d By 1999, when Congress considered whether to renew the statute, opposition came from nearly all sides. Even Whitewater independent counsel Ken Starr told Congress the law had become a political weapon. \\u201dThe statutory mechanism intended to enhance confidence in law enforcement had the effect of weakening it,\\u201d Starr said, in arguing the law should not be reauthorized. \\u201dJurisdiction and authority over these sensitive matters ought to be returned to the Justice Department. And who will oversee them? The Congress, the press, the public.\\u201d That\\u2019s exactly what happened. The law expired. But the Justice Department can still use special prosecutors. They\\u2019re career lawyers, protected from political leaders at Justice by a firewall. During the George W. Bush years, special prosecutor Patrick Fitzgerald charged and convicted a top aide to the vice president. Justice Department leaders went on to deploy special prosecutors to investigate the firings of U. S. attorneys and the destruction of videotapes that showed torture of detainees. But authorities have relied on those prosecutors only sparingly, a position adopted by many, including Gormley. \\u201dI think I\\u2019ve come to the conclusion that we are better off when we have less of these investigations rather than more,\\u201d he said. \\u201dThey should be reserved for very special and extreme occasions.\\u201d Otherwise, Gormley argued, they could distract from what\\u2019s really important. \\u201dAs we as a country were just obsessed with the issue of Whitewater, Paula Jones, Monica Lewinsky and all of these distractions during the 1990s, there were people inside and outside the country literally plotting our attack,\\u201d he said. One of them, Gormley said, was Osama bin Laden.\"\n        ],\n        \"semantic_type\": \"\",\n        \"description\": \"\"\n      }\n    }\n  ]\n}",
              "type": "dataframe",
              "variable_name": "npr"
            },
            "text/html": [
              "\n",
              "  <div id=\"df-cfc404f1-3aee-4eea-9f49-3cd7051d7dc5\" class=\"colab-df-container\">\n",
              "    <div>\n",
              "<style scoped>\n",
              "    .dataframe tbody tr th:only-of-type {\n",
              "        vertical-align: middle;\n",
              "    }\n",
              "\n",
              "    .dataframe tbody tr th {\n",
              "        vertical-align: top;\n",
              "    }\n",
              "\n",
              "    .dataframe thead th {\n",
              "        text-align: right;\n",
              "    }\n",
              "</style>\n",
              "<table border=\"1\" class=\"dataframe\">\n",
              "  <thead>\n",
              "    <tr style=\"text-align: right;\">\n",
              "      <th></th>\n",
              "      <th>Article</th>\n",
              "    </tr>\n",
              "  </thead>\n",
              "  <tbody>\n",
              "    <tr>\n",
              "      <th>0</th>\n",
              "      <td>In the Washington of 2016, even when the polic...</td>\n",
              "    </tr>\n",
              "    <tr>\n",
              "      <th>1</th>\n",
              "      <td>Donald Trump has used Twitter  —   his prefe...</td>\n",
              "    </tr>\n",
              "    <tr>\n",
              "      <th>2</th>\n",
              "      <td>Donald Trump is unabashedly praising Russian...</td>\n",
              "    </tr>\n",
              "    <tr>\n",
              "      <th>3</th>\n",
              "      <td>Updated at 2:50 p. m. ET, Russian President Vl...</td>\n",
              "    </tr>\n",
              "    <tr>\n",
              "      <th>4</th>\n",
              "      <td>From photography, illustration and video, to d...</td>\n",
              "    </tr>\n",
              "  </tbody>\n",
              "</table>\n",
              "</div>\n",
              "    <div class=\"colab-df-buttons\">\n",
              "\n",
              "  <div class=\"colab-df-container\">\n",
              "    <button class=\"colab-df-convert\" onclick=\"convertToInteractive('df-cfc404f1-3aee-4eea-9f49-3cd7051d7dc5')\"\n",
              "            title=\"Convert this dataframe to an interactive table.\"\n",
              "            style=\"display:none;\">\n",
              "\n",
              "  <svg xmlns=\"http://www.w3.org/2000/svg\" height=\"24px\" viewBox=\"0 -960 960 960\">\n",
              "    <path d=\"M120-120v-720h720v720H120Zm60-500h600v-160H180v160Zm220 220h160v-160H400v160Zm0 220h160v-160H400v160ZM180-400h160v-160H180v160Zm440 0h160v-160H620v160ZM180-180h160v-160H180v160Zm440 0h160v-160H620v160Z\"/>\n",
              "  </svg>\n",
              "    </button>\n",
              "\n",
              "  <style>\n",
              "    .colab-df-container {\n",
              "      display:flex;\n",
              "      gap: 12px;\n",
              "    }\n",
              "\n",
              "    .colab-df-convert {\n",
              "      background-color: #E8F0FE;\n",
              "      border: none;\n",
              "      border-radius: 50%;\n",
              "      cursor: pointer;\n",
              "      display: none;\n",
              "      fill: #1967D2;\n",
              "      height: 32px;\n",
              "      padding: 0 0 0 0;\n",
              "      width: 32px;\n",
              "    }\n",
              "\n",
              "    .colab-df-convert:hover {\n",
              "      background-color: #E2EBFA;\n",
              "      box-shadow: 0px 1px 2px rgba(60, 64, 67, 0.3), 0px 1px 3px 1px rgba(60, 64, 67, 0.15);\n",
              "      fill: #174EA6;\n",
              "    }\n",
              "\n",
              "    .colab-df-buttons div {\n",
              "      margin-bottom: 4px;\n",
              "    }\n",
              "\n",
              "    [theme=dark] .colab-df-convert {\n",
              "      background-color: #3B4455;\n",
              "      fill: #D2E3FC;\n",
              "    }\n",
              "\n",
              "    [theme=dark] .colab-df-convert:hover {\n",
              "      background-color: #434B5C;\n",
              "      box-shadow: 0px 1px 3px 1px rgba(0, 0, 0, 0.15);\n",
              "      filter: drop-shadow(0px 1px 2px rgba(0, 0, 0, 0.3));\n",
              "      fill: #FFFFFF;\n",
              "    }\n",
              "  </style>\n",
              "\n",
              "    <script>\n",
              "      const buttonEl =\n",
              "        document.querySelector('#df-cfc404f1-3aee-4eea-9f49-3cd7051d7dc5 button.colab-df-convert');\n",
              "      buttonEl.style.display =\n",
              "        google.colab.kernel.accessAllowed ? 'block' : 'none';\n",
              "\n",
              "      async function convertToInteractive(key) {\n",
              "        const element = document.querySelector('#df-cfc404f1-3aee-4eea-9f49-3cd7051d7dc5');\n",
              "        const dataTable =\n",
              "          await google.colab.kernel.invokeFunction('convertToInteractive',\n",
              "                                                    [key], {});\n",
              "        if (!dataTable) return;\n",
              "\n",
              "        const docLinkHtml = 'Like what you see? Visit the ' +\n",
              "          '<a target=\"_blank\" href=https://colab.research.google.com/notebooks/data_table.ipynb>data table notebook</a>'\n",
              "          + ' to learn more about interactive tables.';\n",
              "        element.innerHTML = '';\n",
              "        dataTable['output_type'] = 'display_data';\n",
              "        await google.colab.output.renderOutput(dataTable, element);\n",
              "        const docLink = document.createElement('div');\n",
              "        docLink.innerHTML = docLinkHtml;\n",
              "        element.appendChild(docLink);\n",
              "      }\n",
              "    </script>\n",
              "  </div>\n",
              "\n",
              "\n",
              "<div id=\"df-1b37d3ff-090b-4161-bed0-c0159404e4b2\">\n",
              "  <button class=\"colab-df-quickchart\" onclick=\"quickchart('df-1b37d3ff-090b-4161-bed0-c0159404e4b2')\"\n",
              "            title=\"Suggest charts\"\n",
              "            style=\"display:none;\">\n",
              "\n",
              "<svg xmlns=\"http://www.w3.org/2000/svg\" height=\"24px\"viewBox=\"0 0 24 24\"\n",
              "     width=\"24px\">\n",
              "    <g>\n",
              "        <path d=\"M19 3H5c-1.1 0-2 .9-2 2v14c0 1.1.9 2 2 2h14c1.1 0 2-.9 2-2V5c0-1.1-.9-2-2-2zM9 17H7v-7h2v7zm4 0h-2V7h2v10zm4 0h-2v-4h2v4z\"/>\n",
              "    </g>\n",
              "</svg>\n",
              "  </button>\n",
              "\n",
              "<style>\n",
              "  .colab-df-quickchart {\n",
              "      --bg-color: #E8F0FE;\n",
              "      --fill-color: #1967D2;\n",
              "      --hover-bg-color: #E2EBFA;\n",
              "      --hover-fill-color: #174EA6;\n",
              "      --disabled-fill-color: #AAA;\n",
              "      --disabled-bg-color: #DDD;\n",
              "  }\n",
              "\n",
              "  [theme=dark] .colab-df-quickchart {\n",
              "      --bg-color: #3B4455;\n",
              "      --fill-color: #D2E3FC;\n",
              "      --hover-bg-color: #434B5C;\n",
              "      --hover-fill-color: #FFFFFF;\n",
              "      --disabled-bg-color: #3B4455;\n",
              "      --disabled-fill-color: #666;\n",
              "  }\n",
              "\n",
              "  .colab-df-quickchart {\n",
              "    background-color: var(--bg-color);\n",
              "    border: none;\n",
              "    border-radius: 50%;\n",
              "    cursor: pointer;\n",
              "    display: none;\n",
              "    fill: var(--fill-color);\n",
              "    height: 32px;\n",
              "    padding: 0;\n",
              "    width: 32px;\n",
              "  }\n",
              "\n",
              "  .colab-df-quickchart:hover {\n",
              "    background-color: var(--hover-bg-color);\n",
              "    box-shadow: 0 1px 2px rgba(60, 64, 67, 0.3), 0 1px 3px 1px rgba(60, 64, 67, 0.15);\n",
              "    fill: var(--button-hover-fill-color);\n",
              "  }\n",
              "\n",
              "  .colab-df-quickchart-complete:disabled,\n",
              "  .colab-df-quickchart-complete:disabled:hover {\n",
              "    background-color: var(--disabled-bg-color);\n",
              "    fill: var(--disabled-fill-color);\n",
              "    box-shadow: none;\n",
              "  }\n",
              "\n",
              "  .colab-df-spinner {\n",
              "    border: 2px solid var(--fill-color);\n",
              "    border-color: transparent;\n",
              "    border-bottom-color: var(--fill-color);\n",
              "    animation:\n",
              "      spin 1s steps(1) infinite;\n",
              "  }\n",
              "\n",
              "  @keyframes spin {\n",
              "    0% {\n",
              "      border-color: transparent;\n",
              "      border-bottom-color: var(--fill-color);\n",
              "      border-left-color: var(--fill-color);\n",
              "    }\n",
              "    20% {\n",
              "      border-color: transparent;\n",
              "      border-left-color: var(--fill-color);\n",
              "      border-top-color: var(--fill-color);\n",
              "    }\n",
              "    30% {\n",
              "      border-color: transparent;\n",
              "      border-left-color: var(--fill-color);\n",
              "      border-top-color: var(--fill-color);\n",
              "      border-right-color: var(--fill-color);\n",
              "    }\n",
              "    40% {\n",
              "      border-color: transparent;\n",
              "      border-right-color: var(--fill-color);\n",
              "      border-top-color: var(--fill-color);\n",
              "    }\n",
              "    60% {\n",
              "      border-color: transparent;\n",
              "      border-right-color: var(--fill-color);\n",
              "    }\n",
              "    80% {\n",
              "      border-color: transparent;\n",
              "      border-right-color: var(--fill-color);\n",
              "      border-bottom-color: var(--fill-color);\n",
              "    }\n",
              "    90% {\n",
              "      border-color: transparent;\n",
              "      border-bottom-color: var(--fill-color);\n",
              "    }\n",
              "  }\n",
              "</style>\n",
              "\n",
              "  <script>\n",
              "    async function quickchart(key) {\n",
              "      const quickchartButtonEl =\n",
              "        document.querySelector('#' + key + ' button');\n",
              "      quickchartButtonEl.disabled = true;  // To prevent multiple clicks.\n",
              "      quickchartButtonEl.classList.add('colab-df-spinner');\n",
              "      try {\n",
              "        const charts = await google.colab.kernel.invokeFunction(\n",
              "            'suggestCharts', [key], {});\n",
              "      } catch (error) {\n",
              "        console.error('Error during call to suggestCharts:', error);\n",
              "      }\n",
              "      quickchartButtonEl.classList.remove('colab-df-spinner');\n",
              "      quickchartButtonEl.classList.add('colab-df-quickchart-complete');\n",
              "    }\n",
              "    (() => {\n",
              "      let quickchartButtonEl =\n",
              "        document.querySelector('#df-1b37d3ff-090b-4161-bed0-c0159404e4b2 button');\n",
              "      quickchartButtonEl.style.display =\n",
              "        google.colab.kernel.accessAllowed ? 'block' : 'none';\n",
              "    })();\n",
              "  </script>\n",
              "</div>\n",
              "    </div>\n",
              "  </div>\n"
            ],
            "text/plain": [
              "                                             Article\n",
              "0  In the Washington of 2016, even when the polic...\n",
              "1    Donald Trump has used Twitter  —   his prefe...\n",
              "2    Donald Trump is unabashedly praising Russian...\n",
              "3  Updated at 2:50 p. m. ET, Russian President Vl...\n",
              "4  From photography, illustration and video, to d..."
            ]
          },
          "execution_count": 3,
          "metadata": {},
          "output_type": "execute_result"
        }
      ],
      "source": [
        "npr.head()"
      ]
    },
    {
      "cell_type": "code",
      "execution_count": null,
      "metadata": {
        "id": "D5aNb6KfFHKr"
      },
      "outputs": [],
      "source": [
        "from sklearn.feature_extraction.text import CountVectorizer"
      ]
    },
    {
      "cell_type": "code",
      "execution_count": null,
      "metadata": {
        "id": "Gdj84KJQFPgL"
      },
      "outputs": [],
      "source": [
        "cv = CountVectorizer(max_df=0.95, min_df=2, stop_words='english')\n"
      ]
    },
    {
      "cell_type": "markdown",
      "metadata": {
        "id": "mI4MBzD3H1KI"
      },
      "source": []
    },
    {
      "cell_type": "code",
      "execution_count": null,
      "metadata": {
        "id": "VlZa03BWFhcF"
      },
      "outputs": [],
      "source": [
        "dtm = cv.fit_transform(npr['Article'])"
      ]
    },
    {
      "cell_type": "code",
      "execution_count": null,
      "metadata": {
        "id": "rTjb_UgJFjxM"
      },
      "outputs": [],
      "source": [
        "from sklearn.decomposition import LatentDirichletAllocation"
      ]
    },
    {
      "cell_type": "code",
      "execution_count": null,
      "metadata": {
        "id": "a8xtQpQ-FniI"
      },
      "outputs": [],
      "source": [
        "LDA=LatentDirichletAllocation(n_components=7,random_state=42)"
      ]
    },
    {
      "cell_type": "code",
      "execution_count": null,
      "metadata": {
        "colab": {
          "base_uri": "https://localhost:8080/",
          "height": 74
        },
        "id": "FYGbHTRbFuUE",
        "outputId": "94fa2764-b707-43d2-8475-cfeb8fe6d977"
      },
      "outputs": [
        {
          "data": {
            "text/html": [
              "<style>#sk-container-id-1 {color: black;background-color: white;}#sk-container-id-1 pre{padding: 0;}#sk-container-id-1 div.sk-toggleable {background-color: white;}#sk-container-id-1 label.sk-toggleable__label {cursor: pointer;display: block;width: 100%;margin-bottom: 0;padding: 0.3em;box-sizing: border-box;text-align: center;}#sk-container-id-1 label.sk-toggleable__label-arrow:before {content: \"▸\";float: left;margin-right: 0.25em;color: #696969;}#sk-container-id-1 label.sk-toggleable__label-arrow:hover:before {color: black;}#sk-container-id-1 div.sk-estimator:hover label.sk-toggleable__label-arrow:before {color: black;}#sk-container-id-1 div.sk-toggleable__content {max-height: 0;max-width: 0;overflow: hidden;text-align: left;background-color: #f0f8ff;}#sk-container-id-1 div.sk-toggleable__content pre {margin: 0.2em;color: black;border-radius: 0.25em;background-color: #f0f8ff;}#sk-container-id-1 input.sk-toggleable__control:checked~div.sk-toggleable__content {max-height: 200px;max-width: 100%;overflow: auto;}#sk-container-id-1 input.sk-toggleable__control:checked~label.sk-toggleable__label-arrow:before {content: \"▾\";}#sk-container-id-1 div.sk-estimator input.sk-toggleable__control:checked~label.sk-toggleable__label {background-color: #d4ebff;}#sk-container-id-1 div.sk-label input.sk-toggleable__control:checked~label.sk-toggleable__label {background-color: #d4ebff;}#sk-container-id-1 input.sk-hidden--visually {border: 0;clip: rect(1px 1px 1px 1px);clip: rect(1px, 1px, 1px, 1px);height: 1px;margin: -1px;overflow: hidden;padding: 0;position: absolute;width: 1px;}#sk-container-id-1 div.sk-estimator {font-family: monospace;background-color: #f0f8ff;border: 1px dotted black;border-radius: 0.25em;box-sizing: border-box;margin-bottom: 0.5em;}#sk-container-id-1 div.sk-estimator:hover {background-color: #d4ebff;}#sk-container-id-1 div.sk-parallel-item::after {content: \"\";width: 100%;border-bottom: 1px solid gray;flex-grow: 1;}#sk-container-id-1 div.sk-label:hover label.sk-toggleable__label {background-color: #d4ebff;}#sk-container-id-1 div.sk-serial::before {content: \"\";position: absolute;border-left: 1px solid gray;box-sizing: border-box;top: 0;bottom: 0;left: 50%;z-index: 0;}#sk-container-id-1 div.sk-serial {display: flex;flex-direction: column;align-items: center;background-color: white;padding-right: 0.2em;padding-left: 0.2em;position: relative;}#sk-container-id-1 div.sk-item {position: relative;z-index: 1;}#sk-container-id-1 div.sk-parallel {display: flex;align-items: stretch;justify-content: center;background-color: white;position: relative;}#sk-container-id-1 div.sk-item::before, #sk-container-id-1 div.sk-parallel-item::before {content: \"\";position: absolute;border-left: 1px solid gray;box-sizing: border-box;top: 0;bottom: 0;left: 50%;z-index: -1;}#sk-container-id-1 div.sk-parallel-item {display: flex;flex-direction: column;z-index: 1;position: relative;background-color: white;}#sk-container-id-1 div.sk-parallel-item:first-child::after {align-self: flex-end;width: 50%;}#sk-container-id-1 div.sk-parallel-item:last-child::after {align-self: flex-start;width: 50%;}#sk-container-id-1 div.sk-parallel-item:only-child::after {width: 0;}#sk-container-id-1 div.sk-dashed-wrapped {border: 1px dashed gray;margin: 0 0.4em 0.5em 0.4em;box-sizing: border-box;padding-bottom: 0.4em;background-color: white;}#sk-container-id-1 div.sk-label label {font-family: monospace;font-weight: bold;display: inline-block;line-height: 1.2em;}#sk-container-id-1 div.sk-label-container {text-align: center;}#sk-container-id-1 div.sk-container {/* jupyter's `normalize.less` sets `[hidden] { display: none; }` but bootstrap.min.css set `[hidden] { display: none !important; }` so we also need the `!important` here to be able to override the default hidden behavior on the sphinx rendered scikit-learn.org. See: https://github.com/scikit-learn/scikit-learn/issues/21755 */display: inline-block !important;position: relative;}#sk-container-id-1 div.sk-text-repr-fallback {display: none;}</style><div id=\"sk-container-id-1\" class=\"sk-top-container\"><div class=\"sk-text-repr-fallback\"><pre>LatentDirichletAllocation(n_components=7, random_state=42)</pre><b>In a Jupyter environment, please rerun this cell to show the HTML representation or trust the notebook. <br />On GitHub, the HTML representation is unable to render, please try loading this page with nbviewer.org.</b></div><div class=\"sk-container\" hidden><div class=\"sk-item\"><div class=\"sk-estimator sk-toggleable\"><input class=\"sk-toggleable__control sk-hidden--visually\" id=\"sk-estimator-id-1\" type=\"checkbox\" checked><label for=\"sk-estimator-id-1\" class=\"sk-toggleable__label sk-toggleable__label-arrow\">LatentDirichletAllocation</label><div class=\"sk-toggleable__content\"><pre>LatentDirichletAllocation(n_components=7, random_state=42)</pre></div></div></div></div></div>"
            ],
            "text/plain": [
              "LatentDirichletAllocation(n_components=7, random_state=42)"
            ]
          },
          "execution_count": 9,
          "metadata": {},
          "output_type": "execute_result"
        }
      ],
      "source": [
        "LDA.fit(dtm)"
      ]
    },
    {
      "cell_type": "code",
      "execution_count": null,
      "metadata": {
        "id": "9X5dAQ5zF3D5"
      },
      "outputs": [],
      "source": [
        "import random"
      ]
    },
    {
      "cell_type": "code",
      "execution_count": null,
      "metadata": {
        "id": "6OeDEor3J3uu"
      },
      "outputs": [],
      "source": [
        "features = cv.get_feature_names_out()"
      ]
    },
    {
      "cell_type": "code",
      "execution_count": null,
      "metadata": {
        "colab": {
          "base_uri": "https://localhost:8080/"
        },
        "id": "1pEncCsbJ9lF",
        "outputId": "dbb48782-86a1-4d72-85be-44a190e0180e"
      },
      "outputs": [
        {
          "data": {
            "text/plain": [
              "54777"
            ]
          },
          "execution_count": 12,
          "metadata": {},
          "output_type": "execute_result"
        }
      ],
      "source": [
        "len(features)"
      ]
    },
    {
      "cell_type": "code",
      "execution_count": null,
      "metadata": {
        "colab": {
          "base_uri": "https://localhost:8080/"
        },
        "id": "HZ-pY8FlF5YV",
        "outputId": "8a610324-2a2b-41a9-833b-8dd001590e40"
      },
      "outputs": [
        {
          "name": "stdout",
          "output_type": "stream",
          "text": [
            "storytellers\n",
            "gustav\n",
            "dollar\n",
            "posing\n",
            "madani\n",
            "regimen\n",
            "highly\n",
            "conduct\n",
            "tween\n",
            "obamas\n"
          ]
        }
      ],
      "source": [
        "for i in range(10):\n",
        "  random_word_id=random.randint(0,54776)\n",
        "  print(features[random_word_id])"
      ]
    },
    {
      "cell_type": "code",
      "execution_count": null,
      "metadata": {
        "colab": {
          "base_uri": "https://localhost:8080/"
        },
        "id": "qUl4ehWuGDyF",
        "outputId": "a8aea90e-13d8-4f52-a89b-ee777456587d"
      },
      "outputs": [
        {
          "name": "stdout",
          "output_type": "stream",
          "text": [
            "shines\n",
            "showpiece\n",
            "heating\n",
            "romantic\n",
            "baldonado\n",
            "profanity\n",
            "nevada\n",
            "jogs\n",
            "flattering\n",
            "secluded\n"
          ]
        }
      ],
      "source": [
        "for i in range(10):\n",
        "  random_word_id=random.randint(0,54776)\n",
        "  print(features[random_word_id])"
      ]
    },
    {
      "cell_type": "code",
      "execution_count": null,
      "metadata": {
        "colab": {
          "base_uri": "https://localhost:8080/"
        },
        "id": "s1zxF3rAKGrQ",
        "outputId": "453bed85-a06b-4f4c-dc40-7c93ed012292"
      },
      "outputs": [
        {
          "data": {
            "text/plain": [
              "7"
            ]
          },
          "execution_count": 15,
          "metadata": {},
          "output_type": "execute_result"
        }
      ],
      "source": [
        "len(LDA.components_)"
      ]
    },
    {
      "cell_type": "code",
      "execution_count": null,
      "metadata": {
        "colab": {
          "base_uri": "https://localhost:8080/"
        },
        "id": "5md7x0DwKJvB",
        "outputId": "7583aaaf-8316-4776-b9cc-4b2cd1d86a34"
      },
      "outputs": [
        {
          "data": {
            "text/plain": [
              "array([[8.64332806e+00, 2.38014333e+03, 1.42900522e-01, ...,\n",
              "        1.43006821e-01, 1.42902042e-01, 1.42861626e-01],\n",
              "       [2.76191749e+01, 5.36394437e+02, 1.42857148e-01, ...,\n",
              "        1.42861973e-01, 1.42857147e-01, 1.42906875e-01],\n",
              "       [7.22783888e+00, 8.24033986e+02, 1.42857148e-01, ...,\n",
              "        6.14236247e+00, 2.14061364e+00, 1.42923753e-01],\n",
              "       ...,\n",
              "       [3.11488651e+00, 3.50409655e+02, 1.42857147e-01, ...,\n",
              "        1.42859912e-01, 1.42857146e-01, 1.42866614e-01],\n",
              "       [4.61486388e+01, 5.14408600e+01, 3.14281373e+00, ...,\n",
              "        1.43107628e-01, 1.43902481e-01, 2.14271779e+00],\n",
              "       [4.93991422e-01, 4.18841042e+02, 1.42857151e-01, ...,\n",
              "        1.42857146e-01, 1.43760101e-01, 1.42866201e-01]])"
            ]
          },
          "execution_count": 16,
          "metadata": {},
          "output_type": "execute_result"
        }
      ],
      "source": [
        "LDA.components_"
      ]
    },
    {
      "cell_type": "code",
      "execution_count": null,
      "metadata": {
        "colab": {
          "base_uri": "https://localhost:8080/"
        },
        "id": "pDQ2DcL8KP0v",
        "outputId": "144592f5-b5d0-4bfa-d8ad-bb49a2ae7ca7"
      },
      "outputs": [
        {
          "data": {
            "text/plain": [
              "54777"
            ]
          },
          "execution_count": 17,
          "metadata": {},
          "output_type": "execute_result"
        }
      ],
      "source": [
        "len(LDA.components_[0])"
      ]
    },
    {
      "cell_type": "code",
      "execution_count": null,
      "metadata": {
        "id": "RveXlI1zKTm0"
      },
      "outputs": [],
      "source": [
        "single_topic=LDA.components_[0]"
      ]
    },
    {
      "cell_type": "code",
      "execution_count": null,
      "metadata": {
        "id": "NJlTX_DPKZje"
      },
      "outputs": [],
      "source": [
        "single_topic=LDA.components_[0]"
      ]
    },
    {
      "cell_type": "code",
      "execution_count": null,
      "metadata": {
        "colab": {
          "base_uri": "https://localhost:8080/"
        },
        "id": "FhzSju9EKd-U",
        "outputId": "11081e7c-551c-40ca-9b29-4d8529c7d1a0"
      },
      "outputs": [
        {
          "data": {
            "text/plain": [
              "array([ 2475, 18302, 35285, ..., 22673, 42561, 42993])"
            ]
          },
          "execution_count": 20,
          "metadata": {},
          "output_type": "execute_result"
        }
      ],
      "source": [
        "single_topic.argsort()"
      ]
    },
    {
      "cell_type": "code",
      "execution_count": null,
      "metadata": {
        "colab": {
          "base_uri": "https://localhost:8080/"
        },
        "id": "KIjSLF9mKkkB",
        "outputId": "ab8e46e9-afde-4b91-a268-9a0d496a19f4"
      },
      "outputs": [
        {
          "data": {
            "text/plain": [
              "0.14285714309286987"
            ]
          },
          "execution_count": 21,
          "metadata": {},
          "output_type": "execute_result"
        }
      ],
      "source": [
        "single_topic[18302]\n"
      ]
    },
    {
      "cell_type": "code",
      "execution_count": null,
      "metadata": {
        "colab": {
          "base_uri": "https://localhost:8080/"
        },
        "id": "17y9vzSdKmjb",
        "outputId": "462176cb-bcb6-47e6-da7c-58c52e58286a"
      },
      "outputs": [
        {
          "data": {
            "text/plain": [
              "6247.245510521074"
            ]
          },
          "execution_count": 22,
          "metadata": {},
          "output_type": "execute_result"
        }
      ],
      "source": [
        "single_topic[42993]\n"
      ]
    },
    {
      "cell_type": "code",
      "execution_count": null,
      "metadata": {
        "colab": {
          "base_uri": "https://localhost:8080/"
        },
        "id": "2VixxnlCKoAK",
        "outputId": "cf65969b-d23c-413f-ed19-5b07e108e114"
      },
      "outputs": [
        {
          "data": {
            "text/plain": [
              "array([33390, 36310, 21228, 10425, 31464,  8149, 36283, 22673, 42561,\n",
              "       42993])"
            ]
          },
          "execution_count": 23,
          "metadata": {},
          "output_type": "execute_result"
        }
      ],
      "source": [
        "single_topic.argsort()[-10:]\n"
      ]
    },
    {
      "cell_type": "code",
      "execution_count": null,
      "metadata": {
        "id": "Ih3UWMCxLVVV"
      },
      "outputs": [],
      "source": []
    },
    {
      "cell_type": "code",
      "execution_count": null,
      "metadata": {
        "id": "2ol6ItS3L1Ki"
      },
      "outputs": [],
      "source": []
    },
    {
      "cell_type": "code",
      "execution_count": null,
      "metadata": {
        "colab": {
          "base_uri": "https://localhost:8080/"
        },
        "id": "JW-ZmISJLW-6",
        "outputId": "e2cb10fa-17ff-4634-96cb-91fec34629ce"
      },
      "outputs": [
        {
          "name": "stdout",
          "output_type": "stream",
          "text": [
            "new\n",
            "percent\n",
            "government\n",
            "company\n",
            "million\n",
            "care\n",
            "people\n",
            "health\n",
            "said\n",
            "says\n"
          ]
        }
      ],
      "source": [
        "top_word_indices = single_topic.argsort()[-10:]\n",
        "for index in top_word_indices:\n",
        "  print(features[index])"
      ]
    },
    {
      "cell_type": "code",
      "execution_count": null,
      "metadata": {
        "colab": {
          "base_uri": "https://localhost:8080/"
        },
        "id": "nSaG5OwpLYMM",
        "outputId": "e898ae3f-7a7a-418c-b246-278cf8689149"
      },
      "outputs": [
        {
          "name": "stdout",
          "output_type": "stream",
          "text": [
            "THE TOP 15 WORDS FOR TOPIC#0\n",
            "['companies', 'money', 'year', 'federal', '000', 'new', 'percent', 'government', 'company', 'million', 'care', 'people', 'health', 'said', 'says']\n",
            "\n",
            "\n",
            "THE TOP 15 WORDS FOR TOPIC#1\n",
            "['military', 'house', 'security', 'russia', 'government', 'npr', 'reports', 'says', 'news', 'people', 'told', 'police', 'president', 'trump', 'said']\n",
            "\n",
            "\n",
            "THE TOP 15 WORDS FOR TOPIC#2\n",
            "['way', 'world', 'family', 'home', 'day', 'time', 'water', 'city', 'new', 'years', 'food', 'just', 'people', 'like', 'says']\n",
            "\n",
            "\n",
            "THE TOP 15 WORDS FOR TOPIC#3\n",
            "['time', 'new', 'don', 'years', 'medical', 'disease', 'patients', 'just', 'children', 'study', 'like', 'women', 'health', 'people', 'says']\n",
            "\n",
            "\n",
            "THE TOP 15 WORDS FOR TOPIC#4\n",
            "['voters', 'vote', 'election', 'party', 'new', 'obama', 'court', 'republican', 'campaign', 'people', 'state', 'president', 'clinton', 'said', 'trump']\n",
            "\n",
            "\n",
            "THE TOP 15 WORDS FOR TOPIC#5\n",
            "['years', 'going', 've', 'life', 'don', 'new', 'way', 'music', 'really', 'time', 'know', 'think', 'people', 'just', 'like']\n",
            "\n",
            "\n",
            "THE TOP 15 WORDS FOR TOPIC#6\n",
            "['student', 'years', 'data', 'science', 'university', 'people', 'time', 'schools', 'just', 'education', 'new', 'like', 'students', 'school', 'says']\n",
            "\n",
            "\n"
          ]
        }
      ],
      "source": [
        "for index,topic in enumerate(LDA.components_):\n",
        "  print(f'THE TOP 15 WORDS FOR TOPIC#{index}')\n",
        "  print([features[i] for i in topic.argsort()[-15:]])\n",
        "  print('\\n')"
      ]
    },
    {
      "cell_type": "code",
      "execution_count": null,
      "metadata": {
        "colab": {
          "base_uri": "https://localhost:8080/"
        },
        "id": "glh85OHTMWen",
        "outputId": "48dcc604-af40-4897-c8f0-403831f89265"
      },
      "outputs": [
        {
          "data": {
            "text/plain": [
              "<11992x54777 sparse matrix of type '<class 'numpy.int64'>'\n",
              "\twith 3033388 stored elements in Compressed Sparse Row format>"
            ]
          },
          "execution_count": 26,
          "metadata": {},
          "output_type": "execute_result"
        }
      ],
      "source": [
        "dtm"
      ]
    },
    {
      "cell_type": "code",
      "execution_count": null,
      "metadata": {
        "colab": {
          "base_uri": "https://localhost:8080/"
        },
        "id": "4JOuiLR8MphW",
        "outputId": "b9ef3f61-3554-4fbd-d0eb-9e099d80628f"
      },
      "outputs": [
        {
          "data": {
            "text/plain": [
              "(11992, 54777)"
            ]
          },
          "execution_count": 27,
          "metadata": {},
          "output_type": "execute_result"
        }
      ],
      "source": [
        "dtm.shape"
      ]
    },
    {
      "cell_type": "code",
      "execution_count": null,
      "metadata": {
        "colab": {
          "base_uri": "https://localhost:8080/"
        },
        "id": "y6xLFqEXMqXv",
        "outputId": "5d419423-fd06-454e-cdac-77afff7ef4ae"
      },
      "outputs": [
        {
          "data": {
            "text/plain": [
              "11992"
            ]
          },
          "execution_count": 28,
          "metadata": {},
          "output_type": "execute_result"
        }
      ],
      "source": [
        "len(npr)"
      ]
    },
    {
      "cell_type": "code",
      "execution_count": null,
      "metadata": {
        "id": "moGa204mMrBm"
      },
      "outputs": [],
      "source": [
        "topic_results=LDA.transform(dtm)"
      ]
    },
    {
      "cell_type": "code",
      "execution_count": null,
      "metadata": {
        "colab": {
          "base_uri": "https://localhost:8080/"
        },
        "id": "xRFipEMxMulE",
        "outputId": "27749de4-4657-4651-b79c-9e2337b5ce83"
      },
      "outputs": [
        {
          "data": {
            "text/plain": [
              "array([1.61040465e-02, 6.83341493e-01, 2.25376318e-04, 2.25369288e-04,\n",
              "       2.99652737e-01, 2.25479379e-04, 2.25497980e-04])"
            ]
          },
          "execution_count": 30,
          "metadata": {},
          "output_type": "execute_result"
        }
      ],
      "source": [
        "topic_results[0]"
      ]
    },
    {
      "cell_type": "code",
      "execution_count": null,
      "metadata": {
        "colab": {
          "base_uri": "https://localhost:8080/"
        },
        "id": "Q9RUJ_U4Mx_e",
        "outputId": "f219baf2-4eec-41ae-eda6-bb7629e96c7e"
      },
      "outputs": [
        {
          "data": {
            "text/plain": [
              "array([0.02, 0.68, 0.  , 0.  , 0.3 , 0.  , 0.  ])"
            ]
          },
          "execution_count": 31,
          "metadata": {},
          "output_type": "execute_result"
        }
      ],
      "source": [
        "topic_results[0].round(2)\n"
      ]
    },
    {
      "cell_type": "code",
      "execution_count": null,
      "metadata": {
        "colab": {
          "base_uri": "https://localhost:8080/"
        },
        "id": "fGr-EhrkM0Y_",
        "outputId": "34dd9859-c6ea-4d0e-c063-fd032876866f"
      },
      "outputs": [
        {
          "data": {
            "text/plain": [
              "1"
            ]
          },
          "execution_count": 32,
          "metadata": {},
          "output_type": "execute_result"
        }
      ],
      "source": [
        "topic_results[0].argmax()\n"
      ]
    },
    {
      "cell_type": "code",
      "execution_count": null,
      "metadata": {
        "colab": {
          "base_uri": "https://localhost:8080/",
          "height": 363
        },
        "id": "Bpnal32ENA81",
        "outputId": "a478763b-6d0a-4031-aebc-a2f662d712f8"
      },
      "outputs": [
        {
          "data": {
            "application/vnd.google.colaboratory.intrinsic+json": {
              "summary": "{\n  \"name\": \"npr\",\n  \"rows\": 11992,\n  \"fields\": [\n    {\n      \"column\": \"Article\",\n      \"properties\": {\n        \"dtype\": \"string\",\n        \"num_unique_values\": 11991,\n        \"samples\": [\n          \"Last week, physicists at the National Institute for Standards and Technology reported they\\u2019d cooled an object to a million times colder than room temperature. It was a record for the   science of  . In this field, researchers inch ever closer to  \\u2014   but never reach  \\u2014   the state of absolute zero temperature. It\\u2019s a science that has some very cool (pun very much intended) applications including   gravity wave detectors for \\u201dhearing\\u201d distant black hole mergers. But moving beyond these applications, why is   so hard to begin with? Why can\\u2019t we just get to absolute zero degrees and be done with it? The answer to this question drops us straight into one of the quantum universe\\u2019s most startling features: The world never rests. To see what this means, let\\u2019s remind ourselves about the meaning of \\u201dtemperature.\\u201d Without getting too technical (we should really be talking about entropy here) temperature for physicists is a measure of random motion. Imagine the gas molecules in the air around you are little cue balls of matter. The higher the air temperature, the faster those little orbs of matter will be ricocheting around the room, bouncing off the walls and each other. So cooling the air means finding some means to slow the molecules down. From this perspective, there there\\u2019s no conceptual reason why you shouldn\\u2019t be able bring them entirely to a halt. Do that, and the air would have a temperature of \\u201dabsolute zero\\u201d degrees (as measured in units called Kelvins. In Fahrenheit, this would be  . 67 degrees). But, it turns out, nature doesn\\u2019t work that way. The universe doesn\\u2019t \\u201ddo\\u201d zero temperatures because it doesn\\u2019t do zero motion. Thinking about matter and motion in the way we described above is what we physicists call \\u201da classical picture.\\u201d In classical physics, matter is made of tiny particles of \\u201dstuff\\u201d and motion is just the change in the particles position with time. It all makes intuitive sense based on our experience of the world at the scale of baseballs and boulders. But a hundred years or so ago, physicists began probing the world on the scale of atoms. What they found was the classical, intuitive picture didn\\u2019t work well for explaining their experiments. In response, they developed a new kind of physics. In an astonishing burst of creativity, they kept key principles from the classical world  \\u2014   like the conservation of energy  \\u2014   but added new rules. One of these was the Uncertainty Principle, which essentially told us that reality is fuzzy at its root level. To be exact, certain pairs of properties  \\u2014   like motion and position  \\u2014   can never be known exactly. The Uncertainty Principle isn\\u2019t saying there\\u2019s something wrong with our instruments. Instead, it tells us there\\u2019s something wrong with our classical intuitions. In particular, when it comes to motion, it tells us it\\u2019s impossible to know the position and the motion of a particle exactly. The more you lock in the position of a particle, the wider the range of velocities the particle can have. So what does this have to do with temperature? Absolute zero should mean bringing particles to a halt. But that would imply you knew exactly where they were. You had them perfectly \\u201dlocalized.\\u201d If that\\u2019s the case, then the Uncertainty Principle demands there must be some uncertainty in their motion. They can\\u2019t be perfectly known to be perfectly at rest. The deeper meaning of this this quantum logic is that the universe can never be at rest. There is a \\u201dfloor\\u201d to how much things can be slowed down (or cooled). It\\u2019s impossible to go below that floor (though scientists do get ever more clever in skirting its edges). The implications of this can get pretty strange. Imagine we put a particle, like an electron, in a box. Now we ask: What\\u2019s the lowest energy state of the electron + box system? In classical physics, it would just be the electron sitting there unmoving  \\u2014   i. e. zero motion, hence zero energy. But quantum physics won\\u2019t allow such a thing as zero energy (because of the Uncertainty Principle). Instead, the system has   \\u201dground state\\u201d energy with the electron bouncing back and forth between the box walls. That\\u2019s as low as you can go. The electron can\\u2019t be stopped. Take this idea further, and you get to the delicious idea of vacuum energy. There the Uncertainty Principle demands that there can be no pure and perfect vacuum with a state of zero energy. Thus, in quantum physics, the vacuum is not empty but is a seething froth of \\u201dvirtual particles\\u201d that are never manifested and yet have a verifiable effect on the particles we do see. No vacuum. No zero energy. No zero temperature. No common sense expectation about the world\\u2019s behavior. The discovery that the quantum world was the foundation for our   classical experience was a triumph of science. It was a validation of science\\u2019s ability to take us beyond our limited senses and limited concepts. There is no way to \\u201dpicture\\u201d this quantum world with our classical imaginations. Instead, what we found was a new frontier. At its root, quantum physics showed us that this world we inhabit is dynamic to its very core: buzzing, roaring, shuddering and trembling like an infinite Jackson Pollack painting. It is not just richer than we imagined, but stranger and more wonderful than we can imagine. That view, hidden in the impossibility of absolute zero temperature, is a gift that science has given us all. Now what are we to make of it? Adam Frank is a   of the 13. 7 blog, an astrophysics professor at the University of Rochester, a book author and a   \\u201devangelist of science.\\u201d You can keep up with more of what Adam is thinking on Facebook and Twitter: @adamfrank4\",\n          \"President Trump hosted Russian Foreign Minister Sergey Lavrov at the White House on Wednesday, one day after firing the man whose agency is investigating Russia\\u2019s meddling in the 2016 election that brought Trump to power. Trump fired   FBI Director James Comey, who told Congress earlier this year that his agency has been investigating Russia\\u2019s actions  \\u2014   and possible ties to anyone associated with the Trump campaign  \\u2014   since July. As NPR\\u2019s Domenico Montanaro reports, the firing of Comey with more than six years left on his term in office has prompted a flurry of questions about the president\\u2019s motives  \\u2014   and about what\\u2019s next. Lavrov\\u2019s meeting with the president was scheduled for 10:30 a. m. ET, and it was declared closed to the press. Russian agencies tweeted photos from the Oval Office showing that in addition to Lavrov, Trump shook hands with Russia\\u2019s ambassador to America, Sergey Kislyak  \\u2014   a key figure in the investigation into Trump\\u2019s ousted national security adviser, Michael Flynn. After the Lavrov session had concluded, members of the U. S. media were allowed into the Oval Office, where they found the president sitting with Henry Kissinger, who served as President Richard Nixon\\u2019s secretary of state. The meeting hadn\\u2019t been listed on the president\\u2019s official schedule. Trump said he and Kissinger had met to talk \\u201dabout Russia and various other matters,\\u201d according to the pool report. To a question about Comey, Trump reportedly replied, \\u201dHe wasn\\u2019t doing a good job. Very simply. He was not doing a good job.\\u201d The president also said the issue had not affected his meeting with Lavrov. Lavrov arrived in Washington on Tuesday. He met with Secretary of State Rex Tillerson at the White House early Wednesday, ahead of his visit to the Oval Office. Tillerson and Lavrov made a brief appearance Wednesday morning for a   and as Tillerson began to lead his guest back behind closed doors, Lavrov responded to a question about Comey\\u2019s firing. When a reporter asked whether the dismissal has \\u201dcast a shadow\\u201d over their talks, Lavrov stopped and seemed to look genuinely quizzical when he responded, \\u201dWas he fired?\\u201d  \\u2014   but then adopted a deadpan tone as he told the reporter, \\u201dYou are kidding, you are kidding.\\u201d With a theatrical twitch of his head, the Russian diplomat then followed his American counterpart away from the media. The exchange was not included in the State Department\\u2019s brief video snippet from the   that it posted to Twitter. Tillerson\\u2019s office said his talks with Lavrov would focus on \\u201dUkraine, Syria, and bilateral issues.\\u201d But the Russians\\u2019 visit to the White House also came as the Kremlin made its first public comments on Comey\\u2019s removal. When Russian presidential spokesman Dmitry Peskov was asked how the firing might affect U. S.  relations, Peskov replied, \\u201dWe hope that it will not affect them at all. That\\u2019s the United States\\u2019 internal affair. That\\u2019s the U. S. president\\u2019s independent decision, which has nothing to do and should have nothing to do with Russia.\\u201d Comey\\u2019s dismissal has sparked new calls for an independent probe into Russia\\u2019s attempts to influence last year\\u2019s U. S. presidential election  \\u2014   despite the Trump administration\\u2019s assertion that Comey was removed over his handling of the investigation into Clinton\\u2019s private email server. \\u201dThis is nothing less than Nixonian,\\u201d said Patrick Leahy,  . a longtime member of the Senate Judiciary Committee. Announcing Comey\\u2019s abrupt firing Tuesday afternoon, White House press secretary Sean Spicer said the president \\u201dacted based on the clear recommendations of both Deputy Attorney General Rod Rosenstein and Attorney General Jeff Sessions.\\u201d\",\n          \"Republican presidential nominee Donald Trump has been calling for a criminal investigation of his political opponent Hillary Clinton on the campaign trail this year. Trump is angry the FBI probe of Clinton\\u2019s email server ended with no charges. Now, he says, an independent outsider needs to look at the Clinton Foundation. \\u201dThe Justice Department is required to appoint an independent special prosecutor because it has proven itself to be really, sadly, a political arm of the White House,\\u201d Trump said in Akron, Ohio, last week. Trump has offered no evidence to back up his claims that the Justice Department has been corrupted. But his call for a special prosecutor sounds familiar to people who study the intersection of law and politics. \\u201dIf you look at the chronology, pretty much the political party that does not control the White House tends to want special prosecutors and independent counsel laws,\\u201d said Ken Gormley, president of Duquesne University in Pittsburgh and the author of two books on special prosecutors. \\u201dAs soon as the party is in the White House, they don\\u2019t want it anymore.\\u201d In modern times, the idea first cropped up during the 1970s. President Richard Nixon notoriously fired a special prosecutor who was getting close to the tapes that would bring down his administration. Five months after what became known as the Saturday Night Massacre, Congress started work on an independent counsel law. The idea was to insulate sensitive criminal investigations from meddling by the White House. The law would stand for about 20 years. It didn\\u2019t produce many criminal convictions, but it did stir up a lot of trouble for presidents  \\u2014   and the people close to them. In 1996, Hillary Clinton became the first sitting first lady to testify before a grand jury. This one was investigating the Whitewater affair, an investigation that began with a real estate investment and morphed into scrutiny of President Bill Clinton\\u2019s sexual improprieties. Hillary Clinton was never charged with wrongdoing, but the investigation left a mark. Years later, Gormley interviewed Bill Clinton about it. \\u201dHe made clear that his decision to allow and endorse the appointment of an independent counsel in the Whitewater matter was one of the biggest mistakes of his presidency,\\u201d Gormley said. \\u201dIn fact, the words he used at one point is that it was like Wile E. Coyote and the Road Runner. And almost from the moment he was in the White House, there were political opponents using special prosecutors to bring him down, and they were off to the races.\\u201d By 1999, when Congress considered whether to renew the statute, opposition came from nearly all sides. Even Whitewater independent counsel Ken Starr told Congress the law had become a political weapon. \\u201dThe statutory mechanism intended to enhance confidence in law enforcement had the effect of weakening it,\\u201d Starr said, in arguing the law should not be reauthorized. \\u201dJurisdiction and authority over these sensitive matters ought to be returned to the Justice Department. And who will oversee them? The Congress, the press, the public.\\u201d That\\u2019s exactly what happened. The law expired. But the Justice Department can still use special prosecutors. They\\u2019re career lawyers, protected from political leaders at Justice by a firewall. During the George W. Bush years, special prosecutor Patrick Fitzgerald charged and convicted a top aide to the vice president. Justice Department leaders went on to deploy special prosecutors to investigate the firings of U. S. attorneys and the destruction of videotapes that showed torture of detainees. But authorities have relied on those prosecutors only sparingly, a position adopted by many, including Gormley. \\u201dI think I\\u2019ve come to the conclusion that we are better off when we have less of these investigations rather than more,\\u201d he said. \\u201dThey should be reserved for very special and extreme occasions.\\u201d Otherwise, Gormley argued, they could distract from what\\u2019s really important. \\u201dAs we as a country were just obsessed with the issue of Whitewater, Paula Jones, Monica Lewinsky and all of these distractions during the 1990s, there were people inside and outside the country literally plotting our attack,\\u201d he said. One of them, Gormley said, was Osama bin Laden.\"\n        ],\n        \"semantic_type\": \"\",\n        \"description\": \"\"\n      }\n    }\n  ]\n}",
              "type": "dataframe",
              "variable_name": "npr"
            },
            "text/html": [
              "\n",
              "  <div id=\"df-395014eb-bc10-49e2-af2f-0572da37ed74\" class=\"colab-df-container\">\n",
              "    <div>\n",
              "<style scoped>\n",
              "    .dataframe tbody tr th:only-of-type {\n",
              "        vertical-align: middle;\n",
              "    }\n",
              "\n",
              "    .dataframe tbody tr th {\n",
              "        vertical-align: top;\n",
              "    }\n",
              "\n",
              "    .dataframe thead th {\n",
              "        text-align: right;\n",
              "    }\n",
              "</style>\n",
              "<table border=\"1\" class=\"dataframe\">\n",
              "  <thead>\n",
              "    <tr style=\"text-align: right;\">\n",
              "      <th></th>\n",
              "      <th>Article</th>\n",
              "    </tr>\n",
              "  </thead>\n",
              "  <tbody>\n",
              "    <tr>\n",
              "      <th>0</th>\n",
              "      <td>In the Washington of 2016, even when the polic...</td>\n",
              "    </tr>\n",
              "    <tr>\n",
              "      <th>1</th>\n",
              "      <td>Donald Trump has used Twitter  —   his prefe...</td>\n",
              "    </tr>\n",
              "    <tr>\n",
              "      <th>2</th>\n",
              "      <td>Donald Trump is unabashedly praising Russian...</td>\n",
              "    </tr>\n",
              "    <tr>\n",
              "      <th>3</th>\n",
              "      <td>Updated at 2:50 p. m. ET, Russian President Vl...</td>\n",
              "    </tr>\n",
              "    <tr>\n",
              "      <th>4</th>\n",
              "      <td>From photography, illustration and video, to d...</td>\n",
              "    </tr>\n",
              "    <tr>\n",
              "      <th>5</th>\n",
              "      <td>I did not want to join yoga class. I hated tho...</td>\n",
              "    </tr>\n",
              "    <tr>\n",
              "      <th>6</th>\n",
              "      <td>With a   who has publicly supported the debunk...</td>\n",
              "    </tr>\n",
              "    <tr>\n",
              "      <th>7</th>\n",
              "      <td>I was standing by the airport exit, debating w...</td>\n",
              "    </tr>\n",
              "    <tr>\n",
              "      <th>8</th>\n",
              "      <td>If movies were trying to be more realistic, pe...</td>\n",
              "    </tr>\n",
              "    <tr>\n",
              "      <th>9</th>\n",
              "      <td>Eighteen years ago, on New Year’s Eve, David F...</td>\n",
              "    </tr>\n",
              "  </tbody>\n",
              "</table>\n",
              "</div>\n",
              "    <div class=\"colab-df-buttons\">\n",
              "\n",
              "  <div class=\"colab-df-container\">\n",
              "    <button class=\"colab-df-convert\" onclick=\"convertToInteractive('df-395014eb-bc10-49e2-af2f-0572da37ed74')\"\n",
              "            title=\"Convert this dataframe to an interactive table.\"\n",
              "            style=\"display:none;\">\n",
              "\n",
              "  <svg xmlns=\"http://www.w3.org/2000/svg\" height=\"24px\" viewBox=\"0 -960 960 960\">\n",
              "    <path d=\"M120-120v-720h720v720H120Zm60-500h600v-160H180v160Zm220 220h160v-160H400v160Zm0 220h160v-160H400v160ZM180-400h160v-160H180v160Zm440 0h160v-160H620v160ZM180-180h160v-160H180v160Zm440 0h160v-160H620v160Z\"/>\n",
              "  </svg>\n",
              "    </button>\n",
              "\n",
              "  <style>\n",
              "    .colab-df-container {\n",
              "      display:flex;\n",
              "      gap: 12px;\n",
              "    }\n",
              "\n",
              "    .colab-df-convert {\n",
              "      background-color: #E8F0FE;\n",
              "      border: none;\n",
              "      border-radius: 50%;\n",
              "      cursor: pointer;\n",
              "      display: none;\n",
              "      fill: #1967D2;\n",
              "      height: 32px;\n",
              "      padding: 0 0 0 0;\n",
              "      width: 32px;\n",
              "    }\n",
              "\n",
              "    .colab-df-convert:hover {\n",
              "      background-color: #E2EBFA;\n",
              "      box-shadow: 0px 1px 2px rgba(60, 64, 67, 0.3), 0px 1px 3px 1px rgba(60, 64, 67, 0.15);\n",
              "      fill: #174EA6;\n",
              "    }\n",
              "\n",
              "    .colab-df-buttons div {\n",
              "      margin-bottom: 4px;\n",
              "    }\n",
              "\n",
              "    [theme=dark] .colab-df-convert {\n",
              "      background-color: #3B4455;\n",
              "      fill: #D2E3FC;\n",
              "    }\n",
              "\n",
              "    [theme=dark] .colab-df-convert:hover {\n",
              "      background-color: #434B5C;\n",
              "      box-shadow: 0px 1px 3px 1px rgba(0, 0, 0, 0.15);\n",
              "      filter: drop-shadow(0px 1px 2px rgba(0, 0, 0, 0.3));\n",
              "      fill: #FFFFFF;\n",
              "    }\n",
              "  </style>\n",
              "\n",
              "    <script>\n",
              "      const buttonEl =\n",
              "        document.querySelector('#df-395014eb-bc10-49e2-af2f-0572da37ed74 button.colab-df-convert');\n",
              "      buttonEl.style.display =\n",
              "        google.colab.kernel.accessAllowed ? 'block' : 'none';\n",
              "\n",
              "      async function convertToInteractive(key) {\n",
              "        const element = document.querySelector('#df-395014eb-bc10-49e2-af2f-0572da37ed74');\n",
              "        const dataTable =\n",
              "          await google.colab.kernel.invokeFunction('convertToInteractive',\n",
              "                                                    [key], {});\n",
              "        if (!dataTable) return;\n",
              "\n",
              "        const docLinkHtml = 'Like what you see? Visit the ' +\n",
              "          '<a target=\"_blank\" href=https://colab.research.google.com/notebooks/data_table.ipynb>data table notebook</a>'\n",
              "          + ' to learn more about interactive tables.';\n",
              "        element.innerHTML = '';\n",
              "        dataTable['output_type'] = 'display_data';\n",
              "        await google.colab.output.renderOutput(dataTable, element);\n",
              "        const docLink = document.createElement('div');\n",
              "        docLink.innerHTML = docLinkHtml;\n",
              "        element.appendChild(docLink);\n",
              "      }\n",
              "    </script>\n",
              "  </div>\n",
              "\n",
              "\n",
              "<div id=\"df-c8248fa0-e14a-46cb-a634-702e448a8926\">\n",
              "  <button class=\"colab-df-quickchart\" onclick=\"quickchart('df-c8248fa0-e14a-46cb-a634-702e448a8926')\"\n",
              "            title=\"Suggest charts\"\n",
              "            style=\"display:none;\">\n",
              "\n",
              "<svg xmlns=\"http://www.w3.org/2000/svg\" height=\"24px\"viewBox=\"0 0 24 24\"\n",
              "     width=\"24px\">\n",
              "    <g>\n",
              "        <path d=\"M19 3H5c-1.1 0-2 .9-2 2v14c0 1.1.9 2 2 2h14c1.1 0 2-.9 2-2V5c0-1.1-.9-2-2-2zM9 17H7v-7h2v7zm4 0h-2V7h2v10zm4 0h-2v-4h2v4z\"/>\n",
              "    </g>\n",
              "</svg>\n",
              "  </button>\n",
              "\n",
              "<style>\n",
              "  .colab-df-quickchart {\n",
              "      --bg-color: #E8F0FE;\n",
              "      --fill-color: #1967D2;\n",
              "      --hover-bg-color: #E2EBFA;\n",
              "      --hover-fill-color: #174EA6;\n",
              "      --disabled-fill-color: #AAA;\n",
              "      --disabled-bg-color: #DDD;\n",
              "  }\n",
              "\n",
              "  [theme=dark] .colab-df-quickchart {\n",
              "      --bg-color: #3B4455;\n",
              "      --fill-color: #D2E3FC;\n",
              "      --hover-bg-color: #434B5C;\n",
              "      --hover-fill-color: #FFFFFF;\n",
              "      --disabled-bg-color: #3B4455;\n",
              "      --disabled-fill-color: #666;\n",
              "  }\n",
              "\n",
              "  .colab-df-quickchart {\n",
              "    background-color: var(--bg-color);\n",
              "    border: none;\n",
              "    border-radius: 50%;\n",
              "    cursor: pointer;\n",
              "    display: none;\n",
              "    fill: var(--fill-color);\n",
              "    height: 32px;\n",
              "    padding: 0;\n",
              "    width: 32px;\n",
              "  }\n",
              "\n",
              "  .colab-df-quickchart:hover {\n",
              "    background-color: var(--hover-bg-color);\n",
              "    box-shadow: 0 1px 2px rgba(60, 64, 67, 0.3), 0 1px 3px 1px rgba(60, 64, 67, 0.15);\n",
              "    fill: var(--button-hover-fill-color);\n",
              "  }\n",
              "\n",
              "  .colab-df-quickchart-complete:disabled,\n",
              "  .colab-df-quickchart-complete:disabled:hover {\n",
              "    background-color: var(--disabled-bg-color);\n",
              "    fill: var(--disabled-fill-color);\n",
              "    box-shadow: none;\n",
              "  }\n",
              "\n",
              "  .colab-df-spinner {\n",
              "    border: 2px solid var(--fill-color);\n",
              "    border-color: transparent;\n",
              "    border-bottom-color: var(--fill-color);\n",
              "    animation:\n",
              "      spin 1s steps(1) infinite;\n",
              "  }\n",
              "\n",
              "  @keyframes spin {\n",
              "    0% {\n",
              "      border-color: transparent;\n",
              "      border-bottom-color: var(--fill-color);\n",
              "      border-left-color: var(--fill-color);\n",
              "    }\n",
              "    20% {\n",
              "      border-color: transparent;\n",
              "      border-left-color: var(--fill-color);\n",
              "      border-top-color: var(--fill-color);\n",
              "    }\n",
              "    30% {\n",
              "      border-color: transparent;\n",
              "      border-left-color: var(--fill-color);\n",
              "      border-top-color: var(--fill-color);\n",
              "      border-right-color: var(--fill-color);\n",
              "    }\n",
              "    40% {\n",
              "      border-color: transparent;\n",
              "      border-right-color: var(--fill-color);\n",
              "      border-top-color: var(--fill-color);\n",
              "    }\n",
              "    60% {\n",
              "      border-color: transparent;\n",
              "      border-right-color: var(--fill-color);\n",
              "    }\n",
              "    80% {\n",
              "      border-color: transparent;\n",
              "      border-right-color: var(--fill-color);\n",
              "      border-bottom-color: var(--fill-color);\n",
              "    }\n",
              "    90% {\n",
              "      border-color: transparent;\n",
              "      border-bottom-color: var(--fill-color);\n",
              "    }\n",
              "  }\n",
              "</style>\n",
              "\n",
              "  <script>\n",
              "    async function quickchart(key) {\n",
              "      const quickchartButtonEl =\n",
              "        document.querySelector('#' + key + ' button');\n",
              "      quickchartButtonEl.disabled = true;  // To prevent multiple clicks.\n",
              "      quickchartButtonEl.classList.add('colab-df-spinner');\n",
              "      try {\n",
              "        const charts = await google.colab.kernel.invokeFunction(\n",
              "            'suggestCharts', [key], {});\n",
              "      } catch (error) {\n",
              "        console.error('Error during call to suggestCharts:', error);\n",
              "      }\n",
              "      quickchartButtonEl.classList.remove('colab-df-spinner');\n",
              "      quickchartButtonEl.classList.add('colab-df-quickchart-complete');\n",
              "    }\n",
              "    (() => {\n",
              "      let quickchartButtonEl =\n",
              "        document.querySelector('#df-c8248fa0-e14a-46cb-a634-702e448a8926 button');\n",
              "      quickchartButtonEl.style.display =\n",
              "        google.colab.kernel.accessAllowed ? 'block' : 'none';\n",
              "    })();\n",
              "  </script>\n",
              "</div>\n",
              "    </div>\n",
              "  </div>\n"
            ],
            "text/plain": [
              "                                             Article\n",
              "0  In the Washington of 2016, even when the polic...\n",
              "1    Donald Trump has used Twitter  —   his prefe...\n",
              "2    Donald Trump is unabashedly praising Russian...\n",
              "3  Updated at 2:50 p. m. ET, Russian President Vl...\n",
              "4  From photography, illustration and video, to d...\n",
              "5  I did not want to join yoga class. I hated tho...\n",
              "6  With a   who has publicly supported the debunk...\n",
              "7  I was standing by the airport exit, debating w...\n",
              "8  If movies were trying to be more realistic, pe...\n",
              "9  Eighteen years ago, on New Year’s Eve, David F..."
            ]
          },
          "execution_count": 33,
          "metadata": {},
          "output_type": "execute_result"
        }
      ],
      "source": [
        "npr.head(10)"
      ]
    },
    {
      "cell_type": "code",
      "execution_count": null,
      "metadata": {
        "colab": {
          "base_uri": "https://localhost:8080/"
        },
        "id": "PUCJB-QAND9g",
        "outputId": "0b096488-b414-43f5-9e59-51b97a9295c5"
      },
      "outputs": [
        {
          "data": {
            "text/plain": [
              "array([1, 1, 1, ..., 3, 4, 0])"
            ]
          },
          "execution_count": 34,
          "metadata": {},
          "output_type": "execute_result"
        }
      ],
      "source": [
        "topic_results.argmax(axis=1)"
      ]
    },
    {
      "cell_type": "code",
      "execution_count": null,
      "metadata": {
        "id": "4VeDAGYHNJ7O"
      },
      "outputs": [],
      "source": [
        "npr['topic']=topic_results.argmax(axis=1)"
      ]
    },
    {
      "cell_type": "code",
      "execution_count": null,
      "metadata": {
        "colab": {
          "base_uri": "https://localhost:8080/",
          "height": 363
        },
        "id": "fkMdw0MnNPiP",
        "outputId": "9e08992d-f7a0-4373-c1b8-60961271cc33"
      },
      "outputs": [
        {
          "data": {
            "application/vnd.google.colaboratory.intrinsic+json": {
              "summary": "{\n  \"name\": \"npr\",\n  \"rows\": 11992,\n  \"fields\": [\n    {\n      \"column\": \"Article\",\n      \"properties\": {\n        \"dtype\": \"string\",\n        \"num_unique_values\": 11991,\n        \"samples\": [\n          \"Last week, physicists at the National Institute for Standards and Technology reported they\\u2019d cooled an object to a million times colder than room temperature. It was a record for the   science of  . In this field, researchers inch ever closer to  \\u2014   but never reach  \\u2014   the state of absolute zero temperature. It\\u2019s a science that has some very cool (pun very much intended) applications including   gravity wave detectors for \\u201dhearing\\u201d distant black hole mergers. But moving beyond these applications, why is   so hard to begin with? Why can\\u2019t we just get to absolute zero degrees and be done with it? The answer to this question drops us straight into one of the quantum universe\\u2019s most startling features: The world never rests. To see what this means, let\\u2019s remind ourselves about the meaning of \\u201dtemperature.\\u201d Without getting too technical (we should really be talking about entropy here) temperature for physicists is a measure of random motion. Imagine the gas molecules in the air around you are little cue balls of matter. The higher the air temperature, the faster those little orbs of matter will be ricocheting around the room, bouncing off the walls and each other. So cooling the air means finding some means to slow the molecules down. From this perspective, there there\\u2019s no conceptual reason why you shouldn\\u2019t be able bring them entirely to a halt. Do that, and the air would have a temperature of \\u201dabsolute zero\\u201d degrees (as measured in units called Kelvins. In Fahrenheit, this would be  . 67 degrees). But, it turns out, nature doesn\\u2019t work that way. The universe doesn\\u2019t \\u201ddo\\u201d zero temperatures because it doesn\\u2019t do zero motion. Thinking about matter and motion in the way we described above is what we physicists call \\u201da classical picture.\\u201d In classical physics, matter is made of tiny particles of \\u201dstuff\\u201d and motion is just the change in the particles position with time. It all makes intuitive sense based on our experience of the world at the scale of baseballs and boulders. But a hundred years or so ago, physicists began probing the world on the scale of atoms. What they found was the classical, intuitive picture didn\\u2019t work well for explaining their experiments. In response, they developed a new kind of physics. In an astonishing burst of creativity, they kept key principles from the classical world  \\u2014   like the conservation of energy  \\u2014   but added new rules. One of these was the Uncertainty Principle, which essentially told us that reality is fuzzy at its root level. To be exact, certain pairs of properties  \\u2014   like motion and position  \\u2014   can never be known exactly. The Uncertainty Principle isn\\u2019t saying there\\u2019s something wrong with our instruments. Instead, it tells us there\\u2019s something wrong with our classical intuitions. In particular, when it comes to motion, it tells us it\\u2019s impossible to know the position and the motion of a particle exactly. The more you lock in the position of a particle, the wider the range of velocities the particle can have. So what does this have to do with temperature? Absolute zero should mean bringing particles to a halt. But that would imply you knew exactly where they were. You had them perfectly \\u201dlocalized.\\u201d If that\\u2019s the case, then the Uncertainty Principle demands there must be some uncertainty in their motion. They can\\u2019t be perfectly known to be perfectly at rest. The deeper meaning of this this quantum logic is that the universe can never be at rest. There is a \\u201dfloor\\u201d to how much things can be slowed down (or cooled). It\\u2019s impossible to go below that floor (though scientists do get ever more clever in skirting its edges). The implications of this can get pretty strange. Imagine we put a particle, like an electron, in a box. Now we ask: What\\u2019s the lowest energy state of the electron + box system? In classical physics, it would just be the electron sitting there unmoving  \\u2014   i. e. zero motion, hence zero energy. But quantum physics won\\u2019t allow such a thing as zero energy (because of the Uncertainty Principle). Instead, the system has   \\u201dground state\\u201d energy with the electron bouncing back and forth between the box walls. That\\u2019s as low as you can go. The electron can\\u2019t be stopped. Take this idea further, and you get to the delicious idea of vacuum energy. There the Uncertainty Principle demands that there can be no pure and perfect vacuum with a state of zero energy. Thus, in quantum physics, the vacuum is not empty but is a seething froth of \\u201dvirtual particles\\u201d that are never manifested and yet have a verifiable effect on the particles we do see. No vacuum. No zero energy. No zero temperature. No common sense expectation about the world\\u2019s behavior. The discovery that the quantum world was the foundation for our   classical experience was a triumph of science. It was a validation of science\\u2019s ability to take us beyond our limited senses and limited concepts. There is no way to \\u201dpicture\\u201d this quantum world with our classical imaginations. Instead, what we found was a new frontier. At its root, quantum physics showed us that this world we inhabit is dynamic to its very core: buzzing, roaring, shuddering and trembling like an infinite Jackson Pollack painting. It is not just richer than we imagined, but stranger and more wonderful than we can imagine. That view, hidden in the impossibility of absolute zero temperature, is a gift that science has given us all. Now what are we to make of it? Adam Frank is a   of the 13. 7 blog, an astrophysics professor at the University of Rochester, a book author and a   \\u201devangelist of science.\\u201d You can keep up with more of what Adam is thinking on Facebook and Twitter: @adamfrank4\",\n          \"President Trump hosted Russian Foreign Minister Sergey Lavrov at the White House on Wednesday, one day after firing the man whose agency is investigating Russia\\u2019s meddling in the 2016 election that brought Trump to power. Trump fired   FBI Director James Comey, who told Congress earlier this year that his agency has been investigating Russia\\u2019s actions  \\u2014   and possible ties to anyone associated with the Trump campaign  \\u2014   since July. As NPR\\u2019s Domenico Montanaro reports, the firing of Comey with more than six years left on his term in office has prompted a flurry of questions about the president\\u2019s motives  \\u2014   and about what\\u2019s next. Lavrov\\u2019s meeting with the president was scheduled for 10:30 a. m. ET, and it was declared closed to the press. Russian agencies tweeted photos from the Oval Office showing that in addition to Lavrov, Trump shook hands with Russia\\u2019s ambassador to America, Sergey Kislyak  \\u2014   a key figure in the investigation into Trump\\u2019s ousted national security adviser, Michael Flynn. After the Lavrov session had concluded, members of the U. S. media were allowed into the Oval Office, where they found the president sitting with Henry Kissinger, who served as President Richard Nixon\\u2019s secretary of state. The meeting hadn\\u2019t been listed on the president\\u2019s official schedule. Trump said he and Kissinger had met to talk \\u201dabout Russia and various other matters,\\u201d according to the pool report. To a question about Comey, Trump reportedly replied, \\u201dHe wasn\\u2019t doing a good job. Very simply. He was not doing a good job.\\u201d The president also said the issue had not affected his meeting with Lavrov. Lavrov arrived in Washington on Tuesday. He met with Secretary of State Rex Tillerson at the White House early Wednesday, ahead of his visit to the Oval Office. Tillerson and Lavrov made a brief appearance Wednesday morning for a   and as Tillerson began to lead his guest back behind closed doors, Lavrov responded to a question about Comey\\u2019s firing. When a reporter asked whether the dismissal has \\u201dcast a shadow\\u201d over their talks, Lavrov stopped and seemed to look genuinely quizzical when he responded, \\u201dWas he fired?\\u201d  \\u2014   but then adopted a deadpan tone as he told the reporter, \\u201dYou are kidding, you are kidding.\\u201d With a theatrical twitch of his head, the Russian diplomat then followed his American counterpart away from the media. The exchange was not included in the State Department\\u2019s brief video snippet from the   that it posted to Twitter. Tillerson\\u2019s office said his talks with Lavrov would focus on \\u201dUkraine, Syria, and bilateral issues.\\u201d But the Russians\\u2019 visit to the White House also came as the Kremlin made its first public comments on Comey\\u2019s removal. When Russian presidential spokesman Dmitry Peskov was asked how the firing might affect U. S.  relations, Peskov replied, \\u201dWe hope that it will not affect them at all. That\\u2019s the United States\\u2019 internal affair. That\\u2019s the U. S. president\\u2019s independent decision, which has nothing to do and should have nothing to do with Russia.\\u201d Comey\\u2019s dismissal has sparked new calls for an independent probe into Russia\\u2019s attempts to influence last year\\u2019s U. S. presidential election  \\u2014   despite the Trump administration\\u2019s assertion that Comey was removed over his handling of the investigation into Clinton\\u2019s private email server. \\u201dThis is nothing less than Nixonian,\\u201d said Patrick Leahy,  . a longtime member of the Senate Judiciary Committee. Announcing Comey\\u2019s abrupt firing Tuesday afternoon, White House press secretary Sean Spicer said the president \\u201dacted based on the clear recommendations of both Deputy Attorney General Rod Rosenstein and Attorney General Jeff Sessions.\\u201d\",\n          \"Republican presidential nominee Donald Trump has been calling for a criminal investigation of his political opponent Hillary Clinton on the campaign trail this year. Trump is angry the FBI probe of Clinton\\u2019s email server ended with no charges. Now, he says, an independent outsider needs to look at the Clinton Foundation. \\u201dThe Justice Department is required to appoint an independent special prosecutor because it has proven itself to be really, sadly, a political arm of the White House,\\u201d Trump said in Akron, Ohio, last week. Trump has offered no evidence to back up his claims that the Justice Department has been corrupted. But his call for a special prosecutor sounds familiar to people who study the intersection of law and politics. \\u201dIf you look at the chronology, pretty much the political party that does not control the White House tends to want special prosecutors and independent counsel laws,\\u201d said Ken Gormley, president of Duquesne University in Pittsburgh and the author of two books on special prosecutors. \\u201dAs soon as the party is in the White House, they don\\u2019t want it anymore.\\u201d In modern times, the idea first cropped up during the 1970s. President Richard Nixon notoriously fired a special prosecutor who was getting close to the tapes that would bring down his administration. Five months after what became known as the Saturday Night Massacre, Congress started work on an independent counsel law. The idea was to insulate sensitive criminal investigations from meddling by the White House. The law would stand for about 20 years. It didn\\u2019t produce many criminal convictions, but it did stir up a lot of trouble for presidents  \\u2014   and the people close to them. In 1996, Hillary Clinton became the first sitting first lady to testify before a grand jury. This one was investigating the Whitewater affair, an investigation that began with a real estate investment and morphed into scrutiny of President Bill Clinton\\u2019s sexual improprieties. Hillary Clinton was never charged with wrongdoing, but the investigation left a mark. Years later, Gormley interviewed Bill Clinton about it. \\u201dHe made clear that his decision to allow and endorse the appointment of an independent counsel in the Whitewater matter was one of the biggest mistakes of his presidency,\\u201d Gormley said. \\u201dIn fact, the words he used at one point is that it was like Wile E. Coyote and the Road Runner. And almost from the moment he was in the White House, there were political opponents using special prosecutors to bring him down, and they were off to the races.\\u201d By 1999, when Congress considered whether to renew the statute, opposition came from nearly all sides. Even Whitewater independent counsel Ken Starr told Congress the law had become a political weapon. \\u201dThe statutory mechanism intended to enhance confidence in law enforcement had the effect of weakening it,\\u201d Starr said, in arguing the law should not be reauthorized. \\u201dJurisdiction and authority over these sensitive matters ought to be returned to the Justice Department. And who will oversee them? The Congress, the press, the public.\\u201d That\\u2019s exactly what happened. The law expired. But the Justice Department can still use special prosecutors. They\\u2019re career lawyers, protected from political leaders at Justice by a firewall. During the George W. Bush years, special prosecutor Patrick Fitzgerald charged and convicted a top aide to the vice president. Justice Department leaders went on to deploy special prosecutors to investigate the firings of U. S. attorneys and the destruction of videotapes that showed torture of detainees. But authorities have relied on those prosecutors only sparingly, a position adopted by many, including Gormley. \\u201dI think I\\u2019ve come to the conclusion that we are better off when we have less of these investigations rather than more,\\u201d he said. \\u201dThey should be reserved for very special and extreme occasions.\\u201d Otherwise, Gormley argued, they could distract from what\\u2019s really important. \\u201dAs we as a country were just obsessed with the issue of Whitewater, Paula Jones, Monica Lewinsky and all of these distractions during the 1990s, there were people inside and outside the country literally plotting our attack,\\u201d he said. One of them, Gormley said, was Osama bin Laden.\"\n        ],\n        \"semantic_type\": \"\",\n        \"description\": \"\"\n      }\n    },\n    {\n      \"column\": \"topic\",\n      \"properties\": {\n        \"dtype\": \"number\",\n        \"std\": 1,\n        \"min\": 0,\n        \"max\": 6,\n        \"num_unique_values\": 7,\n        \"samples\": [\n          1,\n          2,\n          4\n        ],\n        \"semantic_type\": \"\",\n        \"description\": \"\"\n      }\n    }\n  ]\n}",
              "type": "dataframe",
              "variable_name": "npr"
            },
            "text/html": [
              "\n",
              "  <div id=\"df-ec9f48d5-c51d-4601-b0e8-abd3b4b94c36\" class=\"colab-df-container\">\n",
              "    <div>\n",
              "<style scoped>\n",
              "    .dataframe tbody tr th:only-of-type {\n",
              "        vertical-align: middle;\n",
              "    }\n",
              "\n",
              "    .dataframe tbody tr th {\n",
              "        vertical-align: top;\n",
              "    }\n",
              "\n",
              "    .dataframe thead th {\n",
              "        text-align: right;\n",
              "    }\n",
              "</style>\n",
              "<table border=\"1\" class=\"dataframe\">\n",
              "  <thead>\n",
              "    <tr style=\"text-align: right;\">\n",
              "      <th></th>\n",
              "      <th>Article</th>\n",
              "      <th>topic</th>\n",
              "    </tr>\n",
              "  </thead>\n",
              "  <tbody>\n",
              "    <tr>\n",
              "      <th>0</th>\n",
              "      <td>In the Washington of 2016, even when the polic...</td>\n",
              "      <td>1</td>\n",
              "    </tr>\n",
              "    <tr>\n",
              "      <th>1</th>\n",
              "      <td>Donald Trump has used Twitter  —   his prefe...</td>\n",
              "      <td>1</td>\n",
              "    </tr>\n",
              "    <tr>\n",
              "      <th>2</th>\n",
              "      <td>Donald Trump is unabashedly praising Russian...</td>\n",
              "      <td>1</td>\n",
              "    </tr>\n",
              "    <tr>\n",
              "      <th>3</th>\n",
              "      <td>Updated at 2:50 p. m. ET, Russian President Vl...</td>\n",
              "      <td>1</td>\n",
              "    </tr>\n",
              "    <tr>\n",
              "      <th>4</th>\n",
              "      <td>From photography, illustration and video, to d...</td>\n",
              "      <td>2</td>\n",
              "    </tr>\n",
              "    <tr>\n",
              "      <th>5</th>\n",
              "      <td>I did not want to join yoga class. I hated tho...</td>\n",
              "      <td>3</td>\n",
              "    </tr>\n",
              "    <tr>\n",
              "      <th>6</th>\n",
              "      <td>With a   who has publicly supported the debunk...</td>\n",
              "      <td>3</td>\n",
              "    </tr>\n",
              "    <tr>\n",
              "      <th>7</th>\n",
              "      <td>I was standing by the airport exit, debating w...</td>\n",
              "      <td>2</td>\n",
              "    </tr>\n",
              "    <tr>\n",
              "      <th>8</th>\n",
              "      <td>If movies were trying to be more realistic, pe...</td>\n",
              "      <td>3</td>\n",
              "    </tr>\n",
              "    <tr>\n",
              "      <th>9</th>\n",
              "      <td>Eighteen years ago, on New Year’s Eve, David F...</td>\n",
              "      <td>2</td>\n",
              "    </tr>\n",
              "  </tbody>\n",
              "</table>\n",
              "</div>\n",
              "    <div class=\"colab-df-buttons\">\n",
              "\n",
              "  <div class=\"colab-df-container\">\n",
              "    <button class=\"colab-df-convert\" onclick=\"convertToInteractive('df-ec9f48d5-c51d-4601-b0e8-abd3b4b94c36')\"\n",
              "            title=\"Convert this dataframe to an interactive table.\"\n",
              "            style=\"display:none;\">\n",
              "\n",
              "  <svg xmlns=\"http://www.w3.org/2000/svg\" height=\"24px\" viewBox=\"0 -960 960 960\">\n",
              "    <path d=\"M120-120v-720h720v720H120Zm60-500h600v-160H180v160Zm220 220h160v-160H400v160Zm0 220h160v-160H400v160ZM180-400h160v-160H180v160Zm440 0h160v-160H620v160ZM180-180h160v-160H180v160Zm440 0h160v-160H620v160Z\"/>\n",
              "  </svg>\n",
              "    </button>\n",
              "\n",
              "  <style>\n",
              "    .colab-df-container {\n",
              "      display:flex;\n",
              "      gap: 12px;\n",
              "    }\n",
              "\n",
              "    .colab-df-convert {\n",
              "      background-color: #E8F0FE;\n",
              "      border: none;\n",
              "      border-radius: 50%;\n",
              "      cursor: pointer;\n",
              "      display: none;\n",
              "      fill: #1967D2;\n",
              "      height: 32px;\n",
              "      padding: 0 0 0 0;\n",
              "      width: 32px;\n",
              "    }\n",
              "\n",
              "    .colab-df-convert:hover {\n",
              "      background-color: #E2EBFA;\n",
              "      box-shadow: 0px 1px 2px rgba(60, 64, 67, 0.3), 0px 1px 3px 1px rgba(60, 64, 67, 0.15);\n",
              "      fill: #174EA6;\n",
              "    }\n",
              "\n",
              "    .colab-df-buttons div {\n",
              "      margin-bottom: 4px;\n",
              "    }\n",
              "\n",
              "    [theme=dark] .colab-df-convert {\n",
              "      background-color: #3B4455;\n",
              "      fill: #D2E3FC;\n",
              "    }\n",
              "\n",
              "    [theme=dark] .colab-df-convert:hover {\n",
              "      background-color: #434B5C;\n",
              "      box-shadow: 0px 1px 3px 1px rgba(0, 0, 0, 0.15);\n",
              "      filter: drop-shadow(0px 1px 2px rgba(0, 0, 0, 0.3));\n",
              "      fill: #FFFFFF;\n",
              "    }\n",
              "  </style>\n",
              "\n",
              "    <script>\n",
              "      const buttonEl =\n",
              "        document.querySelector('#df-ec9f48d5-c51d-4601-b0e8-abd3b4b94c36 button.colab-df-convert');\n",
              "      buttonEl.style.display =\n",
              "        google.colab.kernel.accessAllowed ? 'block' : 'none';\n",
              "\n",
              "      async function convertToInteractive(key) {\n",
              "        const element = document.querySelector('#df-ec9f48d5-c51d-4601-b0e8-abd3b4b94c36');\n",
              "        const dataTable =\n",
              "          await google.colab.kernel.invokeFunction('convertToInteractive',\n",
              "                                                    [key], {});\n",
              "        if (!dataTable) return;\n",
              "\n",
              "        const docLinkHtml = 'Like what you see? Visit the ' +\n",
              "          '<a target=\"_blank\" href=https://colab.research.google.com/notebooks/data_table.ipynb>data table notebook</a>'\n",
              "          + ' to learn more about interactive tables.';\n",
              "        element.innerHTML = '';\n",
              "        dataTable['output_type'] = 'display_data';\n",
              "        await google.colab.output.renderOutput(dataTable, element);\n",
              "        const docLink = document.createElement('div');\n",
              "        docLink.innerHTML = docLinkHtml;\n",
              "        element.appendChild(docLink);\n",
              "      }\n",
              "    </script>\n",
              "  </div>\n",
              "\n",
              "\n",
              "<div id=\"df-8b232086-f63f-4ed7-a25c-84f695944cfc\">\n",
              "  <button class=\"colab-df-quickchart\" onclick=\"quickchart('df-8b232086-f63f-4ed7-a25c-84f695944cfc')\"\n",
              "            title=\"Suggest charts\"\n",
              "            style=\"display:none;\">\n",
              "\n",
              "<svg xmlns=\"http://www.w3.org/2000/svg\" height=\"24px\"viewBox=\"0 0 24 24\"\n",
              "     width=\"24px\">\n",
              "    <g>\n",
              "        <path d=\"M19 3H5c-1.1 0-2 .9-2 2v14c0 1.1.9 2 2 2h14c1.1 0 2-.9 2-2V5c0-1.1-.9-2-2-2zM9 17H7v-7h2v7zm4 0h-2V7h2v10zm4 0h-2v-4h2v4z\"/>\n",
              "    </g>\n",
              "</svg>\n",
              "  </button>\n",
              "\n",
              "<style>\n",
              "  .colab-df-quickchart {\n",
              "      --bg-color: #E8F0FE;\n",
              "      --fill-color: #1967D2;\n",
              "      --hover-bg-color: #E2EBFA;\n",
              "      --hover-fill-color: #174EA6;\n",
              "      --disabled-fill-color: #AAA;\n",
              "      --disabled-bg-color: #DDD;\n",
              "  }\n",
              "\n",
              "  [theme=dark] .colab-df-quickchart {\n",
              "      --bg-color: #3B4455;\n",
              "      --fill-color: #D2E3FC;\n",
              "      --hover-bg-color: #434B5C;\n",
              "      --hover-fill-color: #FFFFFF;\n",
              "      --disabled-bg-color: #3B4455;\n",
              "      --disabled-fill-color: #666;\n",
              "  }\n",
              "\n",
              "  .colab-df-quickchart {\n",
              "    background-color: var(--bg-color);\n",
              "    border: none;\n",
              "    border-radius: 50%;\n",
              "    cursor: pointer;\n",
              "    display: none;\n",
              "    fill: var(--fill-color);\n",
              "    height: 32px;\n",
              "    padding: 0;\n",
              "    width: 32px;\n",
              "  }\n",
              "\n",
              "  .colab-df-quickchart:hover {\n",
              "    background-color: var(--hover-bg-color);\n",
              "    box-shadow: 0 1px 2px rgba(60, 64, 67, 0.3), 0 1px 3px 1px rgba(60, 64, 67, 0.15);\n",
              "    fill: var(--button-hover-fill-color);\n",
              "  }\n",
              "\n",
              "  .colab-df-quickchart-complete:disabled,\n",
              "  .colab-df-quickchart-complete:disabled:hover {\n",
              "    background-color: var(--disabled-bg-color);\n",
              "    fill: var(--disabled-fill-color);\n",
              "    box-shadow: none;\n",
              "  }\n",
              "\n",
              "  .colab-df-spinner {\n",
              "    border: 2px solid var(--fill-color);\n",
              "    border-color: transparent;\n",
              "    border-bottom-color: var(--fill-color);\n",
              "    animation:\n",
              "      spin 1s steps(1) infinite;\n",
              "  }\n",
              "\n",
              "  @keyframes spin {\n",
              "    0% {\n",
              "      border-color: transparent;\n",
              "      border-bottom-color: var(--fill-color);\n",
              "      border-left-color: var(--fill-color);\n",
              "    }\n",
              "    20% {\n",
              "      border-color: transparent;\n",
              "      border-left-color: var(--fill-color);\n",
              "      border-top-color: var(--fill-color);\n",
              "    }\n",
              "    30% {\n",
              "      border-color: transparent;\n",
              "      border-left-color: var(--fill-color);\n",
              "      border-top-color: var(--fill-color);\n",
              "      border-right-color: var(--fill-color);\n",
              "    }\n",
              "    40% {\n",
              "      border-color: transparent;\n",
              "      border-right-color: var(--fill-color);\n",
              "      border-top-color: var(--fill-color);\n",
              "    }\n",
              "    60% {\n",
              "      border-color: transparent;\n",
              "      border-right-color: var(--fill-color);\n",
              "    }\n",
              "    80% {\n",
              "      border-color: transparent;\n",
              "      border-right-color: var(--fill-color);\n",
              "      border-bottom-color: var(--fill-color);\n",
              "    }\n",
              "    90% {\n",
              "      border-color: transparent;\n",
              "      border-bottom-color: var(--fill-color);\n",
              "    }\n",
              "  }\n",
              "</style>\n",
              "\n",
              "  <script>\n",
              "    async function quickchart(key) {\n",
              "      const quickchartButtonEl =\n",
              "        document.querySelector('#' + key + ' button');\n",
              "      quickchartButtonEl.disabled = true;  // To prevent multiple clicks.\n",
              "      quickchartButtonEl.classList.add('colab-df-spinner');\n",
              "      try {\n",
              "        const charts = await google.colab.kernel.invokeFunction(\n",
              "            'suggestCharts', [key], {});\n",
              "      } catch (error) {\n",
              "        console.error('Error during call to suggestCharts:', error);\n",
              "      }\n",
              "      quickchartButtonEl.classList.remove('colab-df-spinner');\n",
              "      quickchartButtonEl.classList.add('colab-df-quickchart-complete');\n",
              "    }\n",
              "    (() => {\n",
              "      let quickchartButtonEl =\n",
              "        document.querySelector('#df-8b232086-f63f-4ed7-a25c-84f695944cfc button');\n",
              "      quickchartButtonEl.style.display =\n",
              "        google.colab.kernel.accessAllowed ? 'block' : 'none';\n",
              "    })();\n",
              "  </script>\n",
              "</div>\n",
              "    </div>\n",
              "  </div>\n"
            ],
            "text/plain": [
              "                                             Article  topic\n",
              "0  In the Washington of 2016, even when the polic...      1\n",
              "1    Donald Trump has used Twitter  —   his prefe...      1\n",
              "2    Donald Trump is unabashedly praising Russian...      1\n",
              "3  Updated at 2:50 p. m. ET, Russian President Vl...      1\n",
              "4  From photography, illustration and video, to d...      2\n",
              "5  I did not want to join yoga class. I hated tho...      3\n",
              "6  With a   who has publicly supported the debunk...      3\n",
              "7  I was standing by the airport exit, debating w...      2\n",
              "8  If movies were trying to be more realistic, pe...      3\n",
              "9  Eighteen years ago, on New Year’s Eve, David F...      2"
            ]
          },
          "execution_count": 36,
          "metadata": {},
          "output_type": "execute_result"
        }
      ],
      "source": [
        "npr.head(10)"
      ]
    },
    {
      "cell_type": "code",
      "execution_count": null,
      "metadata": {
        "colab": {
          "base_uri": "https://localhost:8080/",
          "height": 452
        },
        "id": "r7UtEqkfUPU-",
        "outputId": "bac4295c-37f2-4a13-ac43-3df0d751b016"
      },
      "outputs": [
        {
          "data": {
            "image/png": "[encoded data removed]",
            "text/plain": [
              "<Figure size 640x480 with 1 Axes>"
            ]
          },
          "metadata": {},
          "output_type": "display_data"
        }
      ],
      "source": [
        "from matplotlib import pyplot as plt\n",
        "npr['topic'].plot(kind='hist', bins=20, title='topic')\n",
        "plt.gca().spines[['top', 'right',]].set_visible(False)"
      ]
    },
    {
      "cell_type": "code",
      "execution_count": null,
      "metadata": {
        "id": "--I6t7VeNQ0n"
      },
      "outputs": [],
      "source": [
        "data2=pd.read_csv('/content/quora_questions.csv')"
      ]
    },
    {
      "cell_type": "code",
      "execution_count": null,
      "metadata": {
        "colab": {
          "base_uri": "https://localhost:8080/",
          "height": 206
        },
        "id": "BDFpjEEUNf72",
        "outputId": "95bf8668-8658-4364-a910-a758e440dc24"
      },
      "outputs": [
        {
          "data": {
            "application/vnd.google.colaboratory.intrinsic+json": {
              "type": "dataframe",
              "variable_name": "data2"
            },
            "text/html": [
              "\n",
              "  <div id=\"df-ec39ce00-0870-48b0-98e4-c79cae5d16a6\" class=\"colab-df-container\">\n",
              "    <div>\n",
              "<style scoped>\n",
              "    .dataframe tbody tr th:only-of-type {\n",
              "        vertical-align: middle;\n",
              "    }\n",
              "\n",
              "    .dataframe tbody tr th {\n",
              "        vertical-align: top;\n",
              "    }\n",
              "\n",
              "    .dataframe thead th {\n",
              "        text-align: right;\n",
              "    }\n",
              "</style>\n",
              "<table border=\"1\" class=\"dataframe\">\n",
              "  <thead>\n",
              "    <tr style=\"text-align: right;\">\n",
              "      <th></th>\n",
              "      <th>Question</th>\n",
              "    </tr>\n",
              "  </thead>\n",
              "  <tbody>\n",
              "    <tr>\n",
              "      <th>0</th>\n",
              "      <td>What is the step by step guide to invest in sh...</td>\n",
              "    </tr>\n",
              "    <tr>\n",
              "      <th>1</th>\n",
              "      <td>What is the story of Kohinoor (Koh-i-Noor) Dia...</td>\n",
              "    </tr>\n",
              "    <tr>\n",
              "      <th>2</th>\n",
              "      <td>How can I increase the speed of my internet co...</td>\n",
              "    </tr>\n",
              "    <tr>\n",
              "      <th>3</th>\n",
              "      <td>Why am I mentally very lonely? How can I solve...</td>\n",
              "    </tr>\n",
              "    <tr>\n",
              "      <th>4</th>\n",
              "      <td>Which one dissolve in water quikly sugar, salt...</td>\n",
              "    </tr>\n",
              "  </tbody>\n",
              "</table>\n",
              "</div>\n",
              "    <div class=\"colab-df-buttons\">\n",
              "\n",
              "  <div class=\"colab-df-container\">\n",
              "    <button class=\"colab-df-convert\" onclick=\"convertToInteractive('df-ec39ce00-0870-48b0-98e4-c79cae5d16a6')\"\n",
              "            title=\"Convert this dataframe to an interactive table.\"\n",
              "            style=\"display:none;\">\n",
              "\n",
              "  <svg xmlns=\"http://www.w3.org/2000/svg\" height=\"24px\" viewBox=\"0 -960 960 960\">\n",
              "    <path d=\"M120-120v-720h720v720H120Zm60-500h600v-160H180v160Zm220 220h160v-160H400v160Zm0 220h160v-160H400v160ZM180-400h160v-160H180v160Zm440 0h160v-160H620v160ZM180-180h160v-160H180v160Zm440 0h160v-160H620v160Z\"/>\n",
              "  </svg>\n",
              "    </button>\n",
              "\n",
              "  <style>\n",
              "    .colab-df-container {\n",
              "      display:flex;\n",
              "      gap: 12px;\n",
              "    }\n",
              "\n",
              "    .colab-df-convert {\n",
              "      background-color: #E8F0FE;\n",
              "      border: none;\n",
              "      border-radius: 50%;\n",
              "      cursor: pointer;\n",
              "      display: none;\n",
              "      fill: #1967D2;\n",
              "      height: 32px;\n",
              "      padding: 0 0 0 0;\n",
              "      width: 32px;\n",
              "    }\n",
              "\n",
              "    .colab-df-convert:hover {\n",
              "      background-color: #E2EBFA;\n",
              "      box-shadow: 0px 1px 2px rgba(60, 64, 67, 0.3), 0px 1px 3px 1px rgba(60, 64, 67, 0.15);\n",
              "      fill: #174EA6;\n",
              "    }\n",
              "\n",
              "    .colab-df-buttons div {\n",
              "      margin-bottom: 4px;\n",
              "    }\n",
              "\n",
              "    [theme=dark] .colab-df-convert {\n",
              "      background-color: #3B4455;\n",
              "      fill: #D2E3FC;\n",
              "    }\n",
              "\n",
              "    [theme=dark] .colab-df-convert:hover {\n",
              "      background-color: #434B5C;\n",
              "      box-shadow: 0px 1px 3px 1px rgba(0, 0, 0, 0.15);\n",
              "      filter: drop-shadow(0px 1px 2px rgba(0, 0, 0, 0.3));\n",
              "      fill: #FFFFFF;\n",
              "    }\n",
              "  </style>\n",
              "\n",
              "    <script>\n",
              "      const buttonEl =\n",
              "        document.querySelector('#df-ec39ce00-0870-48b0-98e4-c79cae5d16a6 button.colab-df-convert');\n",
              "      buttonEl.style.display =\n",
              "        google.colab.kernel.accessAllowed ? 'block' : 'none';\n",
              "\n",
              "      async function convertToInteractive(key) {\n",
              "        const element = document.querySelector('#df-ec39ce00-0870-48b0-98e4-c79cae5d16a6');\n",
              "        const dataTable =\n",
              "          await google.colab.kernel.invokeFunction('convertToInteractive',\n",
              "                                                    [key], {});\n",
              "        if (!dataTable) return;\n",
              "\n",
              "        const docLinkHtml = 'Like what you see? Visit the ' +\n",
              "          '<a target=\"_blank\" href=https://colab.research.google.com/notebooks/data_table.ipynb>data table notebook</a>'\n",
              "          + ' to learn more about interactive tables.';\n",
              "        element.innerHTML = '';\n",
              "        dataTable['output_type'] = 'display_data';\n",
              "        await google.colab.output.renderOutput(dataTable, element);\n",
              "        const docLink = document.createElement('div');\n",
              "        docLink.innerHTML = docLinkHtml;\n",
              "        element.appendChild(docLink);\n",
              "      }\n",
              "    </script>\n",
              "  </div>\n",
              "\n",
              "\n",
              "<div id=\"df-f5ac066d-580e-4586-b81d-4be6f0799e92\">\n",
              "  <button class=\"colab-df-quickchart\" onclick=\"quickchart('df-f5ac066d-580e-4586-b81d-4be6f0799e92')\"\n",
              "            title=\"Suggest charts\"\n",
              "            style=\"display:none;\">\n",
              "\n",
              "<svg xmlns=\"http://www.w3.org/2000/svg\" height=\"24px\"viewBox=\"0 0 24 24\"\n",
              "     width=\"24px\">\n",
              "    <g>\n",
              "        <path d=\"M19 3H5c-1.1 0-2 .9-2 2v14c0 1.1.9 2 2 2h14c1.1 0 2-.9 2-2V5c0-1.1-.9-2-2-2zM9 17H7v-7h2v7zm4 0h-2V7h2v10zm4 0h-2v-4h2v4z\"/>\n",
              "    </g>\n",
              "</svg>\n",
              "  </button>\n",
              "\n",
              "<style>\n",
              "  .colab-df-quickchart {\n",
              "      --bg-color: #E8F0FE;\n",
              "      --fill-color: #1967D2;\n",
              "      --hover-bg-color: #E2EBFA;\n",
              "      --hover-fill-color: #174EA6;\n",
              "      --disabled-fill-color: #AAA;\n",
              "      --disabled-bg-color: #DDD;\n",
              "  }\n",
              "\n",
              "  [theme=dark] .colab-df-quickchart {\n",
              "      --bg-color: #3B4455;\n",
              "      --fill-color: #D2E3FC;\n",
              "      --hover-bg-color: #434B5C;\n",
              "      --hover-fill-color: #FFFFFF;\n",
              "      --disabled-bg-color: #3B4455;\n",
              "      --disabled-fill-color: #666;\n",
              "  }\n",
              "\n",
              "  .colab-df-quickchart {\n",
              "    background-color: var(--bg-color);\n",
              "    border: none;\n",
              "    border-radius: 50%;\n",
              "    cursor: pointer;\n",
              "    display: none;\n",
              "    fill: var(--fill-color);\n",
              "    height: 32px;\n",
              "    padding: 0;\n",
              "    width: 32px;\n",
              "  }\n",
              "\n",
              "  .colab-df-quickchart:hover {\n",
              "    background-color: var(--hover-bg-color);\n",
              "    box-shadow: 0 1px 2px rgba(60, 64, 67, 0.3), 0 1px 3px 1px rgba(60, 64, 67, 0.15);\n",
              "    fill: var(--button-hover-fill-color);\n",
              "  }\n",
              "\n",
              "  .colab-df-quickchart-complete:disabled,\n",
              "  .colab-df-quickchart-complete:disabled:hover {\n",
              "    background-color: var(--disabled-bg-color);\n",
              "    fill: var(--disabled-fill-color);\n",
              "    box-shadow: none;\n",
              "  }\n",
              "\n",
              "  .colab-df-spinner {\n",
              "    border: 2px solid var(--fill-color);\n",
              "    border-color: transparent;\n",
              "    border-bottom-color: var(--fill-color);\n",
              "    animation:\n",
              "      spin 1s steps(1) infinite;\n",
              "  }\n",
              "\n",
              "  @keyframes spin {\n",
              "    0% {\n",
              "      border-color: transparent;\n",
              "      border-bottom-color: var(--fill-color);\n",
              "      border-left-color: var(--fill-color);\n",
              "    }\n",
              "    20% {\n",
              "      border-color: transparent;\n",
              "      border-left-color: var(--fill-color);\n",
              "      border-top-color: var(--fill-color);\n",
              "    }\n",
              "    30% {\n",
              "      border-color: transparent;\n",
              "      border-left-color: var(--fill-color);\n",
              "      border-top-color: var(--fill-color);\n",
              "      border-right-color: var(--fill-color);\n",
              "    }\n",
              "    40% {\n",
              "      border-color: transparent;\n",
              "      border-right-color: var(--fill-color);\n",
              "      border-top-color: var(--fill-color);\n",
              "    }\n",
              "    60% {\n",
              "      border-color: transparent;\n",
              "      border-right-color: var(--fill-color);\n",
              "    }\n",
              "    80% {\n",
              "      border-color: transparent;\n",
              "      border-right-color: var(--fill-color);\n",
              "      border-bottom-color: var(--fill-color);\n",
              "    }\n",
              "    90% {\n",
              "      border-color: transparent;\n",
              "      border-bottom-color: var(--fill-color);\n",
              "    }\n",
              "  }\n",
              "</style>\n",
              "\n",
              "  <script>\n",
              "    async function quickchart(key) {\n",
              "      const quickchartButtonEl =\n",
              "        document.querySelector('#' + key + ' button');\n",
              "      quickchartButtonEl.disabled = true;  // To prevent multiple clicks.\n",
              "      quickchartButtonEl.classList.add('colab-df-spinner');\n",
              "      try {\n",
              "        const charts = await google.colab.kernel.invokeFunction(\n",
              "            'suggestCharts', [key], {});\n",
              "      } catch (error) {\n",
              "        console.error('Error during call to suggestCharts:', error);\n",
              "      }\n",
              "      quickchartButtonEl.classList.remove('colab-df-spinner');\n",
              "      quickchartButtonEl.classList.add('colab-df-quickchart-complete');\n",
              "    }\n",
              "    (() => {\n",
              "      let quickchartButtonEl =\n",
              "        document.querySelector('#df-f5ac066d-580e-4586-b81d-4be6f0799e92 button');\n",
              "      quickchartButtonEl.style.display =\n",
              "        google.colab.kernel.accessAllowed ? 'block' : 'none';\n",
              "    })();\n",
              "  </script>\n",
              "</div>\n",
              "    </div>\n",
              "  </div>\n"
            ],
            "text/plain": [
              "                                            Question\n",
              "0  What is the step by step guide to invest in sh...\n",
              "1  What is the story of Kohinoor (Koh-i-Noor) Dia...\n",
              "2  How can I increase the speed of my internet co...\n",
              "3  Why am I mentally very lonely? How can I solve...\n",
              "4  Which one dissolve in water quikly sugar, salt..."
            ]
          },
          "execution_count": 38,
          "metadata": {},
          "output_type": "execute_result"
        }
      ],
      "source": [
        "data2.head()"
      ]
    },
    {
      "cell_type": "code",
      "execution_count": null,
      "metadata": {
        "id": "xt9grGo6NiV6"
      },
      "outputs": [],
      "source": [
        "cv2 = CountVectorizer(max_df=0.95, min_df=2, stop_words='english')\n"
      ]
    },
    {
      "cell_type": "code",
      "execution_count": null,
      "metadata": {
        "id": "nQFq6E1RO2N1"
      },
      "outputs": [],
      "source": [
        "dtm2 = cv2.fit_transform(data2['Question'])\n"
      ]
    },
    {
      "cell_type": "code",
      "execution_count": null,
      "metadata": {
        "id": "See6pg3CPBVi"
      },
      "outputs": [],
      "source": [
        "LDA2= LatentDirichletAllocation(n_components=7,random_state=42)\n"
      ]
    },
    {
      "cell_type": "code",
      "execution_count": null,
      "metadata": {
        "colab": {
          "base_uri": "https://localhost:8080/",
          "height": 74
        },
        "id": "ezkOBb5MPJ4B",
        "outputId": "b8fa06f5-9f9a-4771-edf4-3a4efa0f8eed"
      },
      "outputs": [
        {
          "data": {
            "text/html": [
              "<style>#sk-container-id-2 {color: black;background-color: white;}#sk-container-id-2 pre{padding: 0;}#sk-container-id-2 div.sk-toggleable {background-color: white;}#sk-container-id-2 label.sk-toggleable__label {cursor: pointer;display: block;width: 100%;margin-bottom: 0;padding: 0.3em;box-sizing: border-box;text-align: center;}#sk-container-id-2 label.sk-toggleable__label-arrow:before {content: \"▸\";float: left;margin-right: 0.25em;color: #696969;}#sk-container-id-2 label.sk-toggleable__label-arrow:hover:before {color: black;}#sk-container-id-2 div.sk-estimator:hover label.sk-toggleable__label-arrow:before {color: black;}#sk-container-id-2 div.sk-toggleable__content {max-height: 0;max-width: 0;overflow: hidden;text-align: left;background-color: #f0f8ff;}#sk-container-id-2 div.sk-toggleable__content pre {margin: 0.2em;color: black;border-radius: 0.25em;background-color: #f0f8ff;}#sk-container-id-2 input.sk-toggleable__control:checked~div.sk-toggleable__content {max-height: 200px;max-width: 100%;overflow: auto;}#sk-container-id-2 input.sk-toggleable__control:checked~label.sk-toggleable__label-arrow:before {content: \"▾\";}#sk-container-id-2 div.sk-estimator input.sk-toggleable__control:checked~label.sk-toggleable__label {background-color: #d4ebff;}#sk-container-id-2 div.sk-label input.sk-toggleable__control:checked~label.sk-toggleable__label {background-color: #d4ebff;}#sk-container-id-2 input.sk-hidden--visually {border: 0;clip: rect(1px 1px 1px 1px);clip: rect(1px, 1px, 1px, 1px);height: 1px;margin: -1px;overflow: hidden;padding: 0;position: absolute;width: 1px;}#sk-container-id-2 div.sk-estimator {font-family: monospace;background-color: #f0f8ff;border: 1px dotted black;border-radius: 0.25em;box-sizing: border-box;margin-bottom: 0.5em;}#sk-container-id-2 div.sk-estimator:hover {background-color: #d4ebff;}#sk-container-id-2 div.sk-parallel-item::after {content: \"\";width: 100%;border-bottom: 1px solid gray;flex-grow: 1;}#sk-container-id-2 div.sk-label:hover label.sk-toggleable__label {background-color: #d4ebff;}#sk-container-id-2 div.sk-serial::before {content: \"\";position: absolute;border-left: 1px solid gray;box-sizing: border-box;top: 0;bottom: 0;left: 50%;z-index: 0;}#sk-container-id-2 div.sk-serial {display: flex;flex-direction: column;align-items: center;background-color: white;padding-right: 0.2em;padding-left: 0.2em;position: relative;}#sk-container-id-2 div.sk-item {position: relative;z-index: 1;}#sk-container-id-2 div.sk-parallel {display: flex;align-items: stretch;justify-content: center;background-color: white;position: relative;}#sk-container-id-2 div.sk-item::before, #sk-container-id-2 div.sk-parallel-item::before {content: \"\";position: absolute;border-left: 1px solid gray;box-sizing: border-box;top: 0;bottom: 0;left: 50%;z-index: -1;}#sk-container-id-2 div.sk-parallel-item {display: flex;flex-direction: column;z-index: 1;position: relative;background-color: white;}#sk-container-id-2 div.sk-parallel-item:first-child::after {align-self: flex-end;width: 50%;}#sk-container-id-2 div.sk-parallel-item:last-child::after {align-self: flex-start;width: 50%;}#sk-container-id-2 div.sk-parallel-item:only-child::after {width: 0;}#sk-container-id-2 div.sk-dashed-wrapped {border: 1px dashed gray;margin: 0 0.4em 0.5em 0.4em;box-sizing: border-box;padding-bottom: 0.4em;background-color: white;}#sk-container-id-2 div.sk-label label {font-family: monospace;font-weight: bold;display: inline-block;line-height: 1.2em;}#sk-container-id-2 div.sk-label-container {text-align: center;}#sk-container-id-2 div.sk-container {/* jupyter's `normalize.less` sets `[hidden] { display: none; }` but bootstrap.min.css set `[hidden] { display: none !important; }` so we also need the `!important` here to be able to override the default hidden behavior on the sphinx rendered scikit-learn.org. See: https://github.com/scikit-learn/scikit-learn/issues/21755 */display: inline-block !important;position: relative;}#sk-container-id-2 div.sk-text-repr-fallback {display: none;}</style><div id=\"sk-container-id-2\" class=\"sk-top-container\"><div class=\"sk-text-repr-fallback\"><pre>LatentDirichletAllocation(n_components=7, random_state=42)</pre><b>In a Jupyter environment, please rerun this cell to show the HTML representation or trust the notebook. <br />On GitHub, the HTML representation is unable to render, please try loading this page with nbviewer.org.</b></div><div class=\"sk-container\" hidden><div class=\"sk-item\"><div class=\"sk-estimator sk-toggleable\"><input class=\"sk-toggleable__control sk-hidden--visually\" id=\"sk-estimator-id-2\" type=\"checkbox\" checked><label for=\"sk-estimator-id-2\" class=\"sk-toggleable__label sk-toggleable__label-arrow\">LatentDirichletAllocation</label><div class=\"sk-toggleable__content\"><pre>LatentDirichletAllocation(n_components=7, random_state=42)</pre></div></div></div></div></div>"
            ],
            "text/plain": [
              "LatentDirichletAllocation(n_components=7, random_state=42)"
            ]
          },
          "execution_count": 42,
          "metadata": {},
          "output_type": "execute_result"
        }
      ],
      "source": [
        "LDA2.fit(dtm2)\n"
      ]
    },
    {
      "cell_type": "code",
      "execution_count": null,
      "metadata": {
        "colab": {
          "base_uri": "https://localhost:8080/"
        },
        "id": "_MqC_-HkPL2L",
        "outputId": "6a50e092-d2f8-4e10-99c9-7546431cfca1"
      },
      "outputs": [
        {
          "data": {
            "text/plain": [
              "7"
            ]
          },
          "execution_count": 43,
          "metadata": {},
          "output_type": "execute_result"
        }
      ],
      "source": [
        "len(LDA2.components_)"
      ]
    },
    {
      "cell_type": "code",
      "execution_count": null,
      "metadata": {
        "colab": {
          "base_uri": "https://localhost:8080/"
        },
        "id": "b-V7lgfiUbGJ",
        "outputId": "40dc8235-40c6-451d-8bd9-3792232eeb60"
      },
      "outputs": [
        {
          "data": {
            "text/plain": [
              "array([[ 0.14302751,  0.18117197,  0.14642241, ...,  0.14285724,\n",
              "         2.14149267,  0.14285724],\n",
              "       [ 0.14359789, 68.66894325,  0.14285793, ...,  0.14285728,\n",
              "         0.14285797,  0.14285728],\n",
              "       [ 5.30622659,  0.15008675,  0.14285791, ...,  2.14285648,\n",
              "         0.14285796,  2.14285648],\n",
              "       ...,\n",
              "       [ 0.14325168,  0.14313396,  0.14285777, ...,  0.14285725,\n",
              "         0.1428578 ,  0.14285725],\n",
              "       [ 0.24759557,  0.14293736,  2.13928835, ...,  0.14285723,\n",
              "         0.14421791,  0.14285723],\n",
              "       [26.64869167,  0.14315453,  0.14285781, ...,  0.14285726,\n",
              "         0.14285784,  0.14285726]])"
            ]
          },
          "execution_count": 44,
          "metadata": {},
          "output_type": "execute_result"
        }
      ],
      "source": [
        "LDA2.components_"
      ]
    },
    {
      "cell_type": "code",
      "execution_count": null,
      "metadata": {
        "id": "95ldKTk3VI0t"
      },
      "outputs": [],
      "source": [
        "features2=cv2.get_feature_names_out()"
      ]
    },
    {
      "cell_type": "code",
      "execution_count": null,
      "metadata": {
        "colab": {
          "base_uri": "https://localhost:8080/"
        },
        "id": "3gfsfAntUgXe",
        "outputId": "d59810dd-db4f-4d55-b49b-bab94dbb474a"
      },
      "outputs": [
        {
          "data": {
            "text/plain": [
              "38669"
            ]
          },
          "execution_count": 46,
          "metadata": {},
          "output_type": "execute_result"
        }
      ],
      "source": [
        "len(LDA2.components_[0])"
      ]
    },
    {
      "cell_type": "code",
      "execution_count": null,
      "metadata": {
        "id": "xquujK9eUkC-"
      },
      "outputs": [],
      "source": [
        "single_topic=LDA2.components_[0]"
      ]
    },
    {
      "cell_type": "code",
      "execution_count": null,
      "metadata": {
        "colab": {
          "base_uri": "https://localhost:8080/"
        },
        "id": "IMGGFQ3sUoAL",
        "outputId": "536f63b7-ebb1-4807-c6b9-4c22d7bda696"
      },
      "outputs": [
        {
          "data": {
            "text/plain": [
              "array([34210,  6365, 23296, ..., 26057, 17507,  4632])"
            ]
          },
          "execution_count": 48,
          "metadata": {},
          "output_type": "execute_result"
        }
      ],
      "source": [
        "single_topic.argsort()\n"
      ]
    },
    {
      "cell_type": "code",
      "execution_count": null,
      "metadata": {
        "colab": {
          "base_uri": "https://localhost:8080/"
        },
        "id": "2Wyi-_HIUpQ7",
        "outputId": "6050298f-0188-4d56-a326-6765a4277339"
      },
      "outputs": [
        {
          "data": {
            "text/plain": [
              "0.14285731762694745"
            ]
          },
          "execution_count": 49,
          "metadata": {},
          "output_type": "execute_result"
        }
      ],
      "source": [
        "single_topic[18302]\n"
      ]
    },
    {
      "cell_type": "code",
      "execution_count": null,
      "metadata": {
        "colab": {
          "base_uri": "https://localhost:8080/"
        },
        "id": "nUuXWkKVUuvT",
        "outputId": "a1c6055a-1005-44e1-e932-c15b2b0d95ff"
      },
      "outputs": [
        {
          "data": {
            "text/plain": [
              "0.14285724432274927"
            ]
          },
          "execution_count": 50,
          "metadata": {},
          "output_type": "execute_result"
        }
      ],
      "source": [
        "single_topic[38668]\n"
      ]
    },
    {
      "cell_type": "code",
      "execution_count": null,
      "metadata": {
        "id": "T4Ui_3ThUxMZ"
      },
      "outputs": [],
      "source": [
        "top_word_indices = single_topic.argsort()[-10:]\n"
      ]
    },
    {
      "cell_type": "code",
      "execution_count": null,
      "metadata": {
        "colab": {
          "base_uri": "https://localhost:8080/"
        },
        "id": "txVTjL_7VBhH",
        "outputId": "f932b299-2822-4a77-bb75-ffd694e4daeb"
      },
      "outputs": [
        {
          "name": "stdout",
          "output_type": "stream",
          "text": [
            "dopey\n",
            "angrier\n",
            "ameera\n",
            "crystalline\n",
            "constellation\n",
            "doorbell\n",
            "personhood\n",
            "ivs\n",
            "excused\n",
            "bakken\n"
          ]
        }
      ],
      "source": [
        "for index in top_word_indices:\n",
        "  print(features[index])\n"
      ]
    },
    {
      "cell_type": "code",
      "execution_count": null,
      "metadata": {
        "colab": {
          "base_uri": "https://localhost:8080/"
        },
        "id": "m6MWLpnPVEW-",
        "outputId": "552edaf1-65d7-4efc-b50e-23491e2b3b42"
      },
      "outputs": [
        {
          "name": "stdout",
          "output_type": "stream",
          "text": [
            "THE TOP 15 WORDS FOR TOPIC #0\n",
            "['digest', 'canes', 'persuasive', 'hated', 'monticello', 'dopey', 'angrier', 'ameera', 'crystalline', 'constellation', 'doorbell', 'personhood', 'ivs', 'excused', 'bakken']\n",
            "\n",
            "\n",
            "THE TOP 15 WORDS FOR TOPIC #1\n",
            "['pooping', 'klezmer', 'naval', 'frightfully', 'evicted', '080', 'hyperactive', 'impressionist', '648', 'csi', 'gonzalo', 'pooled', 'furious', 'health', 'bakken']\n",
            "\n",
            "\n",
            "THE TOP 15 WORDS FOR TOPIC #2\n",
            "['marisol', 'beeping', 'pommer', 'compatibility', 'cannabis', 'pacific', 'asl', 'crushed', 'excused', 'befits', 'bakken', 'doorbell', 'orville', 'constellation', 'garlic']\n",
            "\n",
            "\n",
            "THE TOP 15 WORDS FOR TOPIC #3\n",
            "['gonzalo', 'henrik', 'optioned', 'constellation', 'laszewski', 'impersonation', 'henriette', 'procrastinated', 'options', 'lately', 'bakken', 'formula', 'houghton', 'inveterate', 'laundered']\n",
            "\n",
            "\n",
            "THE TOP 15 WORDS FOR TOPIC #4\n",
            "['chamblee', 'crick', 'competitions', 'machu', 'intercession', 'bobotie', 'identification', 'eyeglasses', 'excerpts', 'excused', 'fiorina', 'constellation', 'competition', 'decorate', 'acquire']\n",
            "\n",
            "\n",
            "THE TOP 15 WORDS FOR TOPIC #5\n",
            "['dmitry', 'meshell', 'gestures', 'consumes', 'excused', 'delightful', 'gigging', 'optometric', 'guantanamo', 'inveterate', 'present', 'panetta', 'compatibility', 'gastroenterologist', 'constellation']\n",
            "\n",
            "\n",
            "THE TOP 15 WORDS FOR TOPIC #6\n",
            "['bittman', 'classmates', 'daraprim', 'mccaughey', 'nell', 'mcadams', 'pooled', 'generated', 'furnaces', 'keo', 'gibala', 'doorbell', 'posed', 'nadezhda', 'bakken']\n",
            "\n",
            "\n"
          ]
        }
      ],
      "source": [
        "for index,topic in enumerate(LDA2.components_):\n",
        "  print(f'THE TOP 15 WORDS FOR TOPIC #{index}')\n",
        "  print([features[i] for i in topic.argsort()[-15:]])\n",
        "  print('\\n')"
      ]
    },
    {
      "cell_type": "code",
      "execution_count": null,
      "metadata": {
        "colab": {
          "base_uri": "https://localhost:8080/"
        },
        "id": "MltFFfH7VVgh",
        "outputId": "d3782aa4-259c-4e92-fa65-10c327709f60"
      },
      "outputs": [
        {
          "data": {
            "text/plain": [
              "<404289x38669 sparse matrix of type '<class 'numpy.int64'>'\n",
              "\twith 2002912 stored elements in Compressed Sparse Row format>"
            ]
          },
          "execution_count": 54,
          "metadata": {},
          "output_type": "execute_result"
        }
      ],
      "source": [
        "dtm2"
      ]
    },
    {
      "cell_type": "code",
      "execution_count": null,
      "metadata": {
        "colab": {
          "base_uri": "https://localhost:8080/"
        },
        "id": "4xTwYTw7VeqY",
        "outputId": "f872b5a8-08ad-43da-dd6b-56aaa3bb3c1f"
      },
      "outputs": [
        {
          "data": {
            "text/plain": [
              "(404289, 38669)"
            ]
          },
          "execution_count": 55,
          "metadata": {},
          "output_type": "execute_result"
        }
      ],
      "source": [
        "dtm2.shape"
      ]
    },
    {
      "cell_type": "code",
      "execution_count": null,
      "metadata": {
        "colab": {
          "base_uri": "https://localhost:8080/"
        },
        "id": "axaVlReaVft6",
        "outputId": "bfb9a4b2-057d-4a4a-f92a-afa7a182e635"
      },
      "outputs": [
        {
          "data": {
            "text/plain": [
              "404289"
            ]
          },
          "execution_count": 56,
          "metadata": {},
          "output_type": "execute_result"
        }
      ],
      "source": [
        "len(data2)"
      ]
    },
    {
      "cell_type": "code",
      "execution_count": null,
      "metadata": {
        "id": "p9GHQEOUVgZj"
      },
      "outputs": [],
      "source": [
        "topic_results=LDA2.transform(dtm2)"
      ]
    },
    {
      "cell_type": "code",
      "execution_count": null,
      "metadata": {
        "colab": {
          "base_uri": "https://localhost:8080/"
        },
        "id": "YYEiiBk3VmCL",
        "outputId": "cd6f547e-f8f8-4bd5-9b8d-a8d0340dcb94"
      },
      "outputs": [
        {
          "data": {
            "text/plain": [
              "(404289, 7)"
            ]
          },
          "execution_count": 58,
          "metadata": {},
          "output_type": "execute_result"
        }
      ],
      "source": [
        "topic_results.shape\n"
      ]
    },
    {
      "cell_type": "code",
      "execution_count": null,
      "metadata": {
        "colab": {
          "base_uri": "https://localhost:8080/"
        },
        "id": "5cVSsMBVWgct",
        "outputId": "a633e7c8-885b-4a59-eaa5-68f1e9623a1a"
      },
      "outputs": [
        {
          "data": {
            "text/plain": [
              "array([0.01789911, 0.31645888, 0.59414638, 0.01786013, 0.0178879 ,\n",
              "       0.01787348, 0.01787413])"
            ]
          },
          "execution_count": 59,
          "metadata": {},
          "output_type": "execute_result"
        }
      ],
      "source": [
        "topic_results[0]"
      ]
    },
    {
      "cell_type": "code",
      "execution_count": null,
      "metadata": {
        "colab": {
          "base_uri": "https://localhost:8080/"
        },
        "id": "AzpYt_HCWh0g",
        "outputId": "e0bcf4f0-54f6-4d88-8e7d-a8f3a36f2d4d"
      },
      "outputs": [
        {
          "data": {
            "text/plain": [
              "array([0.02, 0.32, 0.59, 0.02, 0.02, 0.02, 0.02])"
            ]
          },
          "execution_count": 60,
          "metadata": {},
          "output_type": "execute_result"
        }
      ],
      "source": [
        "topic_results[0].round(2)\n"
      ]
    },
    {
      "cell_type": "code",
      "execution_count": null,
      "metadata": {
        "colab": {
          "base_uri": "https://localhost:8080/",
          "height": 206
        },
        "id": "5slnYkDrWjG3",
        "outputId": "21dac5b8-119a-4d2d-fdaf-3157d115b22f"
      },
      "outputs": [
        {
          "data": {
            "application/vnd.google.colaboratory.intrinsic+json": {
              "type": "dataframe",
              "variable_name": "data2"
            },
            "text/html": [
              "\n",
              "  <div id=\"df-2740f680-4ad8-4b1b-b223-e9220c5106bd\" class=\"colab-df-container\">\n",
              "    <div>\n",
              "<style scoped>\n",
              "    .dataframe tbody tr th:only-of-type {\n",
              "        vertical-align: middle;\n",
              "    }\n",
              "\n",
              "    .dataframe tbody tr th {\n",
              "        vertical-align: top;\n",
              "    }\n",
              "\n",
              "    .dataframe thead th {\n",
              "        text-align: right;\n",
              "    }\n",
              "</style>\n",
              "<table border=\"1\" class=\"dataframe\">\n",
              "  <thead>\n",
              "    <tr style=\"text-align: right;\">\n",
              "      <th></th>\n",
              "      <th>Question</th>\n",
              "    </tr>\n",
              "  </thead>\n",
              "  <tbody>\n",
              "    <tr>\n",
              "      <th>0</th>\n",
              "      <td>What is the step by step guide to invest in sh...</td>\n",
              "    </tr>\n",
              "    <tr>\n",
              "      <th>1</th>\n",
              "      <td>What is the story of Kohinoor (Koh-i-Noor) Dia...</td>\n",
              "    </tr>\n",
              "    <tr>\n",
              "      <th>2</th>\n",
              "      <td>How can I increase the speed of my internet co...</td>\n",
              "    </tr>\n",
              "    <tr>\n",
              "      <th>3</th>\n",
              "      <td>Why am I mentally very lonely? How can I solve...</td>\n",
              "    </tr>\n",
              "    <tr>\n",
              "      <th>4</th>\n",
              "      <td>Which one dissolve in water quikly sugar, salt...</td>\n",
              "    </tr>\n",
              "  </tbody>\n",
              "</table>\n",
              "</div>\n",
              "    <div class=\"colab-df-buttons\">\n",
              "\n",
              "  <div class=\"colab-df-container\">\n",
              "    <button class=\"colab-df-convert\" onclick=\"convertToInteractive('df-2740f680-4ad8-4b1b-b223-e9220c5106bd')\"\n",
              "            title=\"Convert this dataframe to an interactive table.\"\n",
              "            style=\"display:none;\">\n",
              "\n",
              "  <svg xmlns=\"http://www.w3.org/2000/svg\" height=\"24px\" viewBox=\"0 -960 960 960\">\n",
              "    <path d=\"M120-120v-720h720v720H120Zm60-500h600v-160H180v160Zm220 220h160v-160H400v160Zm0 220h160v-160H400v160ZM180-400h160v-160H180v160Zm440 0h160v-160H620v160ZM180-180h160v-160H180v160Zm440 0h160v-160H620v160Z\"/>\n",
              "  </svg>\n",
              "    </button>\n",
              "\n",
              "  <style>\n",
              "    .colab-df-container {\n",
              "      display:flex;\n",
              "      gap: 12px;\n",
              "    }\n",
              "\n",
              "    .colab-df-convert {\n",
              "      background-color: #E8F0FE;\n",
              "      border: none;\n",
              "      border-radius: 50%;\n",
              "      cursor: pointer;\n",
              "      display: none;\n",
              "      fill: #1967D2;\n",
              "      height: 32px;\n",
              "      padding: 0 0 0 0;\n",
              "      width: 32px;\n",
              "    }\n",
              "\n",
              "    .colab-df-convert:hover {\n",
              "      background-color: #E2EBFA;\n",
              "      box-shadow: 0px 1px 2px rgba(60, 64, 67, 0.3), 0px 1px 3px 1px rgba(60, 64, 67, 0.15);\n",
              "      fill: #174EA6;\n",
              "    }\n",
              "\n",
              "    .colab-df-buttons div {\n",
              "      margin-bottom: 4px;\n",
              "    }\n",
              "\n",
              "    [theme=dark] .colab-df-convert {\n",
              "      background-color: #3B4455;\n",
              "      fill: #D2E3FC;\n",
              "    }\n",
              "\n",
              "    [theme=dark] .colab-df-convert:hover {\n",
              "      background-color: #434B5C;\n",
              "      box-shadow: 0px 1px 3px 1px rgba(0, 0, 0, 0.15);\n",
              "      filter: drop-shadow(0px 1px 2px rgba(0, 0, 0, 0.3));\n",
              "      fill: #FFFFFF;\n",
              "    }\n",
              "  </style>\n",
              "\n",
              "    <script>\n",
              "      const buttonEl =\n",
              "        document.querySelector('#df-2740f680-4ad8-4b1b-b223-e9220c5106bd button.colab-df-convert');\n",
              "      buttonEl.style.display =\n",
              "        google.colab.kernel.accessAllowed ? 'block' : 'none';\n",
              "\n",
              "      async function convertToInteractive(key) {\n",
              "        const element = document.querySelector('#df-2740f680-4ad8-4b1b-b223-e9220c5106bd');\n",
              "        const dataTable =\n",
              "          await google.colab.kernel.invokeFunction('convertToInteractive',\n",
              "                                                    [key], {});\n",
              "        if (!dataTable) return;\n",
              "\n",
              "        const docLinkHtml = 'Like what you see? Visit the ' +\n",
              "          '<a target=\"_blank\" href=https://colab.research.google.com/notebooks/data_table.ipynb>data table notebook</a>'\n",
              "          + ' to learn more about interactive tables.';\n",
              "        element.innerHTML = '';\n",
              "        dataTable['output_type'] = 'display_data';\n",
              "        await google.colab.output.renderOutput(dataTable, element);\n",
              "        const docLink = document.createElement('div');\n",
              "        docLink.innerHTML = docLinkHtml;\n",
              "        element.appendChild(docLink);\n",
              "      }\n",
              "    </script>\n",
              "  </div>\n",
              "\n",
              "\n",
              "<div id=\"df-9bccb465-6ae4-473c-806f-58bb81483406\">\n",
              "  <button class=\"colab-df-quickchart\" onclick=\"quickchart('df-9bccb465-6ae4-473c-806f-58bb81483406')\"\n",
              "            title=\"Suggest charts\"\n",
              "            style=\"display:none;\">\n",
              "\n",
              "<svg xmlns=\"http://www.w3.org/2000/svg\" height=\"24px\"viewBox=\"0 0 24 24\"\n",
              "     width=\"24px\">\n",
              "    <g>\n",
              "        <path d=\"M19 3H5c-1.1 0-2 .9-2 2v14c0 1.1.9 2 2 2h14c1.1 0 2-.9 2-2V5c0-1.1-.9-2-2-2zM9 17H7v-7h2v7zm4 0h-2V7h2v10zm4 0h-2v-4h2v4z\"/>\n",
              "    </g>\n",
              "</svg>\n",
              "  </button>\n",
              "\n",
              "<style>\n",
              "  .colab-df-quickchart {\n",
              "      --bg-color: #E8F0FE;\n",
              "      --fill-color: #1967D2;\n",
              "      --hover-bg-color: #E2EBFA;\n",
              "      --hover-fill-color: #174EA6;\n",
              "      --disabled-fill-color: #AAA;\n",
              "      --disabled-bg-color: #DDD;\n",
              "  }\n",
              "\n",
              "  [theme=dark] .colab-df-quickchart {\n",
              "      --bg-color: #3B4455;\n",
              "      --fill-color: #D2E3FC;\n",
              "      --hover-bg-color: #434B5C;\n",
              "      --hover-fill-color: #FFFFFF;\n",
              "      --disabled-bg-color: #3B4455;\n",
              "      --disabled-fill-color: #666;\n",
              "  }\n",
              "\n",
              "  .colab-df-quickchart {\n",
              "    background-color: var(--bg-color);\n",
              "    border: none;\n",
              "    border-radius: 50%;\n",
              "    cursor: pointer;\n",
              "    display: none;\n",
              "    fill: var(--fill-color);\n",
              "    height: 32px;\n",
              "    padding: 0;\n",
              "    width: 32px;\n",
              "  }\n",
              "\n",
              "  .colab-df-quickchart:hover {\n",
              "    background-color: var(--hover-bg-color);\n",
              "    box-shadow: 0 1px 2px rgba(60, 64, 67, 0.3), 0 1px 3px 1px rgba(60, 64, 67, 0.15);\n",
              "    fill: var(--button-hover-fill-color);\n",
              "  }\n",
              "\n",
              "  .colab-df-quickchart-complete:disabled,\n",
              "  .colab-df-quickchart-complete:disabled:hover {\n",
              "    background-color: var(--disabled-bg-color);\n",
              "    fill: var(--disabled-fill-color);\n",
              "    box-shadow: none;\n",
              "  }\n",
              "\n",
              "  .colab-df-spinner {\n",
              "    border: 2px solid var(--fill-color);\n",
              "    border-color: transparent;\n",
              "    border-bottom-color: var(--fill-color);\n",
              "    animation:\n",
              "      spin 1s steps(1) infinite;\n",
              "  }\n",
              "\n",
              "  @keyframes spin {\n",
              "    0% {\n",
              "      border-color: transparent;\n",
              "      border-bottom-color: var(--fill-color);\n",
              "      border-left-color: var(--fill-color);\n",
              "    }\n",
              "    20% {\n",
              "      border-color: transparent;\n",
              "      border-left-color: var(--fill-color);\n",
              "      border-top-color: var(--fill-color);\n",
              "    }\n",
              "    30% {\n",
              "      border-color: transparent;\n",
              "      border-left-color: var(--fill-color);\n",
              "      border-top-color: var(--fill-color);\n",
              "      border-right-color: var(--fill-color);\n",
              "    }\n",
              "    40% {\n",
              "      border-color: transparent;\n",
              "      border-right-color: var(--fill-color);\n",
              "      border-top-color: var(--fill-color);\n",
              "    }\n",
              "    60% {\n",
              "      border-color: transparent;\n",
              "      border-right-color: var(--fill-color);\n",
              "    }\n",
              "    80% {\n",
              "      border-color: transparent;\n",
              "      border-right-color: var(--fill-color);\n",
              "      border-bottom-color: var(--fill-color);\n",
              "    }\n",
              "    90% {\n",
              "      border-color: transparent;\n",
              "      border-bottom-color: var(--fill-color);\n",
              "    }\n",
              "  }\n",
              "</style>\n",
              "\n",
              "  <script>\n",
              "    async function quickchart(key) {\n",
              "      const quickchartButtonEl =\n",
              "        document.querySelector('#' + key + ' button');\n",
              "      quickchartButtonEl.disabled = true;  // To prevent multiple clicks.\n",
              "      quickchartButtonEl.classList.add('colab-df-spinner');\n",
              "      try {\n",
              "        const charts = await google.colab.kernel.invokeFunction(\n",
              "            'suggestCharts', [key], {});\n",
              "      } catch (error) {\n",
              "        console.error('Error during call to suggestCharts:', error);\n",
              "      }\n",
              "      quickchartButtonEl.classList.remove('colab-df-spinner');\n",
              "      quickchartButtonEl.classList.add('colab-df-quickchart-complete');\n",
              "    }\n",
              "    (() => {\n",
              "      let quickchartButtonEl =\n",
              "        document.querySelector('#df-9bccb465-6ae4-473c-806f-58bb81483406 button');\n",
              "      quickchartButtonEl.style.display =\n",
              "        google.colab.kernel.accessAllowed ? 'block' : 'none';\n",
              "    })();\n",
              "  </script>\n",
              "</div>\n",
              "    </div>\n",
              "  </div>\n"
            ],
            "text/plain": [
              "                                            Question\n",
              "0  What is the step by step guide to invest in sh...\n",
              "1  What is the story of Kohinoor (Koh-i-Noor) Dia...\n",
              "2  How can I increase the speed of my internet co...\n",
              "3  Why am I mentally very lonely? How can I solve...\n",
              "4  Which one dissolve in water quikly sugar, salt..."
            ]
          },
          "execution_count": 61,
          "metadata": {},
          "output_type": "execute_result"
        }
      ],
      "source": [
        "data2.head()\n"
      ]
    },
    {
      "cell_type": "code",
      "execution_count": null,
      "metadata": {
        "colab": {
          "base_uri": "https://localhost:8080/"
        },
        "id": "eFNdWo6MWk4R",
        "outputId": "c31fa510-58a7-45e2-e56e-11ab3c0bac76"
      },
      "outputs": [
        {
          "data": {
            "text/plain": [
              "array([2, 4, 0, ..., 0, 6, 5])"
            ]
          },
          "execution_count": 62,
          "metadata": {},
          "output_type": "execute_result"
        }
      ],
      "source": [
        "topic_results.argmax(axis=1)\n"
      ]
    },
    {
      "cell_type": "code",
      "execution_count": null,
      "metadata": {
        "id": "dyjzDD8LWmuz"
      },
      "outputs": [],
      "source": [
        "data2['Topic'] = topic_results.argmax(axis=1)\n"
      ]
    },
    {
      "cell_type": "code",
      "execution_count": null,
      "metadata": {
        "colab": {
          "base_uri": "https://localhost:8080/",
          "height": 732
        },
        "id": "6D78JRCBWoxl",
        "outputId": "b7f017cf-8d96-4cb4-bc45-0a4419948ef6"
      },
      "outputs": [
        {
          "data": {
            "application/vnd.google.colaboratory.intrinsic+json": {
              "type": "dataframe",
              "variable_name": "data2"
            },
            "text/html": [
              "\n",
              "  <div id=\"df-7e90e736-925e-4a76-b791-e47ce23fb430\" class=\"colab-df-container\">\n",
              "    <div>\n",
              "<style scoped>\n",
              "    .dataframe tbody tr th:only-of-type {\n",
              "        vertical-align: middle;\n",
              "    }\n",
              "\n",
              "    .dataframe tbody tr th {\n",
              "        vertical-align: top;\n",
              "    }\n",
              "\n",
              "    .dataframe thead th {\n",
              "        text-align: right;\n",
              "    }\n",
              "</style>\n",
              "<table border=\"1\" class=\"dataframe\">\n",
              "  <thead>\n",
              "    <tr style=\"text-align: right;\">\n",
              "      <th></th>\n",
              "      <th>Question</th>\n",
              "      <th>Topic</th>\n",
              "    </tr>\n",
              "  </thead>\n",
              "  <tbody>\n",
              "    <tr>\n",
              "      <th>0</th>\n",
              "      <td>What is the step by step guide to invest in sh...</td>\n",
              "      <td>2</td>\n",
              "    </tr>\n",
              "    <tr>\n",
              "      <th>1</th>\n",
              "      <td>What is the story of Kohinoor (Koh-i-Noor) Dia...</td>\n",
              "      <td>4</td>\n",
              "    </tr>\n",
              "    <tr>\n",
              "      <th>2</th>\n",
              "      <td>How can I increase the speed of my internet co...</td>\n",
              "      <td>0</td>\n",
              "    </tr>\n",
              "    <tr>\n",
              "      <th>3</th>\n",
              "      <td>Why am I mentally very lonely? How can I solve...</td>\n",
              "      <td>5</td>\n",
              "    </tr>\n",
              "    <tr>\n",
              "      <th>4</th>\n",
              "      <td>Which one dissolve in water quikly sugar, salt...</td>\n",
              "      <td>2</td>\n",
              "    </tr>\n",
              "    <tr>\n",
              "      <th>...</th>\n",
              "      <td>...</td>\n",
              "      <td>...</td>\n",
              "    </tr>\n",
              "    <tr>\n",
              "      <th>404284</th>\n",
              "      <td>How many keywords are there in the Racket prog...</td>\n",
              "      <td>1</td>\n",
              "    </tr>\n",
              "    <tr>\n",
              "      <th>404285</th>\n",
              "      <td>Do you believe there is life after death?</td>\n",
              "      <td>2</td>\n",
              "    </tr>\n",
              "    <tr>\n",
              "      <th>404286</th>\n",
              "      <td>What is one coin?</td>\n",
              "      <td>0</td>\n",
              "    </tr>\n",
              "    <tr>\n",
              "      <th>404287</th>\n",
              "      <td>What is the approx annual cost of living while...</td>\n",
              "      <td>6</td>\n",
              "    </tr>\n",
              "    <tr>\n",
              "      <th>404288</th>\n",
              "      <td>What is like to have sex with cousin?</td>\n",
              "      <td>5</td>\n",
              "    </tr>\n",
              "  </tbody>\n",
              "</table>\n",
              "<p>404289 rows × 2 columns</p>\n",
              "</div>\n",
              "    <div class=\"colab-df-buttons\">\n",
              "\n",
              "  <div class=\"colab-df-container\">\n",
              "    <button class=\"colab-df-convert\" onclick=\"convertToInteractive('df-7e90e736-925e-4a76-b791-e47ce23fb430')\"\n",
              "            title=\"Convert this dataframe to an interactive table.\"\n",
              "            style=\"display:none;\">\n",
              "\n",
              "  <svg xmlns=\"http://www.w3.org/2000/svg\" height=\"24px\" viewBox=\"0 -960 960 960\">\n",
              "    <path d=\"M120-120v-720h720v720H120Zm60-500h600v-160H180v160Zm220 220h160v-160H400v160Zm0 220h160v-160H400v160ZM180-400h160v-160H180v160Zm440 0h160v-160H620v160ZM180-180h160v-160H180v160Zm440 0h160v-160H620v160Z\"/>\n",
              "  </svg>\n",
              "    </button>\n",
              "\n",
              "  <style>\n",
              "    .colab-df-container {\n",
              "      display:flex;\n",
              "      gap: 12px;\n",
              "    }\n",
              "\n",
              "    .colab-df-convert {\n",
              "      background-color: #E8F0FE;\n",
              "      border: none;\n",
              "      border-radius: 50%;\n",
              "      cursor: pointer;\n",
              "      display: none;\n",
              "      fill: #1967D2;\n",
              "      height: 32px;\n",
              "      padding: 0 0 0 0;\n",
              "      width: 32px;\n",
              "    }\n",
              "\n",
              "    .colab-df-convert:hover {\n",
              "      background-color: #E2EBFA;\n",
              "      box-shadow: 0px 1px 2px rgba(60, 64, 67, 0.3), 0px 1px 3px 1px rgba(60, 64, 67, 0.15);\n",
              "      fill: #174EA6;\n",
              "    }\n",
              "\n",
              "    .colab-df-buttons div {\n",
              "      margin-bottom: 4px;\n",
              "    }\n",
              "\n",
              "    [theme=dark] .colab-df-convert {\n",
              "      background-color: #3B4455;\n",
              "      fill: #D2E3FC;\n",
              "    }\n",
              "\n",
              "    [theme=dark] .colab-df-convert:hover {\n",
              "      background-color: #434B5C;\n",
              "      box-shadow: 0px 1px 3px 1px rgba(0, 0, 0, 0.15);\n",
              "      filter: drop-shadow(0px 1px 2px rgba(0, 0, 0, 0.3));\n",
              "      fill: #FFFFFF;\n",
              "    }\n",
              "  </style>\n",
              "\n",
              "    <script>\n",
              "      const buttonEl =\n",
              "        document.querySelector('#df-7e90e736-925e-4a76-b791-e47ce23fb430 button.colab-df-convert');\n",
              "      buttonEl.style.display =\n",
              "        google.colab.kernel.accessAllowed ? 'block' : 'none';\n",
              "\n",
              "      async function convertToInteractive(key) {\n",
              "        const element = document.querySelector('#df-7e90e736-925e-4a76-b791-e47ce23fb430');\n",
              "        const dataTable =\n",
              "          await google.colab.kernel.invokeFunction('convertToInteractive',\n",
              "                                                    [key], {});\n",
              "        if (!dataTable) return;\n",
              "\n",
              "        const docLinkHtml = 'Like what you see? Visit the ' +\n",
              "          '<a target=\"_blank\" href=https://colab.research.google.com/notebooks/data_table.ipynb>data table notebook</a>'\n",
              "          + ' to learn more about interactive tables.';\n",
              "        element.innerHTML = '';\n",
              "        dataTable['output_type'] = 'display_data';\n",
              "        await google.colab.output.renderOutput(dataTable, element);\n",
              "        const docLink = document.createElement('div');\n",
              "        docLink.innerHTML = docLinkHtml;\n",
              "        element.appendChild(docLink);\n",
              "      }\n",
              "    </script>\n",
              "  </div>\n",
              "\n",
              "\n",
              "<div id=\"df-bcbaf109-3198-4442-be7b-c7178f46699b\">\n",
              "  <button class=\"colab-df-quickchart\" onclick=\"quickchart('df-bcbaf109-3198-4442-be7b-c7178f46699b')\"\n",
              "            title=\"Suggest charts\"\n",
              "            style=\"display:none;\">\n",
              "\n",
              "<svg xmlns=\"http://www.w3.org/2000/svg\" height=\"24px\"viewBox=\"0 0 24 24\"\n",
              "     width=\"24px\">\n",
              "    <g>\n",
              "        <path d=\"M19 3H5c-1.1 0-2 .9-2 2v14c0 1.1.9 2 2 2h14c1.1 0 2-.9 2-2V5c0-1.1-.9-2-2-2zM9 17H7v-7h2v7zm4 0h-2V7h2v10zm4 0h-2v-4h2v4z\"/>\n",
              "    </g>\n",
              "</svg>\n",
              "  </button>\n",
              "\n",
              "<style>\n",
              "  .colab-df-quickchart {\n",
              "      --bg-color: #E8F0FE;\n",
              "      --fill-color: #1967D2;\n",
              "      --hover-bg-color: #E2EBFA;\n",
              "      --hover-fill-color: #174EA6;\n",
              "      --disabled-fill-color: #AAA;\n",
              "      --disabled-bg-color: #DDD;\n",
              "  }\n",
              "\n",
              "  [theme=dark] .colab-df-quickchart {\n",
              "      --bg-color: #3B4455;\n",
              "      --fill-color: #D2E3FC;\n",
              "      --hover-bg-color: #434B5C;\n",
              "      --hover-fill-color: #FFFFFF;\n",
              "      --disabled-bg-color: #3B4455;\n",
              "      --disabled-fill-color: #666;\n",
              "  }\n",
              "\n",
              "  .colab-df-quickchart {\n",
              "    background-color: var(--bg-color);\n",
              "    border: none;\n",
              "    border-radius: 50%;\n",
              "    cursor: pointer;\n",
              "    display: none;\n",
              "    fill: var(--fill-color);\n",
              "    height: 32px;\n",
              "    padding: 0;\n",
              "    width: 32px;\n",
              "  }\n",
              "\n",
              "  .colab-df-quickchart:hover {\n",
              "    background-color: var(--hover-bg-color);\n",
              "    box-shadow: 0 1px 2px rgba(60, 64, 67, 0.3), 0 1px 3px 1px rgba(60, 64, 67, 0.15);\n",
              "    fill: var(--button-hover-fill-color);\n",
              "  }\n",
              "\n",
              "  .colab-df-quickchart-complete:disabled,\n",
              "  .colab-df-quickchart-complete:disabled:hover {\n",
              "    background-color: var(--disabled-bg-color);\n",
              "    fill: var(--disabled-fill-color);\n",
              "    box-shadow: none;\n",
              "  }\n",
              "\n",
              "  .colab-df-spinner {\n",
              "    border: 2px solid var(--fill-color);\n",
              "    border-color: transparent;\n",
              "    border-bottom-color: var(--fill-color);\n",
              "    animation:\n",
              "      spin 1s steps(1) infinite;\n",
              "  }\n",
              "\n",
              "  @keyframes spin {\n",
              "    0% {\n",
              "      border-color: transparent;\n",
              "      border-bottom-color: var(--fill-color);\n",
              "      border-left-color: var(--fill-color);\n",
              "    }\n",
              "    20% {\n",
              "      border-color: transparent;\n",
              "      border-left-color: var(--fill-color);\n",
              "      border-top-color: var(--fill-color);\n",
              "    }\n",
              "    30% {\n",
              "      border-color: transparent;\n",
              "      border-left-color: var(--fill-color);\n",
              "      border-top-color: var(--fill-color);\n",
              "      border-right-color: var(--fill-color);\n",
              "    }\n",
              "    40% {\n",
              "      border-color: transparent;\n",
              "      border-right-color: var(--fill-color);\n",
              "      border-top-color: var(--fill-color);\n",
              "    }\n",
              "    60% {\n",
              "      border-color: transparent;\n",
              "      border-right-color: var(--fill-color);\n",
              "    }\n",
              "    80% {\n",
              "      border-color: transparent;\n",
              "      border-right-color: var(--fill-color);\n",
              "      border-bottom-color: var(--fill-color);\n",
              "    }\n",
              "    90% {\n",
              "      border-color: transparent;\n",
              "      border-bottom-color: var(--fill-color);\n",
              "    }\n",
              "  }\n",
              "</style>\n",
              "\n",
              "  <script>\n",
              "    async function quickchart(key) {\n",
              "      const quickchartButtonEl =\n",
              "        document.querySelector('#' + key + ' button');\n",
              "      quickchartButtonEl.disabled = true;  // To prevent multiple clicks.\n",
              "      quickchartButtonEl.classList.add('colab-df-spinner');\n",
              "      try {\n",
              "        const charts = await google.colab.kernel.invokeFunction(\n",
              "            'suggestCharts', [key], {});\n",
              "      } catch (error) {\n",
              "        console.error('Error during call to suggestCharts:', error);\n",
              "      }\n",
              "      quickchartButtonEl.classList.remove('colab-df-spinner');\n",
              "      quickchartButtonEl.classList.add('colab-df-quickchart-complete');\n",
              "    }\n",
              "    (() => {\n",
              "      let quickchartButtonEl =\n",
              "        document.querySelector('#df-bcbaf109-3198-4442-be7b-c7178f46699b button');\n",
              "      quickchartButtonEl.style.display =\n",
              "        google.colab.kernel.accessAllowed ? 'block' : 'none';\n",
              "    })();\n",
              "  </script>\n",
              "</div>\n",
              "    </div>\n",
              "  </div>\n"
            ],
            "text/plain": [
              "                                                 Question  Topic\n",
              "0       What is the step by step guide to invest in sh...      2\n",
              "1       What is the story of Kohinoor (Koh-i-Noor) Dia...      4\n",
              "2       How can I increase the speed of my internet co...      0\n",
              "3       Why am I mentally very lonely? How can I solve...      5\n",
              "4       Which one dissolve in water quikly sugar, salt...      2\n",
              "...                                                   ...    ...\n",
              "404284  How many keywords are there in the Racket prog...      1\n",
              "404285          Do you believe there is life after death?      2\n",
              "404286                                  What is one coin?      0\n",
              "404287  What is the approx annual cost of living while...      6\n",
              "404288              What is like to have sex with cousin?      5\n",
              "\n",
              "[404289 rows x 2 columns]"
            ]
          },
          "execution_count": 66,
          "metadata": {},
          "output_type": "execute_result"
        },
        {
          "data": {
            "text/html": [
              "<h4 class=\"colab-quickchart-section-title\">Distributions</h4>\n",
              "<style>\n",
              "  .colab-quickchart-section-title {\n",
              "      clear: both;\n",
              "  }\n",
              "</style>"
            ],
            "text/plain": [
              "<google.colab._quickchart_helpers.SectionTitle at 0x7fc8b502bee0>"
            ]
          },
          "metadata": {},
          "output_type": "display_data"
        },
        {
          "data": {
            "text/html": [
              "      <div class=\"colab-quickchart-chart-with-code\" id=\"chart-380a6c35-d64d-4e74-bbf3-cb7fe69ae1c6\">\n",
              "        <img style=\"width: 180px;\" src=\"data:image/png;base64,iVBORw0KGgoAAAANSUhEUgAAAjwAAAGrCAYAAADEhE38AAAAOXRFWHRTb2Z0d2FyZQBNYXRwbG90\n",
              "bGliIHZlcnNpb24zLjcuMSwgaHR0cHM6Ly9tYXRwbG90bGliLm9yZy/bCgiHAAAACXBIWXMAAA9h\n",
              "AAAPYQGoP6dpAAAiTklEQVR4nO3de3BU9f3/8dcmCysom0giEJosEXNByyVAk2ZAwLuAHblE6lS5\n",
              "RKEJVIc6MJpk1AqUJlIZRtRRLkPTYmYojCCdAUHF4SIVSSJyMbaEYJaNmBALkiiFlSz7+4Ov+zOa\n",
              "tlndk10+eT5mzgx7Prub955BfM7uyR6b3+/3CwAAwGBR4R4AAADAagQPAAAwHsEDAACMR/AAAADj\n",
              "ETwAAMB4BA8AADAewQMAAIxH8AAAAOMRPAAAwHgED4BO7ZprrtGuXbvCPQYAi9m4tASASHbNNdcE\n",
              "/vz111/L5/OpW7dugX3btm3TqFGjwjEagCsIwQPgivHUU09p7969vCMDIGh8pAXginX27Fnl5eUp\n",
              "MTFR8fHxGjdunI4ePRpYX7BggW6++WYVFRWpV69e6tOnjx5//HFdvHgxcB+bzaYdO3YEbu/bt0+3\n",
              "3Xab4uPj1bNnT9166606f/58h74uAKFH8AC4Yk2bNk3Hjh1TZWWlPB6P0tPTdccdd+irr74K3Gf/\n",
              "/v2y2+2qq6vTrl27tHHjRv3xj39s8/mqqqp02223KScnRx6PRw0NDXrmmWcUFcU/lcCVjv+KAVyR\n",
              "6uvrtWXLFj3//PPq06ePunfvrueee07nz5/Xli1bAvfr2bOnFixYIIfDoQEDBujxxx/Xn/70pzaf\n",
              "85VXXtHtt9+uRx55RN27d1fXrl11yy23yOFwdNTLAmARggfAFamurk6SdMMNNwT2denSRf369ZPH\n",
              "4wnsS0pKUnR0dOD29ddfH3jsd9XW1io9Pd2iiQGEE8ED4IqUlJQkSTp+/HhgX0tLizwej1wuV2Bf\n",
              "XV2dfD5f4Lbb7VZiYmKbz5mcnKzq6mqLJgYQTgQPgCtSQkKCxo8fr/nz5+vUqVM6f/68CgoK1LVr\n",
              "V91zzz2B+505c0aLFi2S1+vV0aNH9dxzz+mhhx5q8znnzJmjt99+WytWrND58+d18eJF7d69W16v\n",
              "t6NeFgCLEDwArlivvvqqkpOTNWzYMCUmJqqqqko7duxQjx49Avf5+c9/rq+//lqJiYkaPXq0Jk6c\n",
              "qMLCwjafb+DAgdqxY4fWrVunvn37qnfv3lq0aJEuXbrUUS8JgEX4Hh4AxlqwYIF27NihvXv3hnsU\n",
              "AGHGOzwAAMB4BA8AADAeH2kBAADj8Q4PAAAwHsEDAACMR/AAAADjETwAAMB4BM//Wb58ebhHAAAA\n",
              "FiF4/s+JEyfCPQIAALAIwQMAAIxH8AAAAOMRPAAAwHgEDwAAMB7BAwAAjEfwAAAA4xE8AADAeAQP\n",
              "AAAwHsEDAACMR/AAAADjETwAAMB4BA8AADAewQMAAIxH8AAAAONZGjxvvPGGhg0bpoyMDA0cOFB/\n",
              "+ctfJEmNjY0aO3asUlNTNXDgQO3ZsyfwGCvWAABA52a36on9fr+mTp2qXbt2afDgwXK73RowYIAm\n",
              "T56swsJCZWdna/v27aqoqNCkSZNUW1urLl26WLIGAMB/kly41ZLndT97jyXPix/GsuCRJJvNprNn\n",
              "z0qSmpubFRcXJ4fDoQ0bNqimpkaSlJmZqb59+2r37t264447LFn7Lq/XK6/X22qfz+ez6jAAAIAw\n",
              "syx4bDab1q9fr8mTJ+vqq6/WF198oU2bNunLL7/UxYsX1adPn8B9k5OT5fF4dPr06ZCvtaWkpEQL\n",
              "Fy5stS87OztULx0AAEQYy87haWlp0eLFi7Vp0yadOHFC77zzjqZNm6aWlharfmS7FRUVqampqdWW\n",
              "lZUV7rEAAIBFLAuegwcP6rPPPtPo0aMlXf6YKTExUYcPH5bdbldDQ0Pgvm63Wy6XS3FxcSFfa4vD\n",
              "4ZDT6Wy1RUdHh/oQAACACGFZ8CQlJam+vl7/+Mc/JEk1NTU6fvy40tPTNWXKFK1YsUKSVFFRoZMn\n",
              "T2rMmDGSZMkaAADo3Cw7h6d3795atWqVfvnLXyoqKkqXLl3SSy+9JJfLpSVLlmjatGlKTU1V165d\n",
              "VVZWFvhtKivWAABA52bz+/3+cA8RCebNm6dly5aFewwAQAfj19I7B75pGQAAGI/gAQAAxiN4AACA\n",
              "8QgeAABgPIIHAAAYj+ABAADGI3gAAIDxCB4AAGA8ggcAABiP4AEAAMYjeAAAgPEIHgAAYDyCBwAA\n",
              "GI/gAQAAxiN4AACA8QgeAABgPIIHAAAYj+ABAADGI3gAAIDxCB4AAGA8ggcAABiP4AEAAMYjeAAA\n",
              "gPEIHgAAYDyCBwAAGI/gAQAAxiN4AACA8QgeAABgPIIHAAAYj+ABAADGI3gAAIDxCB4AAGA8ggcA\n",
              "ABiP4AEAAMazLHhOnz6tjIyMwJaWlia73a4zZ86osbFRY8eOVWpqqgYOHKg9e/YEHmfFGgAA6Nzs\n",
              "Vj1xXFycDh48GLi9dOlS7d69Wz179tTDDz+s7Oxsbd++XRUVFZo0aZJqa2vVpUsXFRYWhnwNAAB0\n",
              "bh32kdaaNWs0c+ZMSdKGDRs0e/ZsSVJmZqb69u2r3bt3W7YGAAA6N8ve4fm29957T1988YV+8Ytf\n",
              "6PTp07p48aL69OkTWE9OTpbH47FkrS1er1der7fVPp/PF6qXCwAAIkyHvMOzZs0aTZ8+XXZ7h/TV\n",
              "/1RSUqKYmJhWW3l5ebjHAgAAFrE8eL766itt2LBBDz/8sKTL5/bY7XY1NDQE7uN2u+VyuSxZa0tR\n",
              "UZGamppabVlZWaF+6QAAIEJYHjzr16/XkCFDNGDAgMC+KVOmaMWKFZKkiooKnTx5UmPGjLFs7bsc\n",
              "DoecTmerLTo62oJXDwAAIoHlnzGtWbNGv/71r1vtW7JkiaZNm6bU1FR17dpVZWVlgd+msmINAAB0\n",
              "bja/3+8P9xCRYN68eVq2bFm4xwAAdLDkwq2WPK/72XsseV78MHzTMgAAMB7BAwAAjEfwAAAA4xE8\n",
              "AADAeAQPAAAwHsEDAACMR/AAAADjETwAAMB4BA8AADAewQMAAIxH8AAAAONZfvFQcJ0WAADCjXd4\n",
              "AACA8QgeAABgPIIHAAAYj+ABAADGI3gAAIDxCB4AAGA8ggcAABiP4AEAAMYjeAAAgPEIHgAAYDyC\n",
              "BwAAGI/gAQAAxiN4AACA8QgeAABgPIIHAAAYj+ABAADGI3gAAIDxCB4AAGA8ggcAABiP4AEAAMYj\n",
              "eAAAgPEIHgAAYDyCBwAAGM/S4PF6vXr00UeVmpqqQYMGaerUqZKkY8eOacSIEUpLS1NmZqaqqqoC\n",
              "j7FiDQAAdG6WBk9hYaFsNpuqq6t15MgRLV26VJKUn5+vvLw8VVdXq6CgQLm5uYHHWLEGAAA6N5vf\n",
              "7/db8cTnzp1TQkKCPv30UzmdzsD+xsZGpaSk6MyZM7Lb7fL7/UpISNDevXvldDpDvpaSktKueefN\n",
              "m6dly5ZZcSiUXLjVkud1P3uPJc8LAJ0J/0Z3Dnarnvj48ePq2bOniouLtWPHDnXr1k0LFixQbGys\n",
              "EhISZLdf/tE2m00ul0sej0cxMTEhX2sreLxer7xeb6t9Pp/PqkMBAADCzLKPtFpaWnTixAnddNNN\n",
              "qqys1AsvvKD7779fLS0tVv3IdispKVFMTEyrrby8PNxjAQAAi1gWPC6XS1FRUXrwwQclSUOHDtX1\n",
              "11+vEydOqL6+PhA+fr9fHo9HLpdLSUlJIV9rS1FRkZqamlptWVlZVh0KAAAQZpYFT3x8vG6//Xa9\n",
              "+eabkqTa2lrV1tZq5MiRGjZsmMrKyiRJGzduVGJiolJSUtSrV6+Qr7XF4XDI6XS22qKjo606FAAA\n",
              "IMwsO2lZkj755BPNnDlT//rXvxQVFaXf/e53ysnJ0dGjR5Wbm6vTp0/L6XSqtLRUgwYNkiRL1tqD\n",
              "k5YBoHPi3+jOwbKTliWpf//+2rlz5/f2p6ena9++fW0+xoo1AADQufFNywAAwHgEDwAAMB7BAwAA\n",
              "jEfwAAAA4xE8AADAeAQPAAAwHsEDAACMR/AAAADjETwAAMB4ln7TMgAg8nApBfwnVv3dkML/94N3\n",
              "eAAAgPEIHgAAYDyCBwAAGI/gAQAAxiN4AACA8QgeAABgPIIHAAAYj+ABAADGI3gAAIDxCB4AAGA8\n",
              "ggcAABiP4AEAAMYjeAAAgPEIHgAAYDyCBwAAGM8e7gEAwGrJhVste273s/dY9twAQod3eAAAgPEI\n",
              "HgAAYDyCBwAAGI/gAQAAxiN4AACA8QgeAABgPIIHAAAYj+ABAADGI3gAAIDxLA2e5ORkpaenKyMj\n",
              "QxkZGVq/fr0k6dixYxoxYoTS0tKUmZmpqqqqwGOsWAMAAJ2b5e/wrF+/XgcPHtTBgwd1//33S5Ly\n",
              "8/OVl5en6upqFRQUKDc3N3B/K9YAAEDn1uEfaTU2NqqyslJTp06VJOXk5Kiurk41NTWWrLXF6/Wq\n",
              "ubm51ebz+Trg1QMAgHCwPHimT5+uQYMGaebMmfr8889VV1enhIQE2e2Xr1tqs9nkcrnk8XgsWWtL\n",
              "SUmJYmJiWm3l5eVWHwoAABAmlgbPnj17dPjwYR04cEDx8fGaMWOGlT+u3YqKitTU1NRqy8rKCvdY\n",
              "AADAInYrn9zlckmSunTposcee0xpaWlKSkpSfX29WlpaZLfb5ff75fF45HK55HQ6Q77WFofDIYfD\n",
              "0WpfdHS0lYcCAACEkWXv8Jw7d05nz54N3F63bp2GDh2qXr16adiwYSorK5Mkbdy4UYmJiUpJSbFk\n",
              "DQAAwLJ3eE6dOqWcnBz5fD75/X71799fa9eulSStXLlSubm5Ki4ultPpVGlpaeBxVqwBAIDOzbLg\n",
              "6d+/vz788MM219LT07Vv374OWwMAAJ0b37QMAACMR/AAAADjETwAAMB4QQfPm2++acUcAAAAlgk6\n",
              "eBYtWqT09HQtX75czc3NVswEAAAQUkEHz9///nf99a9/1UcffaS0tDT95je/0ccff2zFbAAAACHx\n",
              "g87hGTp0qFavXq3t27dry5YtGjx4sO68804dOXIk1PMBAAD8aD8oeHbs2KEJEyZo8uTJeuSRR9TQ\n",
              "0KD8/HxNmjQp1PMBAAD8aEF/8eCNN96o+Ph4zZ07V5MnTw5cg+q+++7TmjVrQj4gAADAjxV08JSV\n",
              "lWn48OFtrm3btu1HDwQAABBqQX+k9cEHH+jMmTOB26dPn9bq1atDOhQAAEAoBR08L7/8snr27Bm4\n",
              "HRcXp5dffjmkQwEAAIRS0MHj9/u/t8/n84VkGAAAACsEHTwJCQnasGFD4Pb69euVkJAQ0qEAAABC\n",
              "KeiTlp9//nlNmDBBTzzxhCSpe/fu+tvf/hbywYDOILlwq2XP7X72HsueGwCuNEEHz4ABA/Txxx/r\n",
              "6NGjkqT09PTAr6YD/wv/gwcAhEPQwSNJNptNsbGxamlp0cmTJyVJLpcrpIMBAACEStDB8+c//1lz\n",
              "585Vly5dFBV1+RQgm82mxsbGkA8HAAAQCkEHz+9//3tVVFQoPT3dinkAAABCLujf0oqPjyd2AADA\n",
              "FSXo4Jk4caKef/55NTY2qrm5ObABAABEqqA/0nryySclSfPmzZPNZpPf75fNZuPLBwEAQMQKOngu\n",
              "XbpkxRwAAACWCfojLenyBURfffVVSdLZs2dVX18f0qEAAABC6QddPPThhx/WggULJF2+WvoDDzwQ\n",
              "6rkAAABCJujgWbVqld5//305nU5J0g033KDPP/885IMBAACEStDB43A41K1bt1b77PYf9IXNAAAA\n",
              "HSLo4LnuuutUXV0tm80m6fI3L3NZCQAAEMl+0NXSf/WrX+mf//ynkpKS5HQ6tWXLFitmAwAACImg\n",
              "gyclJUX79+/X0aNH5ff7uVo6AACIeEEHj8fjkSRdffXVksTV0gEAQMQLOniGDx8e+IblCxcu6N//\n",
              "/rfi4uK4WjoAAIhYQQfPd38FfdOmTTp06FDIBgIAAAi1H/RNy982efJkbd26NRSzAAAAWCLod3i+\n",
              "fWV0n8+n/fv3c7V0AAAQ0YJ+hyc2NlbXXnutYmNj1atXL82bN08vvPDCf31MaWmpbDabNm/eLElq\n",
              "bGzU2LFjlZqaqoEDB2rPnj2B+1qxBgAAOjfLr5budru1evVqZWdnB/YVFhYqOztb27dvV0VFhSZN\n",
              "mqTa2lp16dLFkjUAANC5/ehzeP6bS5cuadasWXrxxRflcDgC+zds2KDZs2dLkjIzM9W3b1/t3r3b\n",
              "srXv8nq9am5ubrX5fD4LjgAAAIgEQQdPVFSUoqOjv7d9s//bli1bppEjR2r48OGBfadPn9bFixfV\n",
              "p0+fwL7k5GR5PB5L1tpSUlKimJiYVlt5eXmwhwIAAFwhgv5Ia9GiRTp//rzmzJkjSVqxYoW6deum\n",
              "xx57rNX9PvroI23cuDEiz6UpKirSvHnzWu17+umnwzQNAACwWtDB8/rrr+uDDz4I3F68eLGGDx+u\n",
              "J598stX93n33XbndbqWmpkqSGhoalJeXp4ULF8put6uhoSHwjozb7ZbL5VJcXFzI19ricDhafcQm\n",
              "ictjAABgsKA/0vryyy9bfatyY2Ojvvzyy+/db86cOaqvr5fb7Zbb7VZ2drZWrVqlOXPmaMqUKVqx\n",
              "YoUkqaKiQidPntSYMWMkyZI1AADQuQX9Ds/8+fM1ZMgQjR8/XpK0fft2LViwIKjnWLJkiaZNm6bU\n",
              "1FR17dpVZWVlgd+msmINAAB0bkEHT35+vkaOHKmdO3dKkubNm6ef/vSn//Nxu3btCvy5d+/eeuut\n",
              "t9q8nxVrAACgcws6eCQpLi5OgwYN0i233KKWlhZ9/fXX6tq1a6hnAwAACImgz+F57bXXlJ2drYce\n",
              "ekiSVFVVpYkTJ4Z6LgAAgJAJOnhKSkp04MABxcbGSpKGDBmiEydOhHouAACAkAk6eKKjoxUXF9dq\n",
              "Hx9nAQCASBZ08PTo0UOnTp2SzWaTJL3zzjvq2bNnyAcDAAAIlaBPWl6yZInGjRunTz75RDfffLNq\n",
              "a2u1detWK2YDAAAIiaCC59KlS/L5fNq5c6fee+89+f1+jRgxInA+DwAAQCQKKniioqKUl5enQ4cO\n",
              "ady4cVbNBAAAEFJBn8OTmpqqmpoaK2YBAACwRNDn8Jw5c0YZGRkaMWKErrnmmsD+TZs2hXQwAACA\n",
              "UGl38OTl5WnVqlWaMWOG7r33Xl177bVWzgUAABAy7Q6eyspKSdKMGTM0bNgwHThwwLKhAAAAQino\n",
              "c3gkye/3h3oOAAAAy7T7HZ7z58/ryJEj8vv9unDhQuDP3xg8eLAlAwIAAPxYQQXPvffeG7j97T/b\n",
              "bDZ98sknoZ0MAAAgRNodPG6328IxAAAArPODzuEBAAC4khA8AADAeAQPAAAwHsEDAACMR/AAAADj\n",
              "ETwAAMB4BA8AADAewQMAAIxH8AAAAOMRPAAAwHgEDwAAMB7BAwAAjEfwAAAA4xE8AADAeAQPAAAw\n",
              "HsEDAACMR/AAAADjETwAAMB4BA8AADCepcFz1113afDgwcrIyNCoUaP04YcfSpKOHTumESNGKC0t\n",
              "TZmZmaqqqgo8xoo1AADQuVkaPBs2bNDhw4d18OBBzZs3T7m5uZKk/Px85eXlqbq6WgUFBYH9Vq0B\n",
              "AIDOzdLgiY2NDfy5qalJNptNjY2Nqqys1NSpUyVJOTk5qqurU01NjSVrbfF6vWpubm61+Xw+C48E\n",
              "AAAIJ7vVP2D69OnauXOnJOmNN95QXV2dEhISZLdf/tE2m00ul0sej0cxMTEhX0tJSfneTCUlJVq4\n",
              "cGGrfdnZ2ZYdAwAAEF6Wn7S8du1a1dXVafHixSooKLD6x7VLUVGRmpqaWm1ZWVnhHgsAAFjE8nd4\n",
              "vjFjxgzNnj1biYmJqq+vV0tLi+x2u/x+vzwej1wul5xOZ8jX2uJwOORwOFrti46O7ojDAAAAwsCy\n",
              "d3jOnj2rzz77LHB78+bNiouLU69evTRs2DCVlZVJkjZu3KjExESlpKRYsgYAAGDZOzxNTU2aMmWK\n",
              "zp8/r6ioKF133XXasmWLbDabVq5cqdzcXBUXF8vpdKq0tDTwOCvWAABA52ZZ8PTr10/l5eVtrqWn\n",
              "p2vfvn0dtgYAADo3vmkZAAAYj+ABAADGI3gAAIDxCB4AAGA8ggcAABiP4AEAAMYjeAAAgPEIHgAA\n",
              "YDyCBwAAGI/gAQAAxiN4AACA8QgeAABgPIIHAAAYj+ABAADGI3gAAIDxCB4AAGA8ggcAABiP4AEA\n",
              "AMYjeAAAgPEIHgAAYDyCBwAAGI/gAQAAxiN4AACA8QgeAABgPIIHAAAYj+ABAADGI3gAAIDxCB4A\n",
              "AGA8ggcAABiP4AEAAMYjeAAAgPEIHgAAYDyCBwAAGI/gAQAAxrMseC5cuKCJEycqLS1NQ4YM0Z13\n",
              "3qmamhpJUmNjo8aOHavU1FQNHDhQe/bsCTzOijUAANC5WfoOT15eno4ePapDhw5pwoQJmjVrliSp\n",
              "sLBQ2dnZOnbsmEpLS/XAAw/o4sWLlq0BAIDOzbLgueqqqzR+/HjZbDZJUnZ2ttxutyRpw4YNmj17\n",
              "tiQpMzNTffv21e7duy1bAwAAnZu9o37Q8uXLNWHCBJ0+fVoXL15Unz59AmvJycnyeDyWrLXF6/XK\n",
              "6/W22ufz+UL1UgEAQITpkJOWi4uLVVNTo5KSko74cf9TSUmJYmJiWm3l5eXhHgsAAFjE8uBZunSp\n",
              "Nm3apG3btql79+6Ki4uT3W5XQ0ND4D5ut1sul8uStbYUFRWpqamp1ZaVlWXBqwcAAJHA0uBZtmyZ\n",
              "1q1bp7fffluxsbGB/VOmTNGKFSskSRUVFTp58qTGjBlj2dp3ORwOOZ3OVlt0dHToDwAAAIgIlp3D\n",
              "8+mnn2r+/Pnq37+/br31VkmXQ2P//v1asmSJpk2bptTUVHXt2lVlZWXq0qWLJFmyBgAAOjfLgicx\n",
              "MVF+v7/Ntd69e+utt97qsDUAANC58U3LAADAeAQPAAAwHsEDAACMR/AAAADjETwAAMB4BA8AADAe\n",
              "wQMAAIxH8AAAAOMRPAAAwHgEDwAAMB7BAwAAjEfwAAAA4xE8AADAeAQPAAAwHsEDAACMR/AAAADj\n",
              "ETwAAMB4BA8AADAewQMAAIxH8AAAAOMRPAAAwHgEDwAAMB7BAwAAjEfwAAAA4xE8AADAeAQPAAAw\n",
              "HsEDAACMR/AAAADjETwAAMB4BA8AADAewQMAAIxH8AAAAOMRPAAAwHgEDwAAMB7BAwAAjGdp8Myd\n",
              "O1fJycmy2Ww6ePBgYP+xY8c0YsQIpaWlKTMzU1VVVZauAQCAzs3S4Lnvvvu0d+9e9evXr9X+/Px8\n",
              "5eXlqbq6WgUFBcrNzbV0DQAAdG6WBs/o0aOVmJjYal9jY6MqKys1depUSVJOTo7q6upUU1NjyVpb\n",
              "vF6vmpubW20+n8+qwwAAAMKsw8/hqaurU0JCgux2uyTJZrPJ5XLJ4/FYstaWkpISxcTEtNrKy8s7\n",
              "4NUDAIBw6JQnLRcVFampqanVlpWVFe6xAACARewd/QOTkpJUX1+vlpYW2e12+f1+eTweuVwuOZ3O\n",
              "kK+1xeFwyOFwtNoXHR3dES8fAACEQYe/w9OrVy8NGzZMZWVlkqSNGzcqMTFRKSkplqwBAABY+g5P\n",
              "fn6+tm7dqoaGBt19993q0aOHampqtHLlSuXm5qq4uFhOp1OlpaWBx1ixBgAAOjdLg2flypVt7k9P\n",
              "T9e+ffs6bA0AAHRunfKkZQAA0LkQPAAAwHgEDwAAMB7BAwAAjEfwAAAA4xE8AADAeAQPAAAwHsED\n",
              "AACMR/AAAADjETwAAMB4BA8AADAewQMAAIxH8AAAAOMRPAAAwHgEDwAAMB7BAwAAjEfwAAAA4xE8\n",
              "AADAeAQPAAAwHsEDAACMR/AAAADjETwAAMB4BA8AADAewQMAAIxH8AAAAOMRPAAAwHgEDwAAMB7B\n",
              "AwAAjEfwAAAA4xE8AADAeAQPAAAwHsEDAACMR/AAAADjETwAAMB4BA8AADCeUcFz7NgxjRgxQmlp\n",
              "acrMzFRVVVW4RwIAABHAqODJz89XXl6eqqurVVBQoNzc3HCPBAAAIoAxwdPY2KjKykpNnTpVkpST\n",
              "k6O6ujrV1NR8775er1fNzc2tNp/P19EjAwCADmLz+/3+cA8RCh988IEeeOABHT16NLAvKytLzz77\n",
              "rG677bZW912wYIEWLlzYat+AAQM0bty4kM/l8/lUXl6urKwsRUdHh/z5TcKxaj+OVftxrNqPYxUc\n",
              "jlf7WXms+vXrp9/+9rf/836dMni8Xq+8Xm+rfQ6HQw6HI+RzNTc3KyYmRk1NTXI6nSF/fpNwrNqP\n",
              "Y9V+HKv241gFh+PVfpFwrOxh+akWSEpKUn19vVpaWmS32+X3++XxeORyub53X6viBgAARCZjzuHp\n",
              "1auXhg0bprKyMknSxo0blZiYqJSUlDBPBgAAws2Yd3gkaeXKlcrNzVVxcbGcTqdKS0vDPRIAAIgA\n",
              "RgVPenq69u3bF+4xWnE4HHrmmWf4CK0dOFbtx7FqP45V+3GsgsPxar9IOFbGnLQMAADwnxhzDg8A\n",
              "AMB/QvAAAADjETwAAMB4BA8AADAewWMhrt7efnPnzlVycrJsNpsOHjwY7nEi1oULFzRx4kSlpaVp\n",
              "yJAhuvPOO9u8Xhz+v7vuukuDBw9WRkaGRo0apQ8//DDcI0W00tJS2Ww2bd68OdyjRLTk5GSlp6cr\n",
              "IyNDGRkZWr9+fbhHilher1ePPvqoUlNTNWjQoMA1LzuaUb+WHmm+uXp7bm6uXnvtNeXm5qqioiLc\n",
              "Y0Wk++67T0888YRuvvnmcI8S8fLy8jRu3DjZbDa99NJLmjVrlnbt2hXusSLWhg0bFBsbK0l6/fXX\n",
              "lZubq0OHDoV3qAjldru1evVqZWdnh3uUK8L69euVkZER7jEiXmFhoWw2m6qrq2Wz2dTQ0BCWOXiH\n",
              "xyLBXL0d0ujRo5WYmBjuMSLeVVddpfHjx8tms0mSsrOz5Xa7wztUhPsmdiSpqakpcOzQ2qVLlzRr\n",
              "1iy9+OKLfK8MQubcuXNas2aN/vCHPwT+2+vTp09YZiF4LFJXV6eEhATZ7ZffRLPZbHK5XPJ4PGGe\n",
              "DCZZvny5JkyYEO4xIt706dOVlJSkp59+Wq+++mq4x4lIy5Yt08iRIzV8+PBwj3LFmD59ugYNGqSZ\n",
              "M2fq888/D/c4Een48ePq2bOniouL9bOf/UyjRo3SO++8E5ZZCB7gClVcXKyamhqVlJSEe5SIt3bt\n",
              "WtXV1Wnx4sUqKCgI9zgR56OPPtLGjRv11FNPhXuUK8aePXt0+PBhHThwQPHx8ZoxY0a4R4pILS0t\n",
              "OnHihG666SZVVlbqhRde0P33369Tp051+CwEj0W+ffV2Sf/16u1AsJYuXapNmzZp27Zt6t69e7jH\n",
              "uWLMmDFDO3fu1OnTp8M9SkR599135Xa7lZqaquTkZL3//vvKy8vTK6+8Eu7RItY3/5Z36dJFjz32\n",
              "mN59990wTxSZXC6XoqKi9OCDD0qShg4dquuvv15Hjhzp8FkIHotw9XZYZdmyZVq3bp3efvvtVuen\n",
              "4PvOnj2rzz77LHB78+bNiouLU8+ePcM4VeSZM2eO6uvr5Xa75Xa7lZ2drVWrVmnOnDnhHi0inTt3\n",
              "TmfPng3cXrdunYYOHRq+gSJYfHy8br/9dr355puSpNraWtXW1urGG2/s8Fn4LS0LcfX29svPz9fW\n",
              "rVvV0NCgu+++Wz169OAE7zZ8+umnmj9/vvr3769bb71V0uWL8u3fvz/Mk0WmpqYmTZkyRefPn1dU\n",
              "VJSuu+46bdmyhROX8aOcOnVKOTk58vl88vv96t+/v9auXRvusSLWihUrNHPmTBUUFCgqKkorV67U\n",
              "T37ykw6fg4uHAgAA4/GRFgAAMB7BAwAAjEfwAAAA4xE8AADAeAQPAAAwHsEDAACMR/AAAADjETwA\n",
              "AMB4BA8AADAewQMAAIz3/wDyvU7VCauFCgAAAABJRU5ErkJggg==\n",
              "\">\n",
              "      </div>\n",
              "      <script type=\"text/javascript\">\n",
              "        (() => {\n",
              "          const chartElement = document.getElementById(\"chart-380a6c35-d64d-4e74-bbf3-cb7fe69ae1c6\");\n",
              "          async function getCodeForChartHandler(event) {\n",
              "            const chartCodeResponse =  await google.colab.kernel.invokeFunction(\n",
              "                'getCodeForChart', [\"chart-380a6c35-d64d-4e74-bbf3-cb7fe69ae1c6\"], {});\n",
              "            const responseJson = chartCodeResponse.data['application/json'];\n",
              "            await google.colab.notebook.addCell(responseJson.code, 'code');\n",
              "          }\n",
              "          chartElement.onclick = getCodeForChartHandler;\n",
              "        })();\n",
              "      </script>\n",
              "      <style>\n",
              "        .colab-quickchart-chart-with-code  {\n",
              "            display: block;\n",
              "            float: left;\n",
              "            border: 1px solid transparent;\n",
              "        }\n",
              "\n",
              "        .colab-quickchart-chart-with-code:hover {\n",
              "            cursor: pointer;\n",
              "            border: 1px solid #aaa;\n",
              "        }\n",
              "      </style>"
            ],
            "text/plain": [
              "from matplotlib import pyplot as plt\n",
              "data2['Topic'].plot(kind='hist', bins=20, title='Topic')\n",
              "plt.gca().spines[['top', 'right',]].set_visible(False)"
            ]
          },
          "metadata": {},
          "output_type": "display_data"
        },
        {
          "data": {
            "text/html": [
              "<h4 class=\"colab-quickchart-section-title\">Values</h4>\n",
              "<style>\n",
              "  .colab-quickchart-section-title {\n",
              "      clear: both;\n",
              "  }\n",
              "</style>"
            ],
            "text/plain": [
              "<google.colab._quickchart_helpers.SectionTitle at 0x7fc8b502a590>"
            ]
          },
          "metadata": {},
          "output_type": "display_data"
        },
        {
          "data": {
            "text/html": [
              "      <div class=\"colab-quickchart-chart-with-code\" id=\"chart-24991266-3a2e-45b8-846c-048966db83be\">\n",
              "        <img style=\"width: 180px;\" src=\"data:image/png;base64,iVBORw0KGgoAAAANSUhEUgAAApAAAAFuCAYAAAA2xSikAAAAOXRFWHRTb2Z0d2FyZQBNYXRwbG90\n",
              "bGliIHZlcnNpb24zLjcuMSwgaHR0cHM6Ly9tYXRwbG90bGliLm9yZy/bCgiHAAAACXBIWXMAAA9h\n",
              "AAAPYQGoP6dpAAAW1ElEQVR4nO3de2zV9f348ddp0aNMrUFQkNrWymUzCBVGx3R4Y7hNl0nmliXf\n",
              "OcDMYMwWZ2IMNHGRGEPNnG5qfl6ybCS6xK/bUP/wkkUyvCXOjogySVQwYOsGmHnposMjlvf3j/3s\n",
              "KC3MN/RcaB+P5CT28/mcntd55/DJ03PpKaSUUgAAwGdUV+0BAAA4vAhIAACyCEgAALIISAAAsghI\n",
              "AACyCEgAALIISAAAsghIAACyCEgAALIISIAyOeaYY+Kpp56q9hgAw67gqwyB0eqYY47p/++PP/44\n",
              "+vr64uijj+7f9sQTT8T8+fOrMRpATROQABFx/fXXx3PPPecZQ4DPwEvYAEN4//33Y9myZdHY2Bjj\n",
              "x4+Pb3zjG/Haa6/171+5cmV85StfiY6OjjjxxBNj4sSJcd1118Xu3bv7jykUCrF27dr+n59//vm4\n",
              "4IILYvz48TFu3Lg4//zzY9euXRW9XwDDQUACDOEHP/hBbN68OdavXx/d3d0xffr0+OpXvxoffPBB\n",
              "/zEvvPBCjBkzJnp6euKpp56KNWvWxM9+9rMhf9+mTZviggsuiEsvvTS6u7tjx44dccMNN0RdndMw\n",
              "cPhx5gLYx/bt2+PRRx+NX/7ylzFx4sQYO3Zs3HLLLbFr16549NFH+48bN25crFy5MorFYnz+85+P\n",
              "6667Ln7zm98M+TvvvvvuWLBgQfzoRz+KsWPHxpFHHhnnnXdeFIvFSt0tgGEjIAH20dPTExERp512\n",
              "Wv+2I444Ipqbm6O7u7t/2ymnnBL19fX9P5966qn9193X1q1bY/r06WWaGKCyBCTAPk455ZSIiHjj\n",
              "jTf6t33yySfR3d0dTU1N/dt6enqir6+v/+dt27ZFY2PjkL+zpaUlXn/99TJNDFBZAhJgH5MmTYqL\n",
              "Lroorr322ti5c2fs2rUrli9fHkceeWRcfPHF/ce9++67ceONN0apVIrXXnstbrnllrj88suH/J1X\n",
              "XXVVPPnkk3HPPffErl27Yvfu3fH0009HqVSq1N0CGDYCEmAI999/f7S0tMTs2bOjsbExNm3aFGvX\n",
              "ro1jjz22/5gvfelL8fHHH0djY2Occ845sWjRolixYsWQv2/GjBmxdu3aeOCBB+Lkk0+Ok046KW68\n",
              "8cbYs2dPpe4SwLDxdyABDsLKlStj7dq18dxzz1V7FICK8wwkAABZBCQAAFm8hA0AQBbPQAIAkEVA\n",
              "AgCQRUACAJBFQAIAkKWiAXn77bdX8uYAACiDigbkm2++WcmbAwCgDLyEDQBAFgEJAEAWAQkAQBYB\n",
              "CQBAFgEJAEAWAQkAQBYBCQBAFgEJAECW7IAslUrx4x//OKZOnRpnnHFGXHbZZeWYCwCAGjUm9wor\n",
              "VqyIQqEQr7/+ehQKhdixY0c55gIAoEZlBeSHH34Yv/71r+Ott96KQqEQERETJ04sy2AAANSmrIB8\n",
              "4403Yty4cbFq1apYu3ZtHH300bFy5cpYsGDBoGNLpVKUSqUB2/r6+g5t2gwtKx6r2G0BAJTLxTMn\n",
              "xf/7n9nVHmOArPdAfvLJJ/Hmm2/G6aefHuvXr4877rgjvve978XOnTsHHdvZ2RkNDQ0DLl1dXcM2\n",
              "OADAaPDYxu3VHmGQrIBsamqKurq6+P73vx8REWeeeWaceuqp8de//nXQsR0dHdHb2zvg0t7ePjxT\n",
              "AwBQNVkBOX78+FiwYEH88Y9/jIiIrVu3xtatW+MLX/jCoGOLxWIcd9xxAy719fXDMzUAAFWT/Sns\n",
              "e+65J374wx/G8uXLo66uLu69996YPHlyOWYDAKAGZQdka2trrFu3rhyzAABwGPBNNAAAZBGQAABk\n",
              "EZAAAGQRkAAAZBGQAABkEZAAAGQRkAAAZBGQAABkEZAAAGQRkAAAZBGQAABkEZAAAGQRkAAAZBGQ\n",
              "AABkEZAAAGQRkAAAZBGQAABkEZAAAGQRkAAAZBGQAABkEZAAAGQRkAAAZBGQAABkEZAAAGQRkAAA\n",
              "ZBGQAABkEZAAAGQRkAAAZBGQAABkEZAAAGQRkAAAZBGQAABkEZAAAGQRkAAAZBGQAABkEZAAAGQR\n",
              "kAAAZBGQAABkyQ7IlpaWmD59erS1tUVbW1s8+OCD5ZgLAIAaNeZgrvTggw9GW1vbMI8CAMDhwEvY\n",
              "AABkOahnIBcvXhwppWhvb4+bb745JkyYMOiYUqkUpVJpwLa+vr6DmxIAgJqR/QzkM888Exs3bowX\n",
              "X3wxxo8fH0uWLBnyuM7OzmhoaBhw6erqOuSBAQCoruyAbGpqioiII444Iq655pp49tlnhzyuo6Mj\n",
              "ent7B1za29sPbVoAAKou6yXsDz/8MHbv3h3HH398REQ88MADceaZZw55bLFYjGKxOGBbfX39wU0J\n",
              "AEDNyArInTt3xqWXXhp9fX2RUorW1ta47777yjUbAAA1KCsgW1tbY8OGDeWaBQCAw4A/4wMAQBYB\n",
              "CQBAFgEJAEAWAQkAQBYBCQBAFgEJAEAWAQkAQBYBCQBAFgEJAEAWAQkAQBYBCQBAFgEJAEAWAQkA\n",
              "QBYBCQBAFgEJAEAWAQkAQBYBCQBAFgEJAEAWAQkAQBYBCQBAFgEJAEAWAQkAQBYBCQBAFgEJAEAW\n",
              "AQkAQBYBCQBAFgEJAEAWAQkAQBYBCQBAFgEJAEAWAQkAQBYBCQBAFgEJAEAWAQkAQBYBCQBAFgEJ\n",
              "AEAWAQkAQBYBCQBAloMOyNWrV0ehUIhHHnlkGMcBAKDWHVRAbtu2LX71q1/FvHnzhnseAABqXHZA\n",
              "7tmzJ6644oq48847o1gslmMmAABq2JjcK9x2221x9tlnx5w5cw54XKlUilKpNGBbX19f7s0BAFBj\n",
              "sp6BfOWVV2LNmjVx/fXX/9djOzs7o6GhYcClq6vroAcFAKA2ZAXks88+G9u2bYupU6dGS0tL/PnP\n",
              "f45ly5bF3XffPejYjo6O6O3tHXBpb28ftsEBAKiOrJewr7rqqrjqqqv6fz7vvPPimmuuiUWLFg06\n",
              "tlgsDnqPZH19/cFNCQBAzfB3IAEAyJL9IZq9PfXUU8M0BgAAhwvPQAIAkEVAAgCQRUACAJBFQAIA\n",
              "kEVAAgCQRUACAJBFQAIAkEVAAgCQRUACAJBFQAIAkEVAAgCQRUACAJBFQAIAkEVAAgCQRUACAJBF\n",
              "QAIAkEVAAgCQRUACAJBFQAIAkEVAAgCQRUACAJBFQAIAkEVAAgCQRUACAJBFQAIAkEVAAgCQRUAC\n",
              "AJBFQAIAkEVAAgCQRUACAJBFQAIAkEVAAgCQRUACAJBFQAIAkEVAAgCQRUACAJBFQAIAkGVM7hUu\n",
              "vPDC2LFjR9TV1cWxxx4bd9xxR5x55pnlmA0AgBqUHZC/+93v4vjjj4+IiIcffjiWLl0aL7/88nDP\n",
              "BQBAjcp+CfvTeIyI6O3tjUKhMJzzAABQ47KfgYyIWLx4caxbty4iIh5//PEhjymVSlEqlQZs6+vr\n",
              "O5ibAwCghhzUh2juu+++6OnpiZtuuimWL18+5DGdnZ3R0NAw4NLV1XVIwwIAUH2H9CnsJUuWxLp1\n",
              "6+Kdd94ZtK+joyN6e3sHXNrb2w/l5gAAqAFZL2G///778a9//StOPvnkiIh45JFH4oQTTohx48YN\n",
              "OrZYLEaxWBywrb6+/hBGBQCgFmQFZG9vb3z3u9+NXbt2RV1dXUyYMCEeffRRH6QBABhFsgKyubnZ\n",
              "+xgBAEY530QDAEAWAQkAQBYBCQBAFgEJAEAWAQkAQBYBCQBAFgEJAEAWAQkAQBYBCQBAFgEJAEAW\n",
              "AQkAQBYBCQBAFgEJAEAWAQkAQBYBCQBAFgEJAEAWAQkAQBYBCQBAFgEJAEAWAQkAQBYBCQBAFgEJ\n",
              "AECWERmQKaVqjwAAMGKNyIAEAKB8BCQAAFkEJAAAWQQkAABZBCQAAFkEJAAAWUZkQPorPgAA5TMi\n",
              "AxIAgPIRkAAAZBGQAABkEZAAAGQRkAAAZBGQAABkGZEB6a/4AACUz4gMSAAAyicrID/66KNYtGhR\n",
              "TJs2LWbNmhULFy6MLVu2lGs2AABqUPYzkMuWLYvXXnstXn755bjkkkviiiuuKMdcAADUqKyAPOqo\n",
              "o+Kiiy6KQqEQERHz5s2Lbdu2lWMuAABq1JhDufLtt98el1xyyZD7SqVSlEqlAdv6+voO5eYAAKgB\n",
              "B/0hmlWrVsWWLVuis7NzyP2dnZ3R0NAw4NLV1XXQgwIAUBsOKiB//vOfx0MPPRRPPPFEjB07dshj\n",
              "Ojo6ore3d8Clvb39kIb9rOrrChW5HQCA0Sj7JezbbrstHnjggVi7dm0cf/zx+z2uWCxGsVgcsK2+\n",
              "vj57QAAAaktWQL711ltx7bXXRmtra5x//vkR8e9QfOGFF8oyHAAAtScrIBsbGyMl3/MCADCa+SYa\n",
              "AACyCEgAALIISAAAsghIAACyCEgAALIISAAAsghIAACyCEgAALIISAAAsghIAACyCEgAALIISAAA\n",
              "sghIAACyCEgAALIISAAAsghIAACyCEgAALIISAAAsghIAACyCEgAALIISAAAsghIAACyCEgAALII\n",
              "SAAAsghIAACyCEgAALIISAAAsghIAACyCEgAALIISAAAsghIAACyCEgAALIISAAAsghIAACyCEgA\n",
              "ALIISAAAsghIAACyCEgAALJkBeTVV18dLS0tUSgU4qWXXirTSAAA1LKsgPzOd74Tzz33XDQ3N5dr\n",
              "HgAAatyYnIPPOeeccs0BAMBhIisgc5RKpSiVSgO29fX1levmAACokLJ9iKazszMaGhoGXLq6usp1\n",
              "cwAAVEjZArKjoyN6e3sHXNrb28t1cwAAVEjZXsIuFotRLBYHbKuvry/XzQEAUCFZz0BeeeWV0djY\n",
              "GG+99VZ87WtfiylTppRrLgAAalTWM5D33ntvueYAAOAw4ZtoAADIIiABAMgiIAEAyCIgAQDIIiAB\n",
              "AMgiIAEAyCIgAQDIIiABAMgiIAEAyCIgAQDIMiIDMqVU7REAAEasERmQAACUj4AEACCLgAQAIIuA\n",
              "BAAgi4AEACDLiAxIH8IGACifERmQAACUj4AEACCLgAQAIMuIDEhvgQQAKJ8RGZAAAJSPgAQAIIuA\n",
              "BAAgy4gMyOQPQQIAlM2IDEgAAMpHQAIAkEVAAgCQRUACAJBFQAIAkGVEBqTPYAMAlM+IDEgAAMpn\n",
              "RAakPwMJAFA+IzIgAQAoHwEJAEAWAQkAQBYBCQBAluyA3Lx5c5x11lkxbdq0mDt3bmzatKkccwEA\n",
              "UKOyA/LKK6+MZcuWxeuvvx7Lly+PpUuXlmEsAABqVVZAvv3227F+/fq47LLLIiLi0ksvjZ6entiy\n",
              "ZUtZhgMAoPaMyTm4p6cnJk2aFGPG/PtqhUIhmpqaoru7O6ZMmTLg2FKpFKVSacC2vr6+QxwXAIBq\n",
              "K9uHaDo7O6OhoWHApaurq1w3N8CYukJFbgcAYDTKCshTTjkltm/fHp988klERKSUoru7O5qamgYd\n",
              "29HREb29vQMu7e3twzP1f1FXV4j/XTavIrcFAFBOG366sNojDJL1EvaJJ54Ys2fPjt/+9rexdOnS\n",
              "WLNmTTQ2Ng56+ToiolgsRrFYHLCtvr7+0KbNMK/1hNh288UVuz0AgNEiKyAjIu69995YunRprFq1\n",
              "Ko477rhYvXp1OeYCAKBGZQfk9OnT4/nnny/HLAAAHAZ8Ew0AAFkEJAAAWQQkAABZBCQAAFkEJAAA\n",
              "WQQkAABZBCQAAFkEJAAAWQQkAABZCimlVKkb+/a3vx0tLS0Vua2+vr7o6uqK9vb2in4Hd62zLoNZ\n",
              "k6FZl6FZl6FZl8GsydCsy9BqaV2am5vjJz/5yQGPqWhAVtI///nPaGhoiN7e3jjuuOOqPU7NsC6D\n",
              "WZOhWZehWZehWZfBrMnQrMvQDrd18RI2AABZBCQAAFkEJAAAWUZsQBaLxbjhhhuiWCxWe5SaYl0G\n",
              "syZDsy5Dsy5Dsy6DWZOhWZehHW7rMmI/RAMAQHmM2GcgAQAoDwEJAEAWAQkAQJYRGZCbN2+Os846\n",
              "K6ZNmxZz586NTZs2VXukYdXS0hLTp0+Ptra2aGtriwcffDAiDny/y7Gv2q6++upoaWmJQqEQL730\n",
              "Uv/2Sq9DLa3R/tZkf4+ZiJG/JhERH330USxatCimTZsWs2bNioULF8aWLVsiIuLtt9+Or3/96zF1\n",
              "6tSYMWNGPPPMM/3Xq/S+SjrQmpx33nlx6qmn9j9efvGLX3ym+Q/3NfnUhRdeGDNnzoy2traYP39+\n",
              "bNiwISJG97klYv/rMtrPLxERq1evjkKhEI888khEjJLzShqBzj///LR69eqUUkq///3v0xe/+MXq\n",
              "DjTMmpub04YNGwZtP9D9Lse+anv66adTT0/PoPWo9DrU0hrtb03295hJaeSvSUop7dq1Kz322GNp\n",
              "z549KaWU7rzzznTuueemlFK6/PLL0w033JBSSqmrqytNnjw5ffzxx1XZV0kHWpNzzz03Pfzww0Ne\n",
              "bySvyafee++9/v9+6KGH0syZM1NKo/vcktL+12W0n1+2bt2avvzlL6d58+b1/7sZDeeVEReQO3fu\n",
              "TMcee2zavXt3SimlPXv2pJNOOilt3ry5ypMNn6H+sR7ofpdjXy3Zez0qvQ61ukafNSBH05rs7S9/\n",
              "+Utqbm5OKaX0uc99Lm3fvr1/39y5c9OTTz5ZlX3VtPeaHCggR9OapJTS6tWr06xZs5xb9vHpuqQ0\n",
              "us8vfX19acGCBWn9+vUD/t2MhvPKmPI/x1lZPT09MWnSpBgz5t93rVAoRFNTU3R3d8eUKVOqPN3w\n",
              "Wbx4caSUor29PW6++eYD3u+GhoZh31era1npdTic1mjfx8yECRNG7ePm9ttvj0suuSTeeeed2L17\n",
              "d0ycOLF/X0tLS3R3d1d8X7V9uiafWrFiRfz0pz+N008/PTo7O6O1tXVUrcnixYtj3bp1ERHx+OOP\n",
              "O7f8f/uuy97bR+P55bbbbouzzz475syZ079ttJxXRuR7IEe6Z555JjZu3BgvvvhijB8/PpYsWVLt\n",
              "kahxHjP/sWrVqtiyZUt0dnZWe5Sase+a3H///fHqq6/Gxo0bY/78+fHNb36zyhNW3n333Rc9PT1x\n",
              "0003xfLly6s9Ts0Yal1G6/nllVdeiTVr1sT1119f7VGqo6zPb1ZBrT29XW5///vf0zHHHDMqXirY\n",
              "Hy9hD3ag9yR9+phJaXS8xLS3W265Jc2ZM2fAe7nGjh2735d+Kr2vGoZak30Vi8X0j3/8I6U0OtZk\n",
              "X0cddVTasWOHc8s+jjrqqP7HxadG0/nlrrvuShMnTkzNzc2pubk5FYvFNGHChHTXXXeNivPKiAvI\n",
              "lP79/p2932A7Z86c6g40jD744IMBJ/pbb701zZ8/P6V04Ptdjn21Yt9YqvQ61OIa7b0mB3rMpDR6\n",
              "1uTWW29Ns2fPTu++++6A7UuWLBnw5vOTTz65/83nld5XaUOtye7du9OOHTv6f/7DH/6Qmpqa+n8e\n",
              "6Wvy3nvvpb/97W/9Pz/88MNp8uTJac+ePaP63LK/dXF++Y+93wM5Gs4rIzIgX3311TRv3rw0derU\n",
              "NGfOnLRx48ZqjzRs3njjjdTW1pbOOOOMNGPGjPStb30rbd26NaV04Ptdjn3VtmzZsjR58uRUX1+f\n",
              "TjzxxHTaaaellCq/DrW0RkOtyYEeM/9t/pGwJiml1NPTkyIitba2plmzZqVZs2al9vb2lFJKO3bs\n",
              "SAsXLkxTpkxJp59+evrTn/7Uf71K76uk/a3JBx98kObMmZNmzJiRZs6cmS644IL00ksvfab5D/c1\n",
              "SSmlbdu2pblz5/bf/wULFvT/z9hoPrfsb12cX/5j74AcDecV34UNAEAWH6IBACCLgAQAIIuABAAg\n",
              "i4AEACCLgAQAIIuABAAgi4AEACCLgAQAIIuABAAgi4AEACCLgAQAIMv/AYacIa8VyBE+AAAAAElF\n",
              "TkSuQmCC\n",
              "\">\n",
              "      </div>\n",
              "      <script type=\"text/javascript\">\n",
              "        (() => {\n",
              "          const chartElement = document.getElementById(\"chart-24991266-3a2e-45b8-846c-048966db83be\");\n",
              "          async function getCodeForChartHandler(event) {\n",
              "            const chartCodeResponse =  await google.colab.kernel.invokeFunction(\n",
              "                'getCodeForChart', [\"chart-24991266-3a2e-45b8-846c-048966db83be\"], {});\n",
              "            const responseJson = chartCodeResponse.data['application/json'];\n",
              "            await google.colab.notebook.addCell(responseJson.code, 'code');\n",
              "          }\n",
              "          chartElement.onclick = getCodeForChartHandler;\n",
              "        })();\n",
              "      </script>\n",
              "      <style>\n",
              "        .colab-quickchart-chart-with-code  {\n",
              "            display: block;\n",
              "            float: left;\n",
              "            border: 1px solid transparent;\n",
              "        }\n",
              "\n",
              "        .colab-quickchart-chart-with-code:hover {\n",
              "            cursor: pointer;\n",
              "            border: 1px solid #aaa;\n",
              "        }\n",
              "      </style>"
            ],
            "text/plain": [
              "from matplotlib import pyplot as plt\n",
              "data2['Topic'].plot(kind='line', figsize=(8, 4), title='Topic')\n",
              "plt.gca().spines[['top', 'right']].set_visible(False)"
            ]
          },
          "metadata": {},
          "output_type": "display_data"
        }
      ],
      "source": [
        "data2\n"
      ]
    },
    {
      "cell_type": "code",
      "execution_count": null,
      "metadata": {
        "colab": {
          "base_uri": "https://localhost:8080/",
          "height": 452
        },
        "id": "tqsgTQ4oUKpK",
        "outputId": "29daf960-b41a-4614-e71e-6710050f3bfc"
      },
      "outputs": [
        {
          "data": {
            "image/png": "[encoded data removed]",
            "text/plain": [
              "<Figure size 640x480 with 1 Axes>"
            ]
          },
          "metadata": {},
          "output_type": "display_data"
        }
      ],
      "source": [
        "from matplotlib import pyplot as plt\n",
        "data2['Topic'].plot(kind='hist', bins=20, title='Topic')\n",
        "plt.gca().spines[['top', 'right',]].set_visible(False)"
      ]
    },
    {
      "cell_type": "code",
      "execution_count": null,
      "metadata": {
        "id": "yTRk2jwoVsO2"
      },
      "outputs": [],
      "source": []
    },
    {
      "cell_type": "code",
      "execution_count": null,
      "metadata": {
        "id": "X8kjPLE8VsL1"
      },
      "outputs": [],
      "source": []
    },
    {
      "cell_type": "markdown",
      "metadata": {
        "id": "StatSMwBaKkM"
      },
      "source": [
        "### Topic modeling for vietnamese"
      ]
    },
    {
      "cell_type": "code",
      "execution_count": null,
      "metadata": {
        "id": "2lM07nIUWszf"
      },
      "outputs": [],
      "source": [
        "zip_file_path=\"/content/drive/MyDrive/ExtractedNews.zip\""
      ]
    },
    {
      "cell_type": "code",
      "execution_count": null,
      "metadata": {
        "id": "UhqL_HSwVqHy"
      },
      "outputs": [],
      "source": [
        "import zipfile\n",
        "import json"
      ]
    },
    {
      "cell_type": "code",
      "execution_count": null,
      "metadata": {
        "id": "CDyNdJnZVvw6"
      },
      "outputs": [],
      "source": [
        "with zipfile.ZipFile(zip_file_path, 'r') as zip_ref:\n",
        "\n",
        "    for file_info in zip_ref.infolist():\n",
        "\n",
        "        if file_info.filename.endswith('.json'):\n",
        "\n",
        "            with zip_ref.open(file_info) as json_file:\n",
        "                json_data = json.load(json_file)\n",
        "\n"
      ]
    },
    {
      "cell_type": "code",
      "execution_count": null,
      "metadata": {
        "colab": {
          "base_uri": "https://localhost:8080/",
          "height": 36
        },
        "id": "CcXUAR6HWc4G",
        "outputId": "55fb9f5e-0d60-4081-c4e1-bfec5d3abcf0"
      },
      "outputs": [
        {
          "data": {
            "application/vnd.google.colaboratory.intrinsic+json": {
              "type": "string"
            },
            "text/plain": [
              "'2021-12-23T17:43:04.472Z'"
            ]
          },
          "execution_count": 86,
          "metadata": {},
          "output_type": "execute_result"
        }
      ],
      "source": [
        "json_data[1]['date']\n"
      ]
    },
    {
      "cell_type": "code",
      "execution_count": null,
      "metadata": {
        "id": "aFkE5FwTXrmQ"
      },
      "outputs": [],
      "source": [
        "data=pd.DataFrame(columns=['url','content','date'])"
      ]
    },
    {
      "cell_type": "code",
      "execution_count": null,
      "metadata": {
        "colab": {
          "base_uri": "https://localhost:8080/"
        },
        "id": "oinGPJXXYcds",
        "outputId": "b36b6727-25da-4e55-ea23-6ab866dcf4ab"
      },
      "outputs": [
        {
          "name": "stderr",
          "output_type": "stream",
          "text": [
            "<ipython-input-87-dd832557aedf>:1: FutureWarning: The frame.append method is deprecated and will be removed from pandas in a future version. Use pandas.concat instead.\n",
            "  data=data.append(pd.DataFrame(json_data),ignore_index=True)\n"
          ]
        }
      ],
      "source": [
        "data=data.append(pd.DataFrame(json_data),ignore_index=True)"
      ]
    },
    {
      "cell_type": "code",
      "execution_count": null,
      "metadata": {
        "colab": {
          "base_uri": "https://localhost:8080/",
          "height": 206
        },
        "id": "7MDzFInKYrl_",
        "outputId": "6246e527-98aa-4d1d-c5f4-ca70a4c4958e"
      },
      "outputs": [
        {
          "data": {
            "application/vnd.google.colaboratory.intrinsic+json": {
              "repr_error": "'str' object has no attribute 'empty'",
              "type": "dataframe",
              "variable_name": "data"
            },
            "text/html": [
              "\n",
              "  <div id=\"df-a260cf1d-186c-4ade-9717-98a10b61844d\" class=\"colab-df-container\">\n",
              "    <div>\n",
              "<style scoped>\n",
              "    .dataframe tbody tr th:only-of-type {\n",
              "        vertical-align: middle;\n",
              "    }\n",
              "\n",
              "    .dataframe tbody tr th {\n",
              "        vertical-align: top;\n",
              "    }\n",
              "\n",
              "    .dataframe thead th {\n",
              "        text-align: right;\n",
              "    }\n",
              "</style>\n",
              "<table border=\"1\" class=\"dataframe\">\n",
              "  <thead>\n",
              "    <tr style=\"text-align: right;\">\n",
              "      <th></th>\n",
              "      <th>url</th>\n",
              "      <th>content</th>\n",
              "      <th>date</th>\n",
              "    </tr>\n",
              "  </thead>\n",
              "  <tbody>\n",
              "    <tr>\n",
              "      <th>0</th>\n",
              "      <td>https://vtv.vn/aff-suzuki-cup-2020/viet-nam-vs...</td>\n",
              "      <td>ĐT Việt Nam hoàn tất việc tập luyện chuẩn bị c...</td>\n",
              "      <td>2021-12-23T17:42:47.293Z</td>\n",
              "    </tr>\n",
              "    <tr>\n",
              "      <th>1</th>\n",
              "      <td>https://vtv.vn/kinh-te/dau-gia-dat-lien-tuc-la...</td>\n",
              "      <td>Đấu giá đất giá \"trên trời\" rồi... \"bỏ cọc chạ...</td>\n",
              "      <td>2021-12-23T17:43:04.472Z</td>\n",
              "    </tr>\n",
              "    <tr>\n",
              "      <th>2</th>\n",
              "      <td>https://vnexpress.net/nuoc-mat-nhan-tao-co-the...</td>\n",
              "      <td>Thứ năm, 23/12/2021, 08:00 (GMT+7)\\nNước mắt n...</td>\n",
              "      <td>2021-12-23T17:43:08.988Z</td>\n",
              "    </tr>\n",
              "    <tr>\n",
              "      <th>3</th>\n",
              "      <td>https://vnexpress.net/my-chi-15-000-usd-che-co...</td>\n",
              "      <td>Thứ năm, 23/12/2021, 14:23 (GMT+7)\\nMỹ chi 15....</td>\n",
              "      <td>2021-12-23T17:43:17.256Z</td>\n",
              "    </tr>\n",
              "    <tr>\n",
              "      <th>4</th>\n",
              "      <td>https://vnexpress.net/no-ro-dich-vu-tao-web-lu...</td>\n",
              "      <td>Thứ ba, 21/12/2021, 00:00 (GMT+7)\\nNở rộ dịch ...</td>\n",
              "      <td>2021-12-23T17:45:00.997Z</td>\n",
              "    </tr>\n",
              "  </tbody>\n",
              "</table>\n",
              "</div>\n",
              "    <div class=\"colab-df-buttons\">\n",
              "\n",
              "  <div class=\"colab-df-container\">\n",
              "    <button class=\"colab-df-convert\" onclick=\"convertToInteractive('df-a260cf1d-186c-4ade-9717-98a10b61844d')\"\n",
              "            title=\"Convert this dataframe to an interactive table.\"\n",
              "            style=\"display:none;\">\n",
              "\n",
              "  <svg xmlns=\"http://www.w3.org/2000/svg\" height=\"24px\" viewBox=\"0 -960 960 960\">\n",
              "    <path d=\"M120-120v-720h720v720H120Zm60-500h600v-160H180v160Zm220 220h160v-160H400v160Zm0 220h160v-160H400v160ZM180-400h160v-160H180v160Zm440 0h160v-160H620v160ZM180-180h160v-160H180v160Zm440 0h160v-160H620v160Z\"/>\n",
              "  </svg>\n",
              "    </button>\n",
              "\n",
              "  <style>\n",
              "    .colab-df-container {\n",
              "      display:flex;\n",
              "      gap: 12px;\n",
              "    }\n",
              "\n",
              "    .colab-df-convert {\n",
              "      background-color: #E8F0FE;\n",
              "      border: none;\n",
              "      border-radius: 50%;\n",
              "      cursor: pointer;\n",
              "      display: none;\n",
              "      fill: #1967D2;\n",
              "      height: 32px;\n",
              "      padding: 0 0 0 0;\n",
              "      width: 32px;\n",
              "    }\n",
              "\n",
              "    .colab-df-convert:hover {\n",
              "      background-color: #E2EBFA;\n",
              "      box-shadow: 0px 1px 2px rgba(60, 64, 67, 0.3), 0px 1px 3px 1px rgba(60, 64, 67, 0.15);\n",
              "      fill: #174EA6;\n",
              "    }\n",
              "\n",
              "    .colab-df-buttons div {\n",
              "      margin-bottom: 4px;\n",
              "    }\n",
              "\n",
              "    [theme=dark] .colab-df-convert {\n",
              "      background-color: #3B4455;\n",
              "      fill: #D2E3FC;\n",
              "    }\n",
              "\n",
              "    [theme=dark] .colab-df-convert:hover {\n",
              "      background-color: #434B5C;\n",
              "      box-shadow: 0px 1px 3px 1px rgba(0, 0, 0, 0.15);\n",
              "      filter: drop-shadow(0px 1px 2px rgba(0, 0, 0, 0.3));\n",
              "      fill: #FFFFFF;\n",
              "    }\n",
              "  </style>\n",
              "\n",
              "    <script>\n",
              "      const buttonEl =\n",
              "        document.querySelector('#df-a260cf1d-186c-4ade-9717-98a10b61844d button.colab-df-convert');\n",
              "      buttonEl.style.display =\n",
              "        google.colab.kernel.accessAllowed ? 'block' : 'none';\n",
              "\n",
              "      async function convertToInteractive(key) {\n",
              "        const element = document.querySelector('#df-a260cf1d-186c-4ade-9717-98a10b61844d');\n",
              "        const dataTable =\n",
              "          await google.colab.kernel.invokeFunction('convertToInteractive',\n",
              "                                                    [key], {});\n",
              "        if (!dataTable) return;\n",
              "\n",
              "        const docLinkHtml = 'Like what you see? Visit the ' +\n",
              "          '<a target=\"_blank\" href=https://colab.research.google.com/notebooks/data_table.ipynb>data table notebook</a>'\n",
              "          + ' to learn more about interactive tables.';\n",
              "        element.innerHTML = '';\n",
              "        dataTable['output_type'] = 'display_data';\n",
              "        await google.colab.output.renderOutput(dataTable, element);\n",
              "        const docLink = document.createElement('div');\n",
              "        docLink.innerHTML = docLinkHtml;\n",
              "        element.appendChild(docLink);\n",
              "      }\n",
              "    </script>\n",
              "  </div>\n",
              "\n",
              "\n",
              "<div id=\"df-d81280b9-45c8-420c-9986-e02727140250\">\n",
              "  <button class=\"colab-df-quickchart\" onclick=\"quickchart('df-d81280b9-45c8-420c-9986-e02727140250')\"\n",
              "            title=\"Suggest charts\"\n",
              "            style=\"display:none;\">\n",
              "\n",
              "<svg xmlns=\"http://www.w3.org/2000/svg\" height=\"24px\"viewBox=\"0 0 24 24\"\n",
              "     width=\"24px\">\n",
              "    <g>\n",
              "        <path d=\"M19 3H5c-1.1 0-2 .9-2 2v14c0 1.1.9 2 2 2h14c1.1 0 2-.9 2-2V5c0-1.1-.9-2-2-2zM9 17H7v-7h2v7zm4 0h-2V7h2v10zm4 0h-2v-4h2v4z\"/>\n",
              "    </g>\n",
              "</svg>\n",
              "  </button>\n",
              "\n",
              "<style>\n",
              "  .colab-df-quickchart {\n",
              "      --bg-color: #E8F0FE;\n",
              "      --fill-color: #1967D2;\n",
              "      --hover-bg-color: #E2EBFA;\n",
              "      --hover-fill-color: #174EA6;\n",
              "      --disabled-fill-color: #AAA;\n",
              "      --disabled-bg-color: #DDD;\n",
              "  }\n",
              "\n",
              "  [theme=dark] .colab-df-quickchart {\n",
              "      --bg-color: #3B4455;\n",
              "      --fill-color: #D2E3FC;\n",
              "      --hover-bg-color: #434B5C;\n",
              "      --hover-fill-color: #FFFFFF;\n",
              "      --disabled-bg-color: #3B4455;\n",
              "      --disabled-fill-color: #666;\n",
              "  }\n",
              "\n",
              "  .colab-df-quickchart {\n",
              "    background-color: var(--bg-color);\n",
              "    border: none;\n",
              "    border-radius: 50%;\n",
              "    cursor: pointer;\n",
              "    display: none;\n",
              "    fill: var(--fill-color);\n",
              "    height: 32px;\n",
              "    padding: 0;\n",
              "    width: 32px;\n",
              "  }\n",
              "\n",
              "  .colab-df-quickchart:hover {\n",
              "    background-color: var(--hover-bg-color);\n",
              "    box-shadow: 0 1px 2px rgba(60, 64, 67, 0.3), 0 1px 3px 1px rgba(60, 64, 67, 0.15);\n",
              "    fill: var(--button-hover-fill-color);\n",
              "  }\n",
              "\n",
              "  .colab-df-quickchart-complete:disabled,\n",
              "  .colab-df-quickchart-complete:disabled:hover {\n",
              "    background-color: var(--disabled-bg-color);\n",
              "    fill: var(--disabled-fill-color);\n",
              "    box-shadow: none;\n",
              "  }\n",
              "\n",
              "  .colab-df-spinner {\n",
              "    border: 2px solid var(--fill-color);\n",
              "    border-color: transparent;\n",
              "    border-bottom-color: var(--fill-color);\n",
              "    animation:\n",
              "      spin 1s steps(1) infinite;\n",
              "  }\n",
              "\n",
              "  @keyframes spin {\n",
              "    0% {\n",
              "      border-color: transparent;\n",
              "      border-bottom-color: var(--fill-color);\n",
              "      border-left-color: var(--fill-color);\n",
              "    }\n",
              "    20% {\n",
              "      border-color: transparent;\n",
              "      border-left-color: var(--fill-color);\n",
              "      border-top-color: var(--fill-color);\n",
              "    }\n",
              "    30% {\n",
              "      border-color: transparent;\n",
              "      border-left-color: var(--fill-color);\n",
              "      border-top-color: var(--fill-color);\n",
              "      border-right-color: var(--fill-color);\n",
              "    }\n",
              "    40% {\n",
              "      border-color: transparent;\n",
              "      border-right-color: var(--fill-color);\n",
              "      border-top-color: var(--fill-color);\n",
              "    }\n",
              "    60% {\n",
              "      border-color: transparent;\n",
              "      border-right-color: var(--fill-color);\n",
              "    }\n",
              "    80% {\n",
              "      border-color: transparent;\n",
              "      border-right-color: var(--fill-color);\n",
              "      border-bottom-color: var(--fill-color);\n",
              "    }\n",
              "    90% {\n",
              "      border-color: transparent;\n",
              "      border-bottom-color: var(--fill-color);\n",
              "    }\n",
              "  }\n",
              "</style>\n",
              "\n",
              "  <script>\n",
              "    async function quickchart(key) {\n",
              "      const quickchartButtonEl =\n",
              "        document.querySelector('#' + key + ' button');\n",
              "      quickchartButtonEl.disabled = true;  // To prevent multiple clicks.\n",
              "      quickchartButtonEl.classList.add('colab-df-spinner');\n",
              "      try {\n",
              "        const charts = await google.colab.kernel.invokeFunction(\n",
              "            'suggestCharts', [key], {});\n",
              "      } catch (error) {\n",
              "        console.error('Error during call to suggestCharts:', error);\n",
              "      }\n",
              "      quickchartButtonEl.classList.remove('colab-df-spinner');\n",
              "      quickchartButtonEl.classList.add('colab-df-quickchart-complete');\n",
              "    }\n",
              "    (() => {\n",
              "      let quickchartButtonEl =\n",
              "        document.querySelector('#df-d81280b9-45c8-420c-9986-e02727140250 button');\n",
              "      quickchartButtonEl.style.display =\n",
              "        google.colab.kernel.accessAllowed ? 'block' : 'none';\n",
              "    })();\n",
              "  </script>\n",
              "</div>\n",
              "    </div>\n",
              "  </div>\n"
            ],
            "text/plain": [
              "                                                 url  \\\n",
              "0  https://vtv.vn/aff-suzuki-cup-2020/viet-nam-vs...   \n",
              "1  https://vtv.vn/kinh-te/dau-gia-dat-lien-tuc-la...   \n",
              "2  https://vnexpress.net/nuoc-mat-nhan-tao-co-the...   \n",
              "3  https://vnexpress.net/my-chi-15-000-usd-che-co...   \n",
              "4  https://vnexpress.net/no-ro-dich-vu-tao-web-lu...   \n",
              "\n",
              "                                             content                      date  \n",
              "0  ĐT Việt Nam hoàn tất việc tập luyện chuẩn bị c...  2021-12-23T17:42:47.293Z  \n",
              "1  Đấu giá đất giá \"trên trời\" rồi... \"bỏ cọc chạ...  2021-12-23T17:43:04.472Z  \n",
              "2  Thứ năm, 23/12/2021, 08:00 (GMT+7)\\nNước mắt n...  2021-12-23T17:43:08.988Z  \n",
              "3  Thứ năm, 23/12/2021, 14:23 (GMT+7)\\nMỹ chi 15....  2021-12-23T17:43:17.256Z  \n",
              "4  Thứ ba, 21/12/2021, 00:00 (GMT+7)\\nNở rộ dịch ...  2021-12-23T17:45:00.997Z  "
            ]
          },
          "execution_count": 93,
          "metadata": {},
          "output_type": "execute_result"
        }
      ],
      "source": [
        "data.head()"
      ]
    },
    {
      "cell_type": "code",
      "execution_count": null,
      "metadata": {
        "id": "nzjNBGgAYsXC"
      },
      "outputs": [],
      "source": [
        "import gensim\n",
        "from gensim import corpora\n",
        "from gensim.models import LdaModel\n",
        "import numpy as np"
      ]
    },
    {
      "cell_type": "code",
      "execution_count": null,
      "metadata": {
        "id": "880MofXbaUAx"
      },
      "outputs": [],
      "source": [
        "from underthesea import word_tokenize\n",
        "\n"
      ]
    },
    {
      "cell_type": "code",
      "execution_count": null,
      "metadata": {
        "id": "vPslGf84akju"
      },
      "outputs": [],
      "source": [
        "content=data['content']"
      ]
    },
    {
      "cell_type": "code",
      "execution_count": null,
      "metadata": {
        "colab": {
          "base_uri": "https://localhost:8080/"
        },
        "id": "IDCJt1kYa7Fz",
        "outputId": "bf39bb70-7e2a-4b7c-c37c-d870758cf3c6"
      },
      "outputs": [
        {
          "data": {
            "text/plain": [
              "0       ĐT Việt Nam hoàn tất việc tập luyện chuẩn bị c...\n",
              "1       Đấu giá đất giá \"trên trời\" rồi... \"bỏ cọc chạ...\n",
              "2       Thứ năm, 23/12/2021, 08:00 (GMT+7)\\nNước mắt n...\n",
              "3       Thứ năm, 23/12/2021, 14:23 (GMT+7)\\nMỹ chi 15....\n",
              "4       Thứ ba, 21/12/2021, 00:00 (GMT+7)\\nNở rộ dịch ...\n",
              "                              ...                        \n",
              "1822    thuy.luu@baogiaothong.vn\\n18/12/2021 07:15\\nDù...\n",
              "1823    Bộ GTVT đề xuất thí điểm bay quốc tế thường lệ...\n",
              "1824    Luật Kinh doanh bảo hiểm cho phép doanh nghiệp...\n",
              "1825    Thứ năm, 23/12/2021, 07:29 (GMT+7)\\nOanh tạc c...\n",
              "1826    Ngân hàng tăng huy động vốn dài ngày để khắc p...\n",
              "Name: content, Length: 1827, dtype: object"
            ]
          },
          "execution_count": 101,
          "metadata": {},
          "output_type": "execute_result"
        }
      ],
      "source": [
        "content"
      ]
    },
    {
      "cell_type": "code",
      "execution_count": null,
      "metadata": {
        "id": "N7UNdVKpa7Cc"
      },
      "outputs": [],
      "source": [
        "tokenized_doc=[word_tokenize(doc) for doc in content]"
      ]
    },
    {
      "cell_type": "code",
      "execution_count": null,
      "metadata": {
        "colab": {
          "base_uri": "https://localhost:8080/"
        },
        "id": "8bz28SUnbIka",
        "outputId": "5f7ee325-d5ed-4e76-c8c7-a87e75dc86c3"
      },
      "outputs": [
        {
          "output_type": "execute_result",
          "data": {
            "text/plain": [
              "['Đấu giá',\n",
              " 'đất',\n",
              " 'giá',\n",
              " '\"',\n",
              " 'trên',\n",
              " 'trời',\n",
              " '\"',\n",
              " 'rồi',\n",
              " '...',\n",
              " '\"',\n",
              " 'bỏ',\n",
              " 'cọc chạy',\n",
              " 'lấy người',\n",
              " '\"',\n",
              " 'Giao dịch',\n",
              " 'chững',\n",
              " 'lại',\n",
              " 'chờ',\n",
              " 'tăng giá',\n",
              " 'quanh',\n",
              " 'khu',\n",
              " 'Thủ Thiêm Các',\n",
              " 'cuộc',\n",
              " 'đấu giá',\n",
              " 'đất',\n",
              " 'tại',\n",
              " 'các',\n",
              " 'địa phương',\n",
              " 'gần',\n",
              " 'đây',\n",
              " 'đã',\n",
              " 'gây',\n",
              " 'nên',\n",
              " 'các',\n",
              " 'cơn',\n",
              " '\"',\n",
              " 'địa chấn',\n",
              " '\"',\n",
              " 'trên',\n",
              " 'thị trường',\n",
              " 'bất động sản',\n",
              " '.',\n",
              " 'Nếu như',\n",
              " 'trước đây',\n",
              " ',',\n",
              " 'các',\n",
              " 'tiêu cực',\n",
              " 'trong',\n",
              " 'quá trình',\n",
              " 'đấu giá',\n",
              " 'thường',\n",
              " 'được',\n",
              " 'nhắc',\n",
              " 'tới',\n",
              " 'là',\n",
              " 'sử dụng',\n",
              " 'quân xanh',\n",
              " ',',\n",
              " 'quân',\n",
              " 'đỏ',\n",
              " ',',\n",
              " 'thỏa thuận',\n",
              " 'để',\n",
              " 'dìm giá',\n",
              " 'thì',\n",
              " 'nay',\n",
              " 'một',\n",
              " 'điều',\n",
              " 'ngược lại',\n",
              " 'đang',\n",
              " 'diễn',\n",
              " 'ra',\n",
              " 'đó',\n",
              " 'là',\n",
              " 'giá',\n",
              " 'trúng',\n",
              " 'đấu giá',\n",
              " 'cao',\n",
              " 'gấp',\n",
              " 'nhiều',\n",
              " 'lần',\n",
              " 'so',\n",
              " 'với',\n",
              " 'giá',\n",
              " 'khởi điểm',\n",
              " '.',\n",
              " 'Điểm',\n",
              " 'tích cực',\n",
              " 'là',\n",
              " 'việc',\n",
              " 'này',\n",
              " 'sẽ',\n",
              " 'mang',\n",
              " 'lại',\n",
              " 'nguồn',\n",
              " 'thu',\n",
              " 'ngân sách',\n",
              " 'dồi dào',\n",
              " 'cho',\n",
              " 'địa phương',\n",
              " ',',\n",
              " 'tuy nhiên',\n",
              " 'cũng',\n",
              " 'nảy sinh',\n",
              " 'lo ngại',\n",
              " 'là',\n",
              " 'tạo',\n",
              " 'nên',\n",
              " 'các',\n",
              " 'mức',\n",
              " 'giá',\n",
              " 'quá',\n",
              " 'cao',\n",
              " 'so',\n",
              " 'với',\n",
              " 'mặt bằng',\n",
              " 'chung',\n",
              " 'của',\n",
              " 'thị trường',\n",
              " '.',\n",
              " 'Như',\n",
              " 'sau',\n",
              " 'thương vụ',\n",
              " 'đấu giá',\n",
              " 'đất',\n",
              " 'tỷ đô',\n",
              " 'mới đây',\n",
              " 'tại',\n",
              " 'khu',\n",
              " 'đô thị',\n",
              " 'mới',\n",
              " 'Thủ Thiêm',\n",
              " 'đến',\n",
              " 'nay',\n",
              " 'thị trường',\n",
              " 'vẫn',\n",
              " 'chưa',\n",
              " 'hết',\n",
              " 'xôn xao',\n",
              " 'về',\n",
              " 'tác động',\n",
              " 'khi',\n",
              " 'nó',\n",
              " 'có thể',\n",
              " 'ảnh hưởng',\n",
              " 'đến',\n",
              " 'cả',\n",
              " 'giá',\n",
              " 'và',\n",
              " 'giao dịch',\n",
              " 'của',\n",
              " 'các',\n",
              " 'khu vực',\n",
              " 'lân cận',\n",
              " '.',\n",
              " 'Các',\n",
              " 'lô',\n",
              " 'đất',\n",
              " 'vừa',\n",
              " 'được',\n",
              " 'đấu giá',\n",
              " 'tại',\n",
              " 'khu',\n",
              " 'đô thị',\n",
              " 'mới',\n",
              " 'Thủ Thiêm',\n",
              " '.',\n",
              " 'Ảnh',\n",
              " ':',\n",
              " 'NLĐ Ném',\n",
              " '1',\n",
              " 'viên',\n",
              " 'đá',\n",
              " 'vào',\n",
              " 'giữa',\n",
              " 'lòng',\n",
              " 'hồ',\n",
              " 'yên tĩnh',\n",
              " 'và',\n",
              " 'nó',\n",
              " 'sẽ',\n",
              " 'tạo',\n",
              " 'nên',\n",
              " 'những',\n",
              " 'con',\n",
              " 'sóng',\n",
              " 'nhỏ',\n",
              " 'lan',\n",
              " 'ra',\n",
              " 'xung quanh',\n",
              " '-',\n",
              " 'đây',\n",
              " 'là',\n",
              " 'hình tượng',\n",
              " 'nhiều',\n",
              " 'chuyên gia',\n",
              " 'đã',\n",
              " 'dùng',\n",
              " 'để',\n",
              " 'so sánh',\n",
              " 'vụ',\n",
              " 'đấu giá',\n",
              " 'đất',\n",
              " 'vừa qua',\n",
              " 'tại',\n",
              " 'Thủ Thiêm',\n",
              " '.',\n",
              " 'Vụ',\n",
              " 'đấu giá',\n",
              " 'sẽ',\n",
              " 'có',\n",
              " 'tác động',\n",
              " 'lan tỏa',\n",
              " 'về',\n",
              " 'giá',\n",
              " 'đối với',\n",
              " 'hầu hết',\n",
              " 'các',\n",
              " 'loại',\n",
              " 'sản phẩm',\n",
              " 'bất động sản',\n",
              " 'khác',\n",
              " 'xung quanh',\n",
              " 'khu vực',\n",
              " 'Thủ Thiêm',\n",
              " 'hoặc',\n",
              " 'thậm chí',\n",
              " 'là',\n",
              " 'ra',\n",
              " 'tới',\n",
              " 'các',\n",
              " 'khu',\n",
              " 'vùng ven',\n",
              " 'TP',\n",
              " 'Hồ Chí Minh',\n",
              " 'trong',\n",
              " 'thời gian',\n",
              " 'tới',\n",
              " '.',\n",
              " 'Bằng chứng',\n",
              " 'là',\n",
              " 'những',\n",
              " 'ngày',\n",
              " 'gần',\n",
              " 'đây',\n",
              " ',',\n",
              " 'CTCP',\n",
              " 'bất động sản Hưng Hưng',\n",
              " 'Thịnh',\n",
              " 'nhận',\n",
              " 'được',\n",
              " 'yêu cầu',\n",
              " 'tăng giá',\n",
              " 'từ',\n",
              " 'chủ',\n",
              " 'đất',\n",
              " 'ký gửi',\n",
              " ',',\n",
              " 'giá',\n",
              " 'tăng',\n",
              " 'từ',\n",
              " '15',\n",
              " '-',\n",
              " '20',\n",
              " '%',\n",
              " 'so',\n",
              " 'với',\n",
              " 'trước',\n",
              " 'đấu giá',\n",
              " '.',\n",
              " 'Tuy nhiên',\n",
              " ',',\n",
              " 'đây',\n",
              " 'chỉ',\n",
              " 'là',\n",
              " 'giá',\n",
              " 'rao',\n",
              " 'dò',\n",
              " 'tâm lý',\n",
              " 'thị trường',\n",
              " 'không',\n",
              " 'có',\n",
              " 'giao dịch',\n",
              " 'nào',\n",
              " 'được',\n",
              " 'chốt',\n",
              " '.',\n",
              " '\"',\n",
              " 'Họ',\n",
              " 'tăng',\n",
              " 'như vậy',\n",
              " 'nhưng',\n",
              " 'không',\n",
              " 'bán',\n",
              " 'vì',\n",
              " 'có',\n",
              " 'khách',\n",
              " 'chốt',\n",
              " 'đặt cọc',\n",
              " 'họ',\n",
              " 'lại',\n",
              " 'nói',\n",
              " 'giờ',\n",
              " 'chưa',\n",
              " 'có',\n",
              " 'quyết định',\n",
              " 'được',\n",
              " '.',\n",
              " 'Nếu',\n",
              " 'có',\n",
              " 'người',\n",
              " 'mua',\n",
              " 'thì',\n",
              " 'họ',\n",
              " 'bắt đầu',\n",
              " 'tăng',\n",
              " 'tiếp',\n",
              " ',',\n",
              " 'thật ra',\n",
              " 'nói',\n",
              " 'vậy',\n",
              " 'chưa',\n",
              " 'bán',\n",
              " 'đâu',\n",
              " '.',\n",
              " 'Những',\n",
              " 'người',\n",
              " 'có',\n",
              " 'bất động sản',\n",
              " 'nhà',\n",
              " 'ở',\n",
              " 'hoặc',\n",
              " 'là',\n",
              " 'đất',\n",
              " 'để',\n",
              " 'làm',\n",
              " 'văn phòng',\n",
              " 'hiện tại',\n",
              " 'họ',\n",
              " 'đang',\n",
              " 'muốn',\n",
              " 'dừng',\n",
              " 'lại',\n",
              " 'hết',\n",
              " 'để',\n",
              " 'chờ',\n",
              " 'qua',\n",
              " 'Tết',\n",
              " 'xem',\n",
              " 'sao',\n",
              " '\"',\n",
              " ',',\n",
              " 'bà',\n",
              " 'Phan Thị Bích Trâm',\n",
              " '-',\n",
              " 'Chủ tịch',\n",
              " 'CTCP',\n",
              " 'bất động sản Hưng Hưng Thịnh',\n",
              " 'cho hay',\n",
              " '.',\n",
              " 'Với',\n",
              " 'mức',\n",
              " 'đấu giá',\n",
              " 'kỷ lục',\n",
              " 'được',\n",
              " 'thiết lập',\n",
              " 'thì',\n",
              " 'phân khúc',\n",
              " 'bất động sản',\n",
              " 'mà',\n",
              " 'một',\n",
              " 'doanh nghiệp',\n",
              " 'có thể',\n",
              " 'bán',\n",
              " 'phải',\n",
              " 'thuộc',\n",
              " 'hàng',\n",
              " 'siêu siêu',\n",
              " 'sang',\n",
              " 'ở',\n",
              " 'trên',\n",
              " 'đỉnh',\n",
              " '\"',\n",
              " 'quả',\n",
              " 'chuông',\n",
              " '\"',\n",
              " 'và',\n",
              " 'dành',\n",
              " 'cho',\n",
              " 'những',\n",
              " 'đối tượng',\n",
              " 'khách hàng',\n",
              " 'thực sự',\n",
              " 'đặc biệt',\n",
              " '.',\n",
              " 'Ở',\n",
              " 'Việt Nam',\n",
              " 'thì',\n",
              " 'sắp',\n",
              " 'tới',\n",
              " ',',\n",
              " 'sản phẩm',\n",
              " 'ở',\n",
              " 'mức',\n",
              " 'giá',\n",
              " 'này',\n",
              " 'vẫn',\n",
              " 'được',\n",
              " 'cho',\n",
              " 'là',\n",
              " 'có',\n",
              " 'người',\n",
              " 'mua',\n",
              " '.',\n",
              " 'Tuy nhiên',\n",
              " ',',\n",
              " 'việc',\n",
              " 'tăng giá',\n",
              " 'ở',\n",
              " 'phân khúc',\n",
              " 'trên',\n",
              " 'đỉnh',\n",
              " '\"',\n",
              " 'quả',\n",
              " 'chuông',\n",
              " '\"',\n",
              " 'sẽ',\n",
              " 'tác động',\n",
              " 'lan tỏa',\n",
              " 'làm',\n",
              " 'tăng giá',\n",
              " 'các',\n",
              " 'phân khúc',\n",
              " 'bên',\n",
              " 'dưới',\n",
              " 'nơi',\n",
              " 'dành',\n",
              " 'cho',\n",
              " 'nhà đầu tư',\n",
              " ',',\n",
              " 'cho',\n",
              " 'người',\n",
              " 'mua',\n",
              " 'ở',\n",
              " 'thực',\n",
              " '.',\n",
              " 'Theo',\n",
              " 'các',\n",
              " 'đơn vị',\n",
              " 'nghiên cứu',\n",
              " ',',\n",
              " 'nếu như',\n",
              " 'thị trường',\n",
              " 'bên',\n",
              " 'dưới',\n",
              " 'neo',\n",
              " 'giá',\n",
              " 'bên',\n",
              " 'trên',\n",
              " 'và',\n",
              " 'thiết lập',\n",
              " 'các',\n",
              " 'mặt bằng',\n",
              " 'giá',\n",
              " 'quá',\n",
              " 'cao',\n",
              " 'sẽ',\n",
              " 'dẫn',\n",
              " 'đến',\n",
              " 'tình trạng',\n",
              " 'mất',\n",
              " 'cân đối',\n",
              " 'cung',\n",
              " '-',\n",
              " 'cầu',\n",
              " 'và',\n",
              " 'thanh khoản',\n",
              " 'kém',\n",
              " '.',\n",
              " 'Ông',\n",
              " 'Phan Công Chánh',\n",
              " '-',\n",
              " 'chuyên gia',\n",
              " 'bất động sản',\n",
              " '-',\n",
              " 'cho',\n",
              " 'rằng',\n",
              " ',',\n",
              " 'thị trường',\n",
              " 'sắp',\n",
              " 'tới',\n",
              " 'sẽ',\n",
              " 'dễ',\n",
              " 'rơi',\n",
              " 'vào',\n",
              " 'trạng thái',\n",
              " 'khó',\n",
              " 'thanh khoản',\n",
              " ',',\n",
              " 'thậm chí',\n",
              " 'nhiều',\n",
              " 'giao dịch',\n",
              " 'dù',\n",
              " 'đã',\n",
              " 'đặt cọc',\n",
              " 'cũng',\n",
              " 'sẽ',\n",
              " 'dễ',\n",
              " 'rơi',\n",
              " 'vào',\n",
              " 'tranh chấp',\n",
              " '.',\n",
              " 'Theo',\n",
              " 'khảo sát',\n",
              " 'của',\n",
              " 'batdongsan.com.vn',\n",
              " ',',\n",
              " 'số lượng',\n",
              " 'tìm kiếm',\n",
              " 'đối với',\n",
              " 'phân khúc',\n",
              " 'căn hộ',\n",
              " 'có',\n",
              " 'mức',\n",
              " 'giá',\n",
              " 'trên',\n",
              " '40',\n",
              " '-',\n",
              " '50',\n",
              " 'triệu',\n",
              " 'đồng',\n",
              " 'trở',\n",
              " 'lên',\n",
              " 'ở',\n",
              " 'TP',\n",
              " 'Hồ Chí Minh',\n",
              " 'tương đối',\n",
              " 'thấp',\n",
              " '.',\n",
              " 'Nhu cầu',\n",
              " 'để',\n",
              " 'ở',\n",
              " 'của',\n",
              " 'thị trường',\n",
              " 'là',\n",
              " 'hơn',\n",
              " '60',\n",
              " '%',\n",
              " 'hiện',\n",
              " 'không thể',\n",
              " '\"',\n",
              " 'chạm',\n",
              " '\"',\n",
              " 'được',\n",
              " 'tới',\n",
              " 'mức',\n",
              " 'giá',\n",
              " 'này',\n",
              " '.',\n",
              " 'Do đó',\n",
              " ',',\n",
              " 'nếu như',\n",
              " 'có',\n",
              " 'sự',\n",
              " 'điều chỉnh',\n",
              " 'tăng giá',\n",
              " 'quá',\n",
              " 'cao',\n",
              " ',',\n",
              " 'giao dịch',\n",
              " 'cũng',\n",
              " 'sẽ',\n",
              " 'giảm',\n",
              " 'dần',\n",
              " 'dẫn',\n",
              " 'đến',\n",
              " 'những',\n",
              " 'rủi ro',\n",
              " 'khó',\n",
              " 'lường',\n",
              " 'khác',\n",
              " 'cho',\n",
              " 'thị trường',\n",
              " 'bất động sản',\n",
              " '.',\n",
              " 'Thị trường',\n",
              " 'bất động sản',\n",
              " '\"',\n",
              " 'dậy',\n",
              " 'sóng',\n",
              " '\"',\n",
              " 'từ',\n",
              " 'các',\n",
              " 'cuộc',\n",
              " 'đấu giá',\n",
              " 'đất',\n",
              " 'Một',\n",
              " 'vấn đề',\n",
              " 'khác',\n",
              " 'của',\n",
              " 'việc',\n",
              " 'giá',\n",
              " 'bị',\n",
              " 'đẩy',\n",
              " 'lên',\n",
              " 'quá',\n",
              " 'cao',\n",
              " ',',\n",
              " 'trong',\n",
              " 'các',\n",
              " 'cuộc',\n",
              " 'đấu giá',\n",
              " 'đất',\n",
              " 'hiện nay',\n",
              " 'tại',\n",
              " 'một số',\n",
              " 'địa phương',\n",
              " 'đó',\n",
              " 'là',\n",
              " 'nảy sinh',\n",
              " 'tình trạng',\n",
              " 'bỏ',\n",
              " 'cọc',\n",
              " '.',\n",
              " 'Khi',\n",
              " 'mà',\n",
              " 'bản chất',\n",
              " 'người',\n",
              " 'tham gia',\n",
              " 'đấu giá',\n",
              " 'có thể',\n",
              " 'lại',\n",
              " 'không',\n",
              " 'thực sự',\n",
              " 'là',\n",
              " 'người',\n",
              " 'có',\n",
              " 'nhu cầu',\n",
              " 'sử dụng',\n",
              " 'đất',\n",
              " ',',\n",
              " 'mà lại',\n",
              " 'là',\n",
              " 'các',\n",
              " 'nhóm',\n",
              " 'đầu cơ',\n",
              " 'muốn',\n",
              " 'tạo',\n",
              " 'ra',\n",
              " '\"',\n",
              " 'chợ',\n",
              " 'giao dịch',\n",
              " '\"',\n",
              " 'của',\n",
              " 'mình',\n",
              " '.',\n",
              " 'Tại',\n",
              " 'một',\n",
              " 'trong',\n",
              " 'những',\n",
              " 'mảnh',\n",
              " 'đất',\n",
              " 'đã',\n",
              " 'được',\n",
              " 'đưa',\n",
              " 'ra',\n",
              " 'đấu giá',\n",
              " 'tại',\n",
              " 'huyện',\n",
              " 'Yên Dũng',\n",
              " ',',\n",
              " 'tỉnh',\n",
              " 'Bắc Giang',\n",
              " 'trong',\n",
              " 'năm',\n",
              " '2021',\n",
              " ',',\n",
              " 'giá',\n",
              " 'thu',\n",
              " 'về',\n",
              " 'cao 1,8',\n",
              " 'lần',\n",
              " 'so',\n",
              " 'với',\n",
              " 'giá',\n",
              " 'khởi điểm',\n",
              " '.',\n",
              " 'Tuy nhiên',\n",
              " ',',\n",
              " 'tỷ lệ',\n",
              " 'bỏ',\n",
              " 'cọc',\n",
              " 'lên',\n",
              " 'tới',\n",
              " '33',\n",
              " '%',\n",
              " ',',\n",
              " 'tức',\n",
              " 'hơn',\n",
              " '1/3',\n",
              " 'số',\n",
              " 'người',\n",
              " 'đấu giá',\n",
              " 'đã',\n",
              " 'bỏ',\n",
              " 'cọc',\n",
              " '.',\n",
              " 'Một',\n",
              " 'loạt',\n",
              " 'các',\n",
              " 'sàn',\n",
              " 'giao dịch',\n",
              " ',',\n",
              " 'văn phòng',\n",
              " 'môi giới',\n",
              " 'đã',\n",
              " 'mọc',\n",
              " 'lên',\n",
              " 'ngay',\n",
              " 'trên',\n",
              " 'khu',\n",
              " 'đất',\n",
              " 'vừa',\n",
              " 'đấu giá',\n",
              " '.',\n",
              " 'Các',\n",
              " 'môi giới',\n",
              " 'cho',\n",
              " 'biết',\n",
              " ',',\n",
              " 'rất',\n",
              " 'nhiều',\n",
              " 'người',\n",
              " 'vừa',\n",
              " 'trúng',\n",
              " 'đấu giá',\n",
              " 'đã',\n",
              " 'ngay lập tức',\n",
              " 'gửi',\n",
              " 'lô',\n",
              " 'đất',\n",
              " 'tại',\n",
              " 'đây',\n",
              " 'để',\n",
              " 'bán',\n",
              " ',',\n",
              " 'thu',\n",
              " 'tiền',\n",
              " 'chênh lệch',\n",
              " 'từ',\n",
              " 'vài',\n",
              " 'chục',\n",
              " 'tới',\n",
              " 'hàng',\n",
              " 'trăm',\n",
              " 'triệu',\n",
              " 'đồng',\n",
              " 'tùy',\n",
              " 'từng',\n",
              " 'vị trí',\n",
              " '.',\n",
              " 'Ông',\n",
              " 'Nguyễn Văn Tuấn',\n",
              " '-',\n",
              " 'Văn phòng',\n",
              " 'Giao dịch',\n",
              " 'Bất động sản',\n",
              " 'Tuấn Hải',\n",
              " 'cho hay',\n",
              " ':',\n",
              " '\"',\n",
              " 'Họ',\n",
              " 'đấu',\n",
              " 'xong',\n",
              " 'họ',\n",
              " 'bán',\n",
              " 'ngay',\n",
              " 'cho',\n",
              " 'cánh',\n",
              " 'cò',\n",
              " ',',\n",
              " 'cánh',\n",
              " 'cò',\n",
              " 'lại',\n",
              " 'bán',\n",
              " 'cho',\n",
              " 'dân',\n",
              " 'nhưng',\n",
              " 'sau',\n",
              " 'không',\n",
              " 'bán',\n",
              " 'được',\n",
              " 'họ',\n",
              " 'bỏ',\n",
              " 'cọc',\n",
              " '\"',\n",
              " '.',\n",
              " '\"',\n",
              " 'Khi',\n",
              " 'họ',\n",
              " 'đấu giá',\n",
              " 'rõ ràng',\n",
              " 'họ',\n",
              " 'đã',\n",
              " 'không',\n",
              " 'xác định',\n",
              " 'mục tiêu',\n",
              " 'ban đầu',\n",
              " 'là',\n",
              " 'sử dụng',\n",
              " 'đất',\n",
              " ',',\n",
              " 'họ',\n",
              " 'đi',\n",
              " 'kinh doanh',\n",
              " 'để',\n",
              " 'có',\n",
              " 'lời',\n",
              " '.',\n",
              " 'Họ',\n",
              " 'trả giá',\n",
              " 'cao',\n",
              " ',',\n",
              " 'trong',\n",
              " 'thời hạn',\n",
              " 'chưa',\n",
              " 'phải',\n",
              " 'nộp',\n",
              " 'tiền',\n",
              " ',',\n",
              " 'họ',\n",
              " 'kỳ vọng',\n",
              " 'là',\n",
              " 'sẽ',\n",
              " 'lướt',\n",
              " 'sóng',\n",
              " 'và',\n",
              " 'bán',\n",
              " 'được',\n",
              " 'nhưng',\n",
              " 'thực tế',\n",
              " 'không',\n",
              " 'bán',\n",
              " 'được',\n",
              " 'sẽ',\n",
              " 'bỏ',\n",
              " 'cọc',\n",
              " '\"',\n",
              " ',',\n",
              " 'ông',\n",
              " 'Ngô Hồng Tuấn',\n",
              " '-',\n",
              " 'nhà đầu tư',\n",
              " 'nhận định',\n",
              " '.',\n",
              " 'Vài',\n",
              " 'tháng',\n",
              " 'trở lại',\n",
              " 'đây',\n",
              " ',',\n",
              " 'các',\n",
              " 'cuộc',\n",
              " 'đấu giá',\n",
              " 'đất',\n",
              " 'đang',\n",
              " 'thu hút',\n",
              " 'sự',\n",
              " 'quan tâm',\n",
              " 'lớn',\n",
              " 'của',\n",
              " 'các',\n",
              " 'nhà đầu tư',\n",
              " '.',\n",
              " 'Ảnh minh',\n",
              " 'họa',\n",
              " '-',\n",
              " 'Ảnh',\n",
              " ':',\n",
              " 'Dân trí',\n",
              " '.',\n",
              " 'Tình trạng',\n",
              " 'bỏ',\n",
              " 'cọc',\n",
              " 'cũng',\n",
              " 'diễn',\n",
              " 'ra',\n",
              " 'tại',\n",
              " 'nhiều',\n",
              " 'tỉnh thành',\n",
              " 'khác',\n",
              " 'như',\n",
              " 'Hà Nội',\n",
              " ',',\n",
              " 'Thanh Hóa',\n",
              " '.',\n",
              " 'Các',\n",
              " 'cuộc',\n",
              " 'đấu giá',\n",
              " 'đất',\n",
              " 'được',\n",
              " 'nhiều',\n",
              " 'nơi',\n",
              " 'tổ chức',\n",
              " 'liên tục',\n",
              " 'trong',\n",
              " 'thời gian',\n",
              " 'qua',\n",
              " '.',\n",
              " 'Lợi thế',\n",
              " 'của',\n",
              " 'các',\n",
              " 'sản phẩm',\n",
              " 'này',\n",
              " 'là',\n",
              " 'đã',\n",
              " 'xong',\n",
              " 'hạ tầng',\n",
              " ',',\n",
              " 'pháp lý',\n",
              " 'được',\n",
              " 'chính quyền',\n",
              " 'địa phương',\n",
              " 'đảm bảo',\n",
              " 'có thể',\n",
              " 'nhanh chóng',\n",
              " 'làm',\n",
              " 'sổ đỏ',\n",
              " '.',\n",
              " 'Tuy nhiên',\n",
              " ',',\n",
              " 'thay vì',\n",
              " 'đấu giá',\n",
              " 'đất',\n",
              " 'để',\n",
              " 'để',\n",
              " 'xây cất',\n",
              " 'nhà cửa',\n",
              " ',',\n",
              " 'ổn định',\n",
              " 'cuộc sống',\n",
              " ',',\n",
              " 'nhiều',\n",
              " 'cuộc',\n",
              " 'đấu giá',\n",
              " 'gần',\n",
              " 'đây',\n",
              " 'vô tình',\n",
              " 'trở thành',\n",
              " '\"',\n",
              " 'chợ',\n",
              " 'giao dịch',\n",
              " '\"',\n",
              " 'kiếm',\n",
              " 'lời',\n",
              " 'mới',\n",
              " 'của',\n",
              " 'các',\n",
              " 'nhóm',\n",
              " 'đầu cơ',\n",
              " 'đất',\n",
              " '.',\n",
              " 'Chiêu trò',\n",
              " 'thổi',\n",
              " 'giá',\n",
              " 'đất',\n",
              " 'từ',\n",
              " 'các',\n",
              " 'cuộc',\n",
              " 'đấu giá',\n",
              " 'Chính',\n",
              " 'từ',\n",
              " 'các',\n",
              " '\"',\n",
              " 'chợ',\n",
              " 'giao dịch',\n",
              " '\"',\n",
              " 'tự phát',\n",
              " 'như',\n",
              " 'trên',\n",
              " 'mà',\n",
              " 'mục đích',\n",
              " 'đưa',\n",
              " 'đất',\n",
              " 'vào',\n",
              " 'sử dụng',\n",
              " 'của',\n",
              " 'các',\n",
              " 'cuộc',\n",
              " 'đấu giá',\n",
              " 'không thể',\n",
              " 'thực hiện',\n",
              " 'được',\n",
              " '.',\n",
              " 'Chưa',\n",
              " 'kể',\n",
              " 'giá',\n",
              " 'trúng',\n",
              " 'đấu giá',\n",
              " 'tại',\n",
              " 'một số',\n",
              " ...]"
            ]
          },
          "metadata": {},
          "execution_count": 110
        }
      ],
      "source": [
        "tokenized_doc[1]"
      ]
    },
    {
      "cell_type": "code",
      "execution_count": null,
      "metadata": {
        "id": "kVhfaJsub53j",
        "colab": {
          "base_uri": "https://localhost:8080/"
        },
        "outputId": "4e896db1-82be-4efc-f1ba-2b983ff410d9"
      },
      "outputs": [
        {
          "output_type": "execute_result",
          "data": {
            "text/plain": [
              "1827"
            ]
          },
          "metadata": {},
          "execution_count": 109
        }
      ],
      "source": [
        "len(tokenized_doc)"
      ]
    },
    {
      "cell_type": "code",
      "execution_count": null,
      "metadata": {
        "id": "spjwOfhBZU79"
      },
      "outputs": [],
      "source": [
        "dictionary=corpora.Dictionary(tokenized_doc)"
      ]
    },
    {
      "cell_type": "code",
      "execution_count": null,
      "metadata": {
        "id": "uLZfuBNqZkvx",
        "colab": {
          "base_uri": "https://localhost:8080/"
        },
        "outputId": "aae87544-0e4b-497d-97bb-fcbbd490b9e6"
      },
      "outputs": [
        {
          "output_type": "execute_result",
          "data": {
            "text/plain": [
              "83977"
            ]
          },
          "metadata": {},
          "execution_count": 116
        }
      ],
      "source": [
        "len(dictionary)"
      ]
    },
    {
      "cell_type": "code",
      "execution_count": null,
      "metadata": {
        "id": "V0gx4gwVZs09"
      },
      "outputs": [],
      "source": [
        "corpus = [dictionary.doc2bow(doc) for doc in tokenized_doc]\n"
      ]
    },
    {
      "cell_type": "code",
      "source": [
        "lda_model=LdaModel(corpus,num_topics=7,id2word=dictionary)"
      ],
      "metadata": {
        "colab": {
          "base_uri": "https://localhost:8080/"
        },
        "id": "1473WwE7cuej",
        "outputId": "e291ff91-a73c-4cc4-df2f-4d57d00c42ee"
      },
      "execution_count": null,
      "outputs": [
        {
          "output_type": "stream",
          "name": "stderr",
          "text": [
            "WARNING:gensim.models.ldamodel:too few updates, training might not converge; consider increasing the number of passes or iterations to improve accuracy\n"
          ]
        }
      ]
    },
    {
      "cell_type": "code",
      "source": [
        "print(lda_model)"
      ],
      "metadata": {
        "colab": {
          "base_uri": "https://localhost:8080/"
        },
        "id": "vN_I-G1pdg-v",
        "outputId": "f0f5a8a0-ef75-4f0e-8b12-e3c477868aea"
      },
      "execution_count": null,
      "outputs": [
        {
          "output_type": "stream",
          "name": "stdout",
          "text": [
            "LdaModel<num_terms=83977, num_topics=7, decay=0.5, chunksize=2000>\n"
          ]
        }
      ]
    },
    {
      "cell_type": "code",
      "source": [
        "results=pd.DataFrame(columns=['content','Topic'])"
      ],
      "metadata": {
        "id": "cnSqKubCfAoI"
      },
      "execution_count": null,
      "outputs": []
    },
    {
      "cell_type": "code",
      "source": [
        "for i, doc in enumerate(tokenized_doc):\n",
        "  Bow=dictionary.doc2bow(doc)\n",
        "  topic_id,_=max(lda_model.get_document_topics(Bow),key=lambda x:x[1])\n",
        "\n",
        "  results.loc[i]=[''.join(content[i]),topic_id]\n"
      ],
      "metadata": {
        "id": "RjNvJXZJe01E"
      },
      "execution_count": null,
      "outputs": []
    },
    {
      "cell_type": "code",
      "source": [
        "results"
      ],
      "metadata": {
        "colab": {
          "base_uri": "https://localhost:8080/",
          "height": 423
        },
        "id": "l7WX7RZVfzLi",
        "outputId": "00bd4acd-100e-444e-98f2-e6d4adb7550a"
      },
      "execution_count": null,
      "outputs": [
        {
          "output_type": "execute_result",
          "data": {
            "text/plain": [
              "                                                content  Topic\n",
              "0     ĐT Việt Nam hoàn tất việc tập luyện chuẩn bị c...      4\n",
              "1     Đấu giá đất giá \"trên trời\" rồi... \"bỏ cọc chạ...      4\n",
              "2     Thứ năm, 23/12/2021, 08:00 (GMT+7)\\nNước mắt n...      5\n",
              "3     Thứ năm, 23/12/2021, 14:23 (GMT+7)\\nMỹ chi 15....      4\n",
              "4     Thứ ba, 21/12/2021, 00:00 (GMT+7)\\nNở rộ dịch ...      4\n",
              "...                                                 ...    ...\n",
              "1822  thuy.luu@baogiaothong.vn\\n18/12/2021 07:15\\nDù...      4\n",
              "1823  Bộ GTVT đề xuất thí điểm bay quốc tế thường lệ...      4\n",
              "1824  Luật Kinh doanh bảo hiểm cho phép doanh nghiệp...      5\n",
              "1825  Thứ năm, 23/12/2021, 07:29 (GMT+7)\\nOanh tạc c...      4\n",
              "1826  Ngân hàng tăng huy động vốn dài ngày để khắc p...      4\n",
              "\n",
              "[1827 rows x 2 columns]"
            ],
            "text/html": [
              "\n",
              "  <div id=\"df-5ffd0549-25e9-447d-a62d-a195bef5fb7a\" class=\"colab-df-container\">\n",
              "    <div>\n",
              "<style scoped>\n",
              "    .dataframe tbody tr th:only-of-type {\n",
              "        vertical-align: middle;\n",
              "    }\n",
              "\n",
              "    .dataframe tbody tr th {\n",
              "        vertical-align: top;\n",
              "    }\n",
              "\n",
              "    .dataframe thead th {\n",
              "        text-align: right;\n",
              "    }\n",
              "</style>\n",
              "<table border=\"1\" class=\"dataframe\">\n",
              "  <thead>\n",
              "    <tr style=\"text-align: right;\">\n",
              "      <th></th>\n",
              "      <th>content</th>\n",
              "      <th>Topic</th>\n",
              "    </tr>\n",
              "  </thead>\n",
              "  <tbody>\n",
              "    <tr>\n",
              "      <th>0</th>\n",
              "      <td>ĐT Việt Nam hoàn tất việc tập luyện chuẩn bị c...</td>\n",
              "      <td>4</td>\n",
              "    </tr>\n",
              "    <tr>\n",
              "      <th>1</th>\n",
              "      <td>Đấu giá đất giá \"trên trời\" rồi... \"bỏ cọc chạ...</td>\n",
              "      <td>4</td>\n",
              "    </tr>\n",
              "    <tr>\n",
              "      <th>2</th>\n",
              "      <td>Thứ năm, 23/12/2021, 08:00 (GMT+7)\\nNước mắt n...</td>\n",
              "      <td>5</td>\n",
              "    </tr>\n",
              "    <tr>\n",
              "      <th>3</th>\n",
              "      <td>Thứ năm, 23/12/2021, 14:23 (GMT+7)\\nMỹ chi 15....</td>\n",
              "      <td>4</td>\n",
              "    </tr>\n",
              "    <tr>\n",
              "      <th>4</th>\n",
              "      <td>Thứ ba, 21/12/2021, 00:00 (GMT+7)\\nNở rộ dịch ...</td>\n",
              "      <td>4</td>\n",
              "    </tr>\n",
              "    <tr>\n",
              "      <th>...</th>\n",
              "      <td>...</td>\n",
              "      <td>...</td>\n",
              "    </tr>\n",
              "    <tr>\n",
              "      <th>1822</th>\n",
              "      <td>thuy.luu@baogiaothong.vn\\n18/12/2021 07:15\\nDù...</td>\n",
              "      <td>4</td>\n",
              "    </tr>\n",
              "    <tr>\n",
              "      <th>1823</th>\n",
              "      <td>Bộ GTVT đề xuất thí điểm bay quốc tế thường lệ...</td>\n",
              "      <td>4</td>\n",
              "    </tr>\n",
              "    <tr>\n",
              "      <th>1824</th>\n",
              "      <td>Luật Kinh doanh bảo hiểm cho phép doanh nghiệp...</td>\n",
              "      <td>5</td>\n",
              "    </tr>\n",
              "    <tr>\n",
              "      <th>1825</th>\n",
              "      <td>Thứ năm, 23/12/2021, 07:29 (GMT+7)\\nOanh tạc c...</td>\n",
              "      <td>4</td>\n",
              "    </tr>\n",
              "    <tr>\n",
              "      <th>1826</th>\n",
              "      <td>Ngân hàng tăng huy động vốn dài ngày để khắc p...</td>\n",
              "      <td>4</td>\n",
              "    </tr>\n",
              "  </tbody>\n",
              "</table>\n",
              "<p>1827 rows × 2 columns</p>\n",
              "</div>\n",
              "    <div class=\"colab-df-buttons\">\n",
              "\n",
              "  <div class=\"colab-df-container\">\n",
              "    <button class=\"colab-df-convert\" onclick=\"convertToInteractive('df-5ffd0549-25e9-447d-a62d-a195bef5fb7a')\"\n",
              "            title=\"Convert this dataframe to an interactive table.\"\n",
              "            style=\"display:none;\">\n",
              "\n",
              "  <svg xmlns=\"http://www.w3.org/2000/svg\" height=\"24px\" viewBox=\"0 -960 960 960\">\n",
              "    <path d=\"M120-120v-720h720v720H120Zm60-500h600v-160H180v160Zm220 220h160v-160H400v160Zm0 220h160v-160H400v160ZM180-400h160v-160H180v160Zm440 0h160v-160H620v160ZM180-180h160v-160H180v160Zm440 0h160v-160H620v160Z\"/>\n",
              "  </svg>\n",
              "    </button>\n",
              "\n",
              "  <style>\n",
              "    .colab-df-container {\n",
              "      display:flex;\n",
              "      gap: 12px;\n",
              "    }\n",
              "\n",
              "    .colab-df-convert {\n",
              "      background-color: #E8F0FE;\n",
              "      border: none;\n",
              "      border-radius: 50%;\n",
              "      cursor: pointer;\n",
              "      display: none;\n",
              "      fill: #1967D2;\n",
              "      height: 32px;\n",
              "      padding: 0 0 0 0;\n",
              "      width: 32px;\n",
              "    }\n",
              "\n",
              "    .colab-df-convert:hover {\n",
              "      background-color: #E2EBFA;\n",
              "      box-shadow: 0px 1px 2px rgba(60, 64, 67, 0.3), 0px 1px 3px 1px rgba(60, 64, 67, 0.15);\n",
              "      fill: #174EA6;\n",
              "    }\n",
              "\n",
              "    .colab-df-buttons div {\n",
              "      margin-bottom: 4px;\n",
              "    }\n",
              "\n",
              "    [theme=dark] .colab-df-convert {\n",
              "      background-color: #3B4455;\n",
              "      fill: #D2E3FC;\n",
              "    }\n",
              "\n",
              "    [theme=dark] .colab-df-convert:hover {\n",
              "      background-color: #434B5C;\n",
              "      box-shadow: 0px 1px 3px 1px rgba(0, 0, 0, 0.15);\n",
              "      filter: drop-shadow(0px 1px 2px rgba(0, 0, 0, 0.3));\n",
              "      fill: #FFFFFF;\n",
              "    }\n",
              "  </style>\n",
              "\n",
              "    <script>\n",
              "      const buttonEl =\n",
              "        document.querySelector('#df-5ffd0549-25e9-447d-a62d-a195bef5fb7a button.colab-df-convert');\n",
              "      buttonEl.style.display =\n",
              "        google.colab.kernel.accessAllowed ? 'block' : 'none';\n",
              "\n",
              "      async function convertToInteractive(key) {\n",
              "        const element = document.querySelector('#df-5ffd0549-25e9-447d-a62d-a195bef5fb7a');\n",
              "        const dataTable =\n",
              "          await google.colab.kernel.invokeFunction('convertToInteractive',\n",
              "                                                    [key], {});\n",
              "        if (!dataTable) return;\n",
              "\n",
              "        const docLinkHtml = 'Like what you see? Visit the ' +\n",
              "          '<a target=\"_blank\" href=https://colab.research.google.com/notebooks/data_table.ipynb>data table notebook</a>'\n",
              "          + ' to learn more about interactive tables.';\n",
              "        element.innerHTML = '';\n",
              "        dataTable['output_type'] = 'display_data';\n",
              "        await google.colab.output.renderOutput(dataTable, element);\n",
              "        const docLink = document.createElement('div');\n",
              "        docLink.innerHTML = docLinkHtml;\n",
              "        element.appendChild(docLink);\n",
              "      }\n",
              "    </script>\n",
              "  </div>\n",
              "\n",
              "\n",
              "<div id=\"df-40a79009-b50d-483d-affe-fe166ce40749\">\n",
              "  <button class=\"colab-df-quickchart\" onclick=\"quickchart('df-40a79009-b50d-483d-affe-fe166ce40749')\"\n",
              "            title=\"Suggest charts\"\n",
              "            style=\"display:none;\">\n",
              "\n",
              "<svg xmlns=\"http://www.w3.org/2000/svg\" height=\"24px\"viewBox=\"0 0 24 24\"\n",
              "     width=\"24px\">\n",
              "    <g>\n",
              "        <path d=\"M19 3H5c-1.1 0-2 .9-2 2v14c0 1.1.9 2 2 2h14c1.1 0 2-.9 2-2V5c0-1.1-.9-2-2-2zM9 17H7v-7h2v7zm4 0h-2V7h2v10zm4 0h-2v-4h2v4z\"/>\n",
              "    </g>\n",
              "</svg>\n",
              "  </button>\n",
              "\n",
              "<style>\n",
              "  .colab-df-quickchart {\n",
              "      --bg-color: #E8F0FE;\n",
              "      --fill-color: #1967D2;\n",
              "      --hover-bg-color: #E2EBFA;\n",
              "      --hover-fill-color: #174EA6;\n",
              "      --disabled-fill-color: #AAA;\n",
              "      --disabled-bg-color: #DDD;\n",
              "  }\n",
              "\n",
              "  [theme=dark] .colab-df-quickchart {\n",
              "      --bg-color: #3B4455;\n",
              "      --fill-color: #D2E3FC;\n",
              "      --hover-bg-color: #434B5C;\n",
              "      --hover-fill-color: #FFFFFF;\n",
              "      --disabled-bg-color: #3B4455;\n",
              "      --disabled-fill-color: #666;\n",
              "  }\n",
              "\n",
              "  .colab-df-quickchart {\n",
              "    background-color: var(--bg-color);\n",
              "    border: none;\n",
              "    border-radius: 50%;\n",
              "    cursor: pointer;\n",
              "    display: none;\n",
              "    fill: var(--fill-color);\n",
              "    height: 32px;\n",
              "    padding: 0;\n",
              "    width: 32px;\n",
              "  }\n",
              "\n",
              "  .colab-df-quickchart:hover {\n",
              "    background-color: var(--hover-bg-color);\n",
              "    box-shadow: 0 1px 2px rgba(60, 64, 67, 0.3), 0 1px 3px 1px rgba(60, 64, 67, 0.15);\n",
              "    fill: var(--button-hover-fill-color);\n",
              "  }\n",
              "\n",
              "  .colab-df-quickchart-complete:disabled,\n",
              "  .colab-df-quickchart-complete:disabled:hover {\n",
              "    background-color: var(--disabled-bg-color);\n",
              "    fill: var(--disabled-fill-color);\n",
              "    box-shadow: none;\n",
              "  }\n",
              "\n",
              "  .colab-df-spinner {\n",
              "    border: 2px solid var(--fill-color);\n",
              "    border-color: transparent;\n",
              "    border-bottom-color: var(--fill-color);\n",
              "    animation:\n",
              "      spin 1s steps(1) infinite;\n",
              "  }\n",
              "\n",
              "  @keyframes spin {\n",
              "    0% {\n",
              "      border-color: transparent;\n",
              "      border-bottom-color: var(--fill-color);\n",
              "      border-left-color: var(--fill-color);\n",
              "    }\n",
              "    20% {\n",
              "      border-color: transparent;\n",
              "      border-left-color: var(--fill-color);\n",
              "      border-top-color: var(--fill-color);\n",
              "    }\n",
              "    30% {\n",
              "      border-color: transparent;\n",
              "      border-left-color: var(--fill-color);\n",
              "      border-top-color: var(--fill-color);\n",
              "      border-right-color: var(--fill-color);\n",
              "    }\n",
              "    40% {\n",
              "      border-color: transparent;\n",
              "      border-right-color: var(--fill-color);\n",
              "      border-top-color: var(--fill-color);\n",
              "    }\n",
              "    60% {\n",
              "      border-color: transparent;\n",
              "      border-right-color: var(--fill-color);\n",
              "    }\n",
              "    80% {\n",
              "      border-color: transparent;\n",
              "      border-right-color: var(--fill-color);\n",
              "      border-bottom-color: var(--fill-color);\n",
              "    }\n",
              "    90% {\n",
              "      border-color: transparent;\n",
              "      border-bottom-color: var(--fill-color);\n",
              "    }\n",
              "  }\n",
              "</style>\n",
              "\n",
              "  <script>\n",
              "    async function quickchart(key) {\n",
              "      const quickchartButtonEl =\n",
              "        document.querySelector('#' + key + ' button');\n",
              "      quickchartButtonEl.disabled = true;  // To prevent multiple clicks.\n",
              "      quickchartButtonEl.classList.add('colab-df-spinner');\n",
              "      try {\n",
              "        const charts = await google.colab.kernel.invokeFunction(\n",
              "            'suggestCharts', [key], {});\n",
              "      } catch (error) {\n",
              "        console.error('Error during call to suggestCharts:', error);\n",
              "      }\n",
              "      quickchartButtonEl.classList.remove('colab-df-spinner');\n",
              "      quickchartButtonEl.classList.add('colab-df-quickchart-complete');\n",
              "    }\n",
              "    (() => {\n",
              "      let quickchartButtonEl =\n",
              "        document.querySelector('#df-40a79009-b50d-483d-affe-fe166ce40749 button');\n",
              "      quickchartButtonEl.style.display =\n",
              "        google.colab.kernel.accessAllowed ? 'block' : 'none';\n",
              "    })();\n",
              "  </script>\n",
              "</div>\n",
              "    </div>\n",
              "  </div>\n"
            ],
            "application/vnd.google.colaboratory.intrinsic+json": {
              "type": "dataframe",
              "variable_name": "results",
              "summary": "{\n  \"name\": \"results\",\n  \"rows\": 1827,\n  \"fields\": [\n    {\n      \"column\": \"content\",\n      \"properties\": {\n        \"dtype\": \"string\",\n        \"num_unique_values\": 1763,\n        \"samples\": [\n          \"H\\u01b0\\u1edbng d\\u1eabn c\\u00e1ch vi\\u1ebft th\\u01b0 cho \\u00d4ng gi\\u00e0 Noel b\\u1eb1ng ti\\u1ebfng Anh\\n\\u00a0\\n\\u00a0\\n24/12/2018\\u00a0\\u00a013:38\\u00a0\\u00a0GMT+7\\nictnews H\\u00e3y tham kh\\u1ea3o qua c\\u1ea5u tr\\u00fac m\\u1ed9t b\\u1ee9c th\\u01b0 g\\u1eedi \\u00d4ng gi\\u00e0 Noel b\\u1eb1ng ti\\u1ebfng Anh hay v\\u00e0 ho\\u00e0n ch\\u1ec9nh, c\\u0169ng nh\\u01b0 m\\u1ed9t s\\u1ed1 b\\u1ee9c th\\u01b0 m\\u1eabu g\\u1eedi \\u00d4ng gi\\u00e0 Noel b\\u1eb1ng ti\\u1ebfng Anh.\\nH\\u01b0\\u1edbng d\\u1eabn c\\u00e1c b\\u1ea1n nh\\u1ecf vi\\u1ebft th\\u01b0 cho \\u00d4ng gi\\u00e0 Noel b\\u1eb1ng ti\\u1ebfng Anh l\\u00e0 \\u00fd t\\u01b0\\u1edfng hay khi vi\\u1ec7c n\\u00e0y v\\u1eeba t\\u1ea1o kh\\u00f4ng kh\\u00ed \\u0111\\u00f3n Gi\\u00e1ng sinh vui t\\u01b0\\u01a1i, n\\u0103ng \\u0111\\u1ed9ng cho tr\\u1ebb, l\\u1ea1i v\\u1eeba n\\u00e2ng cao \\u0111\\u00e1ng k\\u1ec3 kh\\u1ea3 n\\u0103ng s\\u1eed d\\u1ee5ng th\\u00e0nh th\\u1ea1o ti\\u1ebfng Anh c\\u1ee7a tr\\u1ebb.\\nB\\u00ean d\\u01b0\\u1edbi s\\u1ebd l\\u00e0 ph\\u1ea7n h\\u01b0\\u1edbng d\\u1eabn qua c\\u1ea5u tr\\u00fac m\\u1ed9t b\\u1ee9c th\\u01b0 g\\u1eedi \\u00d4ng gi\\u00e0 Noel hay v\\u00e0 ho\\u00e0n ch\\u1ec9nh, c\\u0169ng nh\\u01b0 gi\\u1edbi thi\\u1ec7u m\\u1ed9t s\\u1ed1 b\\u1ee9c th\\u01b0 m\\u1eabu g\\u1eedi \\u00d4ng gi\\u00e0 Noel b\\u1eb1ng ti\\u1ebfng Anh, t\\u1eeb \\u0111\\u00f3 c\\u00e1c b\\u00e9 c\\u00f3 th\\u1ec3 r\\u00fat ra \\u00fd t\\u01b0\\u1edfng cho b\\u1ee9c th\\u01b0 c\\u1ee7a m\\u00ecnh. N\\u1ebfu c\\u1ea7n th\\u00eam g\\u00ec, c\\u00e1c b\\u1ea1n nh\\u1ecf c\\u00f3 th\\u1ec3 h\\u1ecfi th\\u00eam gi\\u00e1o vi\\u00ean ti\\u1ebfng Anh c\\u1ee7a m\\u00ecnh.\\nT\\u1ea5t nhi\\u00ean d\\u00f9 vi\\u1ebft theo m\\u1eabu hay kh\\u00f4ng th\\u00ec trong m\\u1ed9t b\\u1ee9c th\\u01b0 g\\u1eedi \\u00d4ng gi\\u00e0 Noel hay, c\\u1ea3m h\\u1ee9ng t\\u1ef1 nhi\\u00ean v\\u00e0 ng\\u1ed9 ngh\\u0129nh c\\u1ee7a c\\u00e1c b\\u1ea1n nh\\u1ecf lu\\u00f4n r\\u1ea5t quan tr\\u1ecdng.\\nH\\u01b0\\u1edbng d\\u1eabn c\\u00e1ch vi\\u1ebft th\\u01b0 cho \\u00d4ng gi\\u00e0 Noel b\\u1eb1ng ti\\u1ebfng Anh\\nH\\u01b0\\u1edbng d\\u1eabn c\\u00e1c b\\u1ea1n nh\\u1ecf vi\\u1ebft th\\u01b0 cho \\u00d4ng gi\\u00e0 Noel b\\u1eb1ng ti\\u1ebfng Anh l\\u00e0 \\u00fd t\\u01b0\\u1edfng hay khi vi\\u1ec7c n\\u00e0y v\\u1eeba t\\u1ea1o kh\\u00f4ng kh\\u00ed \\u0111\\u00f3n Gi\\u00e1ng sinh vui t\\u01b0\\u01a1i, n\\u0103ng \\u0111\\u1ed9ng cho tr\\u1ebb, l\\u1ea1i v\\u1eeba n\\u00e2ng cao \\u0111\\u00e1ng k\\u1ec3 kh\\u1ea3 n\\u0103ng s\\u1eed d\\u1ee5ng th\\u00e0nh th\\u1ea1o ti\\u1ebfng Anh c\\u1ee7a tr\\u1ebb.\\nH\\u00e3y b\\u1eaft \\u0111\\u1ea7u l\\u00e1 th\\u01b0 b\\u1eb1ng l\\u1eddi ch\\u00e0o h\\u1ecfi th\\u1eadt l\\u1ec5 ph\\u00e9p nh\\u01b0: \\\"Dear Santa Claus,\\\"\\nSau \\u0111\\u00f3 m\\u1edf \\u0111\\u1ea7u l\\u00e1 th\\u01b0 b\\u1eb1ng c\\u00e2u gi\\u1edbi thi\\u1ec7u t\\u00ean, tu\\u1ed5i, \\u0111\\u1ecba ch\\u1ec9 (\\u0111i\\u1ec1n l\\u1ea7n l\\u01b0\\u1ee3t v\\u00e0o ch\\u1ed7 tr\\u1ed1ng): \\\"My name is \\u2026 I am \\u2026 years old. I am living in Vietnam\\\".\\nH\\u00e3y h\\u1ecfi th\\u0103m \\u00d4ng gi\\u00e0 Noel c\\u00f3 kh\\u1ecfe kh\\u00f4ng, v\\u00e0 h\\u1ecfi th\\u0103m c\\u1ea3 c\\u00e1c \\\"c\\u1ed9ng s\\u1ef1\\\" c\\u1ee7a \\u00d4ng. M\\u1ed9t s\\u1ed1 g\\u1ee3i \\u00fd: \\\"How have you been?\\\" ho\\u1eb7c \\\"How have the reindeer\\u00a0(tu\\u1ea7n l\\u1ed9c) and elves\\u00a0(c\\u00e1c ch\\u00fa l\\u00f9n) been?\\\".\\nK\\u1ec3 cho \\u00d4ng gi\\u00e0 Noel r\\u1eb1ng m\\u00ecnh lu\\u00f4n l\\u00e0 b\\u00e9 ngoan trong su\\u1ed1t n\\u0103m qua. G\\u1ee3i \\u00fd: \\\"This year I have been a good child. I am always nice to my sister, brother and friends. I always do my homework and help my parents by cleaning my room and put all of my toys back to their place\\\".\\nN\\u00f3i cho \\u00d4ng gi\\u00e0 Noel bi\\u1ebft m\\u00f3n qu\\u00e0 c\\u00e1c b\\u00e9 mong \\u01b0\\u1edbc trong Noel n\\u00e0y nh\\u00e9, c\\u00f3 th\\u1ec3 vi\\u1ebft l\\u00e0 \\\"I wish to have a new doll this Christmas\\\" ho\\u1eb7c \\\"All I want for this Christmas is a new schoolbag\\\".\\nH\\u00e3y c\\u1ea3m \\u01a1n \\u00d4ng gi\\u00e0 Noel v\\u00e0 k\\u1ebft th\\u00fac l\\u00e1 th\\u01b0 v\\u1edbi ch\\u1eef k\\u00fd c\\u1ee7a m\\u00ecnh nh\\u00e9. V\\u00ed d\\u1ee5 \\\"Thank you, Santa, for bringing so much joy to kids like me\\\" ho\\u1eb7c \\\"Thanks, Santa, for bringing me gifts every year\\\". V\\u00ec \\u00d4ng Noel lu\\u00f4n y\\u00eau m\\u1ebfn nh\\u1eefng tr\\u1ebb nh\\u1ecf l\\u1ec5 ph\\u00e9p v\\u00e0 l\\u1ecbch s\\u1ef1 n\\u00ean c\\u00e1c b\\u00e9 \\u0111\\u1eebng qu\\u00ean k\\u1ebft th\\u00fac th\\u01b0 b\\u1eb1ng ch\\u1eef \\\"Sincerely\\\" (ch\\u00e2n th\\u00e0nh), \\\"Love\\\" (th\\u00e2n m\\u1ebfn), ho\\u1eb7c \\\"Best wishes\\\" (Ch\\u00fac m\\u1ecdi \\u0111i\\u1ec1u t\\u1ed1t l\\u00e0nh).\\nB\\u00e0i m\\u1eabu vi\\u1ebft th\\u01b0 cho \\u00f4ng gi\\u00e0 Noel b\\u1eb1ng ti\\u1ebfng Anh hay nh\\u1ea5t\\nB\\u00e0i m\\u1eabu 1\\nDear Santa Claus,\\nMy name is Sally and I am 5 and 1/2 years old. I have been a very good girl this year. I help Mommy wash the dishes every night, and I listen to Daddy when he tells me to clean my room. I am also nice to my little brother, even though he can be really annoying sometimes.\\nThank you for all the presents last year. They were all really nice, and I played with all of them a lot. This year I would like a jump rope, a kitten, and a new bike. I really really want the bike.\\nPlease give my love to Mrs. Claus, the elves, and all the reindeer, especially Rudolph. I will leave some carrots for the reindeer next to your milk and cookies.\\n\\u00a0\\n\",\n          \"Ba d\\u00f2ng xe ph\\u00e2n kh\\u1ed1i l\\u1edbn c\\u1ee7a Honda g\\u1eb7p s\\u1ef1 c\\u1ed1 phanh ABS\\nCh\\u01b0\\u01a1ng tr\\u00ecnh tri\\u1ec7u h\\u1ed3i c\\u00e1c d\\u00f2ng xe Audi \\u0111\\u00e3 \\u0111\\u01b0\\u1ee3c C\\u1ee5c \\u0110\\u0103ng ki\\u1ec3m Vi\\u1ec7t Nam ph\\u00ea duy\\u1ec7t v\\u00e0 di\\u1ec5n ra t\\u1eeb ng\\u00e0y 15/11.\\nTheo th\\u00f4ng tin t\\u1eeb Audi Vi\\u1ec7t Nam, trong qu\\u00e1 tr\\u00ecnh nghi\\u00ean c\\u1ee9u, Audi AG \\u0111a\\u0303 pha\\u0301t hi\\u00ea\\u0323n ra tr\\u00ean m\\u1ed9t s\\u1ed1 xe Audi \\u0111\\u01b0\\u1ee3c s\\u1ea3n xu\\u1ea5t trong kho\\u1ea3ng th\\u1eddi gian t\\u1eeb 2019\\u00a0- 2021, c\\u00f3 m\\u1ed9t s\\u1ed1 \\u0111ai \\u1ed1c d\\u00f9ng \\u0111\\u1ec3 k\\u1ebft n\\u1ed1i d\\u1ea7m sau c\\u1ee7a xe v\\u00e0 thanh d\\u1eabn h\\u01b0\\u1edbng tr\\u00ean h\\u1ec7 th\\u1ed1ng treo tr\\u1ee5c sau c\\u00f3 th\\u1ec3 b\\u1ecb sai l\\u1ec7ch v\\u1ec1 th\\u00f4ng s\\u1ed1 \\u0111\\u1ed9 c\\u1ee9ng c\\u1ee7a v\\u1eadt li\\u1ec7u trong qu\\u00e1 tr\\u00ecnh ch\\u1ebf t\\u1ea1o, \\u0111i\\u1ec1u n\\u00e0y c\\u00f3 th\\u1ec3 g\\u00e2y ra s\\u1ef1 m\\u1ea5t li\\u00ean k\\u1ebft gi\\u1eefa b\\u00e1nh xe v\\u1edbi h\\u1ec7 th\\u1ed1ng treo tr\\u1ee5c sau.\\u00a0\\nAudi AG y\\u00eau c\\u1ea7u t\\u1ea5t c\\u1ea3 c\\u00e1c nh\\u00e0 nh\\u1eadp kh\\u1ea9u ch\\u00ednh th\\u1ee9c ti\\u1ebfn h\\u00e0nh ki\\u1ec3m tra danh s\\u00e1ch xe li\\u00ean quan, tri\\u1ec7u h\\u1ed3i \\u0111\\u1ec3 ki\\u1ec3m tra.\\nAudi Vi\\u1ec7t Nam x\\u00e1c nh\\u1eadn s\\u1ed1 l\\u01b0\\u1ee3ng xe b\\u00e1n ra t\\u1ea1i th\\u1ecb tr\\u01b0\\u1eddng Vi\\u1ec7t Nam thu\\u1ed9c di\\u1ec7n tri\\u1ec7u h\\u1ed3i l\\u00e0 104 chi\\u1ebfc g\\u1ed3m c\\u00e1c m\\u1eabu Audi A4, A6, A7 v\\u00e0 Q5, Q7, Q8. C\\u00e1c xe n\\u00e0y \\u0111\\u1ec1u l\\u00e0 xe nh\\u1eadp kh\\u1ea9u nguy\\u00ean chi\\u1ebfc v\\u1ec1 th\\u1ecb tr\\u01b0\\u1eddng Vi\\u1ec7t Nam.\\nD\\u00f2ng xe Audi A4 c\\u0169ng n\\u1eb1m trong di\\u1ec7n tri\\u1ec7u h\\u1ed3i. \\u1ea2nh: Thanh ni\\u00ean\\nAudi Vi\\u1ec7t Nam quy\\u1ebft \\u0111\\u1ecbnh th\\u1ef1c hi\\u1ec7n tri\\u1ec7u h\\u1ed3i toa\\u0300n b\\u00f4\\u0323 ca\\u0301c xe Audi c\\u00f3 th\\u1ec3 b\\u1ecb \\u1ea3nh h\\u01b0\\u1edfng \\u0111\\u01b0\\u01a1\\u0323c sa\\u0309n xu\\u00e2\\u0301t t\\u1eeb\\u00a0trong th\\u1eddi gian n\\u00f3i tr\\u00ean,\\u00a0\\u0111\\u01b0\\u1ee3c nh\\u00e2\\u0323p kh\\u00e2\\u0309u va\\u0300 ph\\u00e2n ph\\u00f4\\u0301i chi\\u0301nh th\\u01b0\\u0301c ta\\u0323i thi\\u0323 tr\\u01b0\\u01a1\\u0300ng Vi\\u00ea\\u0323t Nam \\u0111\\u1ec3 ki\\u1ec3m tra v\\u00e0 thay th\\u1ebf c\\u00e1c \\u0111ai \\u1ed1c n\\u00e0y.\\u00a0H\\u00e3ng xe kh\\u1eb3ng \\u0111\\u1ecbnh, c\\u00e1c m\\u1eabu xe Audi tr\\u00ean v\\u1eabn ho\\u1ea1t \\u0111\\u1ed9ng an to\\u00e0n t\\u1edbi th\\u1eddi \\u0111i\\u1ec3m ki\\u1ec3m tra.\\n\\u00a0\\nNh\\u00e0 ph\\u00e2n ph\\u1ed1i ch\\u00ednh th\\u1ee9c\\u00a0 Audi t\\u1ea1i Vi\\u1ec7t Nam l\\u00e0 C\\u00f4ng ty C\\u1ed5 ph\\u1ea7n Li\\u00ean \\u00c1 Qu\\u1ed1c T\\u1ebf cho hay, \\u0111ang li\\u00ean l\\u1ea1c tr\\u1ef1c ti\\u1ebfp t\\u1edbi t\\u1eebng ch\\u1ee7 xe Audi trong di\\u1ec7n \\u1ea3nh h\\u01b0\\u1edfng. Th\\u1eddi gian ki\\u1ec3m tra v\\u00e0 kh\\u1eafc ph\\u1ee5c l\\u00e0 1,5 gi\\u1edd cho m\\u1ed7i xe v\\u00e0 ho\\u00e0n to\\u00e0n mi\\u1ec5n ph\\u00ed.\\nB\\u00ean c\\u1ea1nh \\u0111\\u00f3, t\\u1ea5t c\\u1ea3 c\\u00e1c kh\\u00e1ch h\\u00e0ng Audi c\\u0169ng c\\u00f3 th\\u1ec3 tra c\\u1ee9u tr\\u1ef1c ti\\u1ebfp vi\\u1ec7c xe h\\u1ecd c\\u00f3 thu\\u1ed9c di\\u1ec7n tri\\u1ec7u h\\u1ed3i hay kh\\u00f4ng tr\\u00ean website www.audi.vn b\\u1eb1ng c\\u00e1ch \\u0111i\\u1ec1n s\\u1ed1 khung c\\u1ee7a xe.\\n\\u0110\\u1ed1i v\\u1edbi c\\u00e1c xe kh\\u00f4ng \\u0111\\u01b0\\u1ee3c ph\\u00e2n ph\\u1ed1i ch\\u00ednh h\\u00e3ng thu\\u1ed9c di\\u1ec7n tri\\u1ec7u h\\u1ed3i theo c\\u00f4ng b\\u1ed1 c\\u1ee7a AUDI AG, tr\\u00e1ch nhi\\u00ea\\u0323m tri\\u1ec7u h\\u1ed3i v\\u1ec1 c\\u01a1 b\\u1ea3n thu\\u1ed9c v\\u1ec1 c\\u00e1c c\\u01a1 s\\u1edf nh\\u1eadp kh\\u1ea9u. Tuy nhi\\u00ean, Audi Vi\\u00ea\\u0323t Nam s\\u1eb5n s\\u00e0ng h\\u1ed7 tr\\u1ee3 kh\\u00e1ch h\\u00e0ng li\\u00ean h\\u1ec7 v\\u1edbi Audi AG v\\u00e0 th\\u1ef1c hi\\u1ec7n ki\\u1ec3m tra, gia c\\u1ed1 khi \\u0111\\u01b0\\u1ee3c s\\u1ef1 ch\\u1ea5p thu\\u1eadn t\\u1eeb Audi AG (quy tr\\u00ecnh n\\u00e0y c\\u0169ng a\\u0301p du\\u0323ng cho xe nh\\u00e2\\u0323p kh\\u00e2\\u0309u theo da\\u0323ng di chuy\\u00ea\\u0309n ta\\u0300i sa\\u0309n hay ca\\u0301c xe Ngoa\\u0323i Giao).\\nPh\\u00fac Vinh\\nMercedes-Benz Vi\\u1ec7t Nam th\\u1ef1c hi\\u1ec7n\\u00a0ch\\u01b0\\u01a1ng tr\\u00ecnh tri\\u1ec7u h\\u1ed3i nhi\\u1ec1u d\\u00f2ng xe do l\\u1ed7i t\\u1eeb c\\u1ee5m t\\u00fai kh\\u00ed. T\\u1ed5ng s\\u1ed1 xe n\\u1eb1m trong di\\u1ec7n tri\\u1ec7u h\\u1ed3i h\\u01a1n 3.700 xe.\\n\\u00a0\\n\",\n          \"Th\\u1ee9 n\\u0103m, 23/12/2021, 12:48 (GMT+7)\\nV\\u00f5 Ho\\u00e0ng Y\\u1ebfn, Anh Th\\u01b0 t\\u00e1i xu\\u1ea5t s\\u00e0n catwalk\\nTP HCMV\\u00f5 Ho\\u00e0ng Y\\u1ebfn tr\\u1edf l\\u1ea1i s\\u00e0n di\\u1ec5n sau n\\u1eeda n\\u0103m \\u0111i M\\u1ef9, c\\u00f2n Anh Th\\u01b0 th\\u1ec3 hi\\u1ec7n phong \\u0111\\u1ed9 t\\u1ed1t d\\u00f9 kh\\u00f4ng catwalk v\\u00e0i n\\u0103m, t\\u1ed1i 22/12.\\nSi\\u00eau m\\u1eabu V\\u00f5 Ho\\u00e0ng Y\\u1ebfn \\\"khu\\u1ea5y \\u0111\\u1ea3o\\\" s\\u00e2n kh\\u1ea5u khi xu\\u1ea5t hi\\u1ec7n \\u1edf ph\\u1ea7n k\\u1ebft m\\u00e0n b\\u1ed9 s\\u01b0u t\\u1eadp c\\u1ee7a nh\\u00e0 thi\\u1ebft k\\u1ebf Qu\\u00fd Cao. C\\u00f4 di\\u1ec7n chi\\u1ebfc \\u00e1o d\\u00e0i c\\u00e1ch t\\u00e2n k\\u1ebft h\\u1ee3p n\\u00f3n l\\u00e1 truy\\u1ec1n th\\u1ed1ng t\\u00f4ng \\u0111\\u1ecf \\u0111\\u1eadm.\\n\\u00a0\\n\\u00a0\\nV\\u00f5 Ho\\u00e0ng Y\\u1ebfn, Anh Th\\u01b0, Nh\\u1eadt H\\u1ea1 catwalk\\nV\\u00f5 Ho\\u00e0ng Y\\u1ebfn, Anh Th\\u01b0, Nh\\u1eadt H\\u1ea1 catwalk. Ba ng\\u01b0\\u1eddi \\u0111\\u1eb9p t\\u00e1i xu\\u1ea5t sau nhi\\u1ec1u th\\u00e1ng ngh\\u1ec9 d\\u1ecbch trong \\u0111\\u00eam di\\u1ec5n th\\u1ee9 hai c\\u1ee7a Tu\\u1ea7n Th\\u1eddi trang qu\\u1ed1c t\\u1ebf Vi\\u1ec7t Nam.\\nNg\\u01b0\\u1eddi \\u0111\\u1eb9p h\\u00e1o h\\u1ee9c khi s\\u1ea3i b\\u01b0\\u1edbc tr\\u00ean s\\u00e0n catwalk sau c\\u1ea3 n\\u0103m ngh\\u1ec9 d\\u1ecbch. \\\"Tr\\u01b0\\u1edbc khi v\\u1ec1 Vi\\u1ec7t Nam, t\\u00f4i d\\u1eb7n qu\\u1ea3n l\\u00fd s\\u1eafp l\\u1ecbch d\\u00e0y \\u0111\\u1eb7c cho m\\u00ecnh. T\\u00f4i ngh\\u1ec9 ng\\u01a1i, vui ch\\u01a1i \\u1edf M\\u1ef9 s\\u00e1u th\\u00e1ng l\\u00e0 \\u0111\\u1ee7 r\\u1ed3i, b\\u00e2y gi\\u1edd mu\\u1ed1n lao v\\u00e0o l\\u00e0m vi\\u1ec7c ngay\\\", Ho\\u00e0ng Y\\u1ebfn n\\u00f3i.\\n\\u0110\\u1ea3m nh\\u1eadn vai tr\\u00f2 vedette b\\u1ed9 s\\u01b0u t\\u1eadp c\\u1ee7a nh\\u00e0 thi\\u1ebft k\\u1ebf Minh Ch\\u00e2u, ng\\u01b0\\u1eddi m\\u1eabu Anh Th\\u01b0 xu\\u1ea5t hi\\u1ec7n v\\u1edbi b\\u1ed9 \\u00e1o d\\u00e0i tr\\u1eafng v\\u00e0 m\\u1ea5n c\\u00e1ch \\u0111i\\u1ec7u, ph\\u1ed1i \\u00e1o cho\\u00e0ng g\\u1eafn l\\u00f4ng v\\u0169. C\\u00f4 th\\u1ef1c hi\\u1ec7n nh\\u1eefng b\\u01b0\\u1edbc \\u0111i \\u0111i\\u1ec1m t\\u0129nh, uy\\u1ec3n chuy\\u1ec3n, th\\u1ec3 hi\\u1ec7n phong \\u0111\\u1ed9 t\\u1ed1t d\\u00f9 \\u0111\\u00e3 r\\u1eddi xa s\\u00e0n di\\u1ec5n nhi\\u1ec1u n\\u0103m qua.\\nAnh Th\\u01b0 sinh n\\u0103m 1982 t\\u1ea1i TP HCM, t\\u1eebng l\\u00e0 vedette c\\u1ee7a nhi\\u1ec1u s\\u00e0n di\\u1ec5n th\\u1eddi trang th\\u1eadp ni\\u00ean 2000. C\\u00f4 c\\u00f2n ghi d\\u1ea5u \\u1ea5n qua c\\u00e1c phim \\\"Nh\\u1eefng c\\u00f4 g\\u00e1i ch\\u00e2n d\\u00e0i\\\", \\\"Hoa thi\\u00ean \\u0111i\\u1ec3u\\\", \\\"Tuy\\u1ebft nhi\\u1ec7t \\u0111\\u1edbi\\\", \\\"Em hi\\u1ec1n nh\\u01b0 ma s\\u01a1\\\"... Nh\\u1eefng n\\u0103m g\\u1ea7n \\u0111\\u00e2y, Anh Th\\u01b0 t\\u1eadp trung kinh doanh v\\u00e0 ch\\u0103m s\\u00f3c con c\\u00e1i. Th\\u1ec9nh tho\\u1ea3ng, c\\u00f4 m\\u1edbi nh\\u1eadn l\\u00e0m ng\\u01b0\\u1eddi m\\u1eabu \\u1ea3nh cho c\\u00e1c nh\\u00e0 thi\\u1ebft k\\u1ebf th\\u00e2n quen.\\nNg\\u01b0\\u1eddi \\u0111\\u1eb9p chuy\\u1ec3n gi\\u1edbi \\u0110\\u1ed7 Nh\\u1eadt H\\u1ea1 trong t\\u00e0 \\u00e1o d\\u00e0i h\\u1ecda ti\\u1ebft sen v\\u00e0ng, th\\u1ec3 hi\\u1ec7n tinh th\\u1ea7n h\\u1ed3i sinh sau d\\u1ecbch c\\u1ee7a b\\u1ed9 s\\u01b0u t\\u1eadp.\\n\\u00c1o d\\u00e0i c\\u1ee7a Minh Ch\\u00e2u v\\u1eabn gi\\u1eef phom d\\u00e1ng truy\\u1ec1n th\\u1ed1ng, \\u0111\\u01b0\\u1ee3c th\\u1ed5i y\\u1ebfu t\\u1ed1 hi\\u1ec7n \\u0111\\u1ea1i qua nh\\u1eefng h\\u1ecda ti\\u1ebft, ch\\u1ea5t li\\u1ec7u m\\u1edbi m\\u1ebb. Nh\\u00e0 thi\\u1ebft k\\u1ebf ch\\u1ecdn t\\u00f4ng m\\u00e0u tr\\u1ea7m ch\\u1ee7 \\u0111\\u1ea1o, \\u0111i\\u1ec3m xuy\\u1ebft nh\\u1eefng chi ti\\u1ebft \\u0111\\u00ednh k\\u1ebft c\\u1ea7u k\\u1ef3, b\\u1eaft m\\u1eaft d\\u00e0nh cho m\\u00f9a l\\u1ec5 h\\u1ed9i, m\\u00f9a c\\u01b0\\u1edbi.\\nNg\\u01b0\\u1eddi m\\u1eabu, di\\u1ec5n vi\\u00ean H\\u1ed3 Thu Anh th\\u1ec3 hi\\u1ec7n n\\u00e9t l\\u00e3ng m\\u1ea1n, c\\u1ed5 \\u0111i\\u1ec3n trong m\\u1ed9t thi\\u1ebft k\\u1ebf c\\u1ee7a b\\u1ed9 s\\u01b0u t\\u1eadp \\\"Twinkling Night\\\" thu\\u1ed9c th\\u01b0\\u01a1ng hi\\u1ec7u Metiseko (Ph\\u00e1p), l\\u1ea5y c\\u1ea3m h\\u1ee9ng t\\u1eeb nh\\u1eefng \\u0111\\u00eam h\\u00e8 ph\\u1ed1 c\\u1ed5. B\\u1ed9 trang ph\\u1ee5c c\\u1ed5 y\\u1ebfm c\\u00f3 h\\u1ecda ti\\u1ebft s\\u01b0 t\\u1eed H\\u1ed9i An tr\\u00ean n\\u1ec1n v\\u1ea3i cotton h\\u1eefu c\\u01a1 v\\u00e0 l\\u1ee5a t\\u01a1 t\\u1eb1m.\\nL\\u1ed1i trang \\u0111i\\u1ec3m v\\u00e0 l\\u00e0m t\\u00f3c gi\\u00fap di\\u1ec5n vi\\u00ean phim \\\"S\\u00e0i G\\u00f2n trong c\\u01a1n m\\u01b0a\\\" t\\u00f4n v\\u1ebb \\u0111\\u1eb9p \\u00c1 \\u0110\\u00f4ng.\\nTu\\u1ea7n th\\u1eddi trang Qu\\u1ed1c t\\u1ebf Vi\\u1ec7t Nam 2021 di\\u1ec5n ra t\\u1eeb ng\\u00e0y 21 \\u0111\\u1ebfn 23/12 t\\u1ea1i TP HCM. Ban \\u0111\\u1ea7u, ban t\\u1ed5 ch\\u1ee9c d\\u1ef1 \\u0111\\u1ecbnh di\\u1ec5n \\u1edf nh\\u00e0 thi \\u0111\\u1ea5u Nguy\\u1ec5n Du nh\\u01b0ng n\\u01a1i n\\u00e0y \\u0111ang \\u0111\\u01b0\\u1ee3c s\\u1eed d\\u1ee5ng l\\u00e0m b\\u1ec7nh vi\\u1ec7n d\\u00e3 chi\\u1ebfn. V\\u00ec v\\u1eady, h\\u1ecd ph\\u1ea3i chuy\\u1ec3n sang m\\u1ed9t \\u0111\\u1ecba \\u0111i\\u1ec3m kh\\u00e1c, ch\\u1ed7 ng\\u1ed3i h\\u1ea1n ch\\u1ebf h\\u01a1n, \\u1edf qu\\u1eadn 3. Tr\\u01b0\\u1edbc \\u0111\\u00f3, s\\u1ef1 ki\\u1ec7n m\\u00f9a Xu\\u00e2n H\\u00e8 t\\u1ea1i TP HCM b\\u1ecb h\\u1ee7y v\\u00ec d\\u1ecbch.\\nV\\u00e2n An (\\u1ea3nh: Ki\\u1ebfng C\\u1eadn)\\n\"\n        ],\n        \"semantic_type\": \"\",\n        \"description\": \"\"\n      }\n    },\n    {\n      \"column\": \"Topic\",\n      \"properties\": {\n        \"dtype\": \"number\",\n        \"std\": 1,\n        \"min\": 0,\n        \"max\": 6,\n        \"num_unique_values\": 7,\n        \"samples\": [\n          4,\n          5,\n          1\n        ],\n        \"semantic_type\": \"\",\n        \"description\": \"\"\n      }\n    }\n  ]\n}"
            }
          },
          "metadata": {},
          "execution_count": 140
        }
      ]
    },
    {
      "source": [
        "from matplotlib import pyplot as plt\n",
        "results['Topic'].plot(kind='hist', bins=20, title='Topic')\n",
        "plt.gca().spines[['top', 'right',]].set_visible(False)"
      ],
      "cell_type": "code",
      "metadata": {
        "colab": {
          "base_uri": "https://localhost:8080/",
          "height": 452
        },
        "id": "67nPnortf7HB",
        "outputId": "34920689-827f-4b1f-e611-174fd0a8b051"
      },
      "execution_count": null,
      "outputs": [
        {
          "output_type": "display_data",
          "data": {
            "text/plain": [
              "<Figure size 640x480 with 1 Axes>"
            ],
            "image/png": "[encoded data removed]"
          },
          "metadata": {}
        }
      ]
    },
    {
      "cell_type": "code",
      "source": [],
      "metadata": {
        "id": "zY0b_kytf3tS"
      },
      "execution_count": null,
      "outputs": []
    }
  ],
  "metadata": {
    "colab": {
      "provenance": []
    },
    "kernelspec": {
      "display_name": "Python 3",
      "name": "python3"
    },
    "language_info": {
      "name": "python"
    }
  },
  "nbformat": 4,
  "nbformat_minor": 0
}